{
 "cells": [
  {
   "cell_type": "code",
   "execution_count": 1,
   "metadata": {},
   "outputs": [],
   "source": [
    "import torch\n",
    "import torch.nn as nn\n",
    "import torch.optim as optim\n",
    "from torch.utils.data import DataLoader, random_split\n",
    "from torchvision import datasets, transforms\n",
    "import os"
   ]
  },
  {
   "cell_type": "code",
   "execution_count": 2,
   "metadata": {},
   "outputs": [],
   "source": [
    "# Parameters\n",
    "input_size = 64  # Adjust based on your dataset\n",
    "num_classes = 36  # Assuming 26 letters + 10 digits\n",
    "batch_size = 32\n",
    "num_epochs = 20\n",
    "learning_rate = 0.001\n",
    "validation_split = 0.2  # 20% validation set"
   ]
  },
  {
   "cell_type": "code",
   "execution_count": 5,
   "metadata": {},
   "outputs": [],
   "source": [
    "\n",
    "# Data Preparation\n",
    "transform = transforms.Compose([\n",
    "    transforms.Resize((input_size, input_size)),\n",
    "    transforms.ToTensor(),\n",
    "    transforms.Normalize(mean=[0.5, 0.5, 0.5], std=[0.5, 0.5, 0.5])  # Normalization\n",
    "])\n",
    "\n",
    "dataset = datasets.ImageFolder('C:\\\\Users\\\\DELL\\\\Downloads\\\\yolodataset\\\\captcha_dataset_yolo', transform=transform)\n",
    "\n"
   ]
  },
  {
   "cell_type": "code",
   "execution_count": 6,
   "metadata": {},
   "outputs": [],
   "source": [
    "# Split Dataset into Train and Validation\n",
    "dataset_size = len(dataset)\n",
    "val_size = int(validation_split * dataset_size)\n",
    "train_size = dataset_size - val_size\n",
    "\n",
    "train_dataset, val_dataset = random_split(dataset, [train_size, val_size])\n",
    "\n",
    "train_loader = DataLoader(train_dataset, batch_size=batch_size, shuffle=True)\n",
    "val_loader = DataLoader(val_dataset, batch_size=batch_size, shuffle=False)\n",
    "\n"
   ]
  },
  {
   "cell_type": "code",
   "execution_count": 7,
   "metadata": {},
   "outputs": [],
   "source": [
    "# CNN Model\n",
    "class CNN(nn.Module):\n",
    "    def __init__(self, num_classes):\n",
    "        super(CNN, self).__init__()\n",
    "        self.conv_layers = nn.Sequential(\n",
    "            nn.Conv2d(3, 32, kernel_size=3, stride=1, padding=1),\n",
    "            nn.ReLU(),\n",
    "            nn.MaxPool2d(kernel_size=2, stride=2),\n",
    "            nn.Conv2d(32, 64, kernel_size=3, stride=1, padding=1),\n",
    "            nn.ReLU(),\n",
    "            nn.MaxPool2d(kernel_size=2, stride=2),\n",
    "            nn.Conv2d(64, 128, kernel_size=3, stride=1, padding=1),\n",
    "            nn.ReLU(),\n",
    "            nn.MaxPool2d(kernel_size=2, stride=2)\n",
    "        )\n",
    "        self.fc_layers = nn.Sequential(\n",
    "            nn.Flatten(),\n",
    "            nn.Linear(128 * (input_size // 8) * (input_size // 8), 128),  # Adjust dimensions\n",
    "            nn.ReLU(),\n",
    "            nn.Dropout(0.5),\n",
    "            nn.Linear(128, num_classes)\n",
    "        )\n",
    "\n",
    "    def forward(self, x):\n",
    "        x = self.conv_layers(x)\n",
    "        x = self.fc_layers(x)\n",
    "        return x\n",
    "\n",
    "# Initialize Model, Loss, and Optimizer\n",
    "device = torch.device('cuda' if torch.cuda.is_available() else 'cpu')\n",
    "model = CNN(num_classes=num_classes).to(device)\n",
    "criterion = nn.CrossEntropyLoss()\n",
    "optimizer = optim.Adam(model.parameters(), lr=learning_rate)\n",
    "\n"
   ]
  },
  {
   "cell_type": "code",
   "execution_count": 8,
   "metadata": {},
   "outputs": [
    {
     "name": "stdout",
     "output_type": "stream",
     "text": [
      "Epoch 1/20\n",
      "Train Loss: 1.6509, Train Accuracy: 0.5443\n",
      "Val Loss: 0.1780, Val Accuracy: 0.9450\n",
      "Epoch 2/20\n",
      "Train Loss: 0.2784, Train Accuracy: 0.9189\n",
      "Val Loss: 0.0970, Val Accuracy: 0.9933\n",
      "Epoch 3/20\n",
      "Train Loss: 0.1555, Train Accuracy: 0.9534\n",
      "Val Loss: 0.0763, Val Accuracy: 0.9917\n",
      "Epoch 4/20\n",
      "Train Loss: 0.1251, Train Accuracy: 0.9567\n",
      "Val Loss: 0.0636, Val Accuracy: 0.9917\n",
      "Epoch 5/20\n",
      "Train Loss: 0.1276, Train Accuracy: 0.9563\n",
      "Val Loss: 0.0537, Val Accuracy: 0.9917\n",
      "Epoch 6/20\n",
      "Train Loss: 0.0906, Train Accuracy: 0.9705\n",
      "Val Loss: 0.0599, Val Accuracy: 0.9917\n",
      "Epoch 7/20\n",
      "Train Loss: 0.0651, Train Accuracy: 0.9784\n",
      "Val Loss: 0.1028, Val Accuracy: 0.9933\n",
      "Epoch 8/20\n",
      "Train Loss: 0.0825, Train Accuracy: 0.9742\n",
      "Val Loss: 0.0621, Val Accuracy: 0.9917\n",
      "Epoch 9/20\n",
      "Train Loss: 0.0527, Train Accuracy: 0.9854\n",
      "Val Loss: 0.0572, Val Accuracy: 0.9933\n",
      "Epoch 10/20\n",
      "Train Loss: 0.0629, Train Accuracy: 0.9804\n",
      "Val Loss: 0.0334, Val Accuracy: 0.9917\n",
      "Epoch 11/20\n",
      "Train Loss: 0.0496, Train Accuracy: 0.9867\n",
      "Val Loss: 0.0764, Val Accuracy: 0.9917\n",
      "Epoch 12/20\n",
      "Train Loss: 0.0541, Train Accuracy: 0.9838\n",
      "Val Loss: 0.0668, Val Accuracy: 0.9900\n",
      "Epoch 13/20\n",
      "Train Loss: 0.0373, Train Accuracy: 0.9875\n",
      "Val Loss: 0.0475, Val Accuracy: 0.9917\n",
      "Epoch 14/20\n",
      "Train Loss: 0.0461, Train Accuracy: 0.9854\n",
      "Val Loss: 0.0403, Val Accuracy: 0.9933\n",
      "Epoch 15/20\n",
      "Train Loss: 0.0531, Train Accuracy: 0.9854\n",
      "Val Loss: 0.0315, Val Accuracy: 0.9917\n",
      "Epoch 16/20\n",
      "Train Loss: 0.0393, Train Accuracy: 0.9896\n",
      "Val Loss: 0.0561, Val Accuracy: 0.9917\n",
      "Epoch 17/20\n",
      "Train Loss: 0.0398, Train Accuracy: 0.9888\n",
      "Val Loss: 0.0421, Val Accuracy: 0.9933\n",
      "Epoch 18/20\n",
      "Train Loss: 0.0740, Train Accuracy: 0.9784\n",
      "Val Loss: 0.0348, Val Accuracy: 0.9917\n",
      "Epoch 19/20\n",
      "Train Loss: 0.0595, Train Accuracy: 0.9834\n",
      "Val Loss: 0.0426, Val Accuracy: 0.9917\n",
      "Epoch 20/20\n",
      "Train Loss: 0.0370, Train Accuracy: 0.9904\n",
      "Val Loss: 0.0347, Val Accuracy: 0.9933\n"
     ]
    }
   ],
   "source": [
    "# Training Loop\n",
    "def train_model(model, train_loader, val_loader, criterion, optimizer, num_epochs):\n",
    "    for epoch in range(num_epochs):\n",
    "        model.train()\n",
    "        train_loss, train_correct = 0, 0\n",
    "\n",
    "        for images, labels in train_loader:\n",
    "            images, labels = images.to(device), labels.to(device)\n",
    "\n",
    "            # Forward pass\n",
    "            outputs = model(images)\n",
    "            loss = criterion(outputs, labels)\n",
    "            \n",
    "            # Backward pass and optimization\n",
    "            optimizer.zero_grad()\n",
    "            loss.backward()\n",
    "            optimizer.step()\n",
    "            \n",
    "            train_loss += loss.item() * images.size(0)\n",
    "            train_correct += (outputs.argmax(1) == labels).sum().item()\n",
    "\n",
    "        train_loss /= len(train_loader.dataset)\n",
    "        train_accuracy = train_correct / len(train_loader.dataset)\n",
    "\n",
    "        # Validation Loop\n",
    "        model.eval()\n",
    "        val_loss, val_correct = 0, 0\n",
    "\n",
    "        with torch.no_grad():\n",
    "            for images, labels in val_loader:\n",
    "                images, labels = images.to(device), labels.to(device)\n",
    "                outputs = model(images)\n",
    "                loss = criterion(outputs, labels)\n",
    "                \n",
    "                val_loss += loss.item() * images.size(0)\n",
    "                val_correct += (outputs.argmax(1) == labels).sum().item()\n",
    "\n",
    "        val_loss /= len(val_loader.dataset)\n",
    "        val_accuracy = val_correct / len(val_loader.dataset)\n",
    "\n",
    "        print(f\"Epoch {epoch+1}/{num_epochs}\")\n",
    "        print(f\"Train Loss: {train_loss:.4f}, Train Accuracy: {train_accuracy:.4f}\")\n",
    "        print(f\"Val Loss: {val_loss:.4f}, Val Accuracy: {val_accuracy:.4f}\")\n",
    "\n",
    "# Train the model\n",
    "train_model(model, train_loader, val_loader, criterion, optimizer, num_epochs)\n",
    "\n",
    "# Save the model\n",
    "torch.save(model.state_dict(), 'cnn_captcha_classifier.pth')\n"
   ]
  },
  {
   "cell_type": "code",
   "execution_count": 10,
   "metadata": {},
   "outputs": [
    {
     "name": "stdout",
     "output_type": "stream",
     "text": [
      "Predicted CAPTCHA character: n\n"
     ]
    }
   ],
   "source": [
    "# Test the model with a single image\n",
    "def predict_image(image_path):\n",
    "    image = preprocess_image(image_path, input_size)\n",
    "    image = image.to(device)\n",
    "    \n",
    "    with torch.no_grad():\n",
    "        output = model(image)\n",
    "        _, predicted_class = torch.max(output, 1)  # Get the class index with the highest score\n",
    "    \n",
    "    class_mapping = dataset.classes  # Mapping from indices to class labels\n",
    "    predicted_label = class_mapping[predicted_class.item()]\n",
    "    return predicted_label\n",
    "\n",
    "# Example usage\n",
    "image_path = \"C:\\\\Users\\\\DELL\\\\Downloads\\\\test1.jpg\"  # Path to your test image\n",
    "predicted_label = predict_image(image_path)\n",
    "print(f\"Predicted CAPTCHA character: {predicted_label}\")\n"
   ]
  },
  {
   "cell_type": "code",
   "execution_count": 12,
   "metadata": {},
   "outputs": [
    {
     "name": "stdout",
     "output_type": "stream",
     "text": [
      "Predicted CAPTCHA character: y\n"
     ]
    }
   ],
   "source": [
    "image_path = \"C:\\\\Users\\\\DELL\\\\Downloads\\\\yolodataset\\\\captcha_dataset_yolo\\\\y\\\\yzdg2_png.rf.ada08d674a475d5822638ec9c555e1b5.jpg_char0.jpg\"  # Path to your test image\n",
    "predicted_label = predict_image(image_path)\n",
    "print(f\"Predicted CAPTCHA character: {predicted_label}\")"
   ]
  },
  {
   "cell_type": "code",
   "execution_count": 13,
   "metadata": {},
   "outputs": [
    {
     "name": "stdout",
     "output_type": "stream",
     "text": [
      "Predicted CAPTCHA character: 8\n"
     ]
    }
   ],
   "source": [
    "image_path = \"C:\\\\Users\\\\DELL\\\\Downloads\\\\test2.jpg\"  # Path to your test image\n",
    "predicted_label = predict_image(image_path)\n",
    "print(f\"Predicted CAPTCHA character: {predicted_label}\")"
   ]
  },
  {
   "cell_type": "code",
   "execution_count": 21,
   "metadata": {},
   "outputs": [],
   "source": [
    "import seaborn as sns\n",
    "import matplotlib.pyplot as plt\n",
    "from sklearn.metrics import confusion_matrix\n",
    "\n",
    "def evaluate_model(model, data_loader):\n",
    "    model.eval()  # Set the model to evaluation mode\n",
    "    all_preds = []\n",
    "    all_labels = []\n",
    "\n",
    "    with torch.no_grad():\n",
    "        for images, labels in data_loader:\n",
    "            images, labels = images.to(device), labels.to(device)\n",
    "            outputs = model(images)\n",
    "            _, preds = torch.max(outputs, 1)  # Get predictions\n",
    "            all_preds.extend(preds.cpu().numpy())  # Store predicted labels\n",
    "            all_labels.extend(labels.cpu().numpy())  # Store true labels\n",
    "\n",
    "    # Calculate accuracy\n",
    "    accuracy = np.mean(np.array(all_preds) == np.array(all_labels))\n",
    "    print(f\"Accuracy: {accuracy * 100:.2f}%\")\n",
    "\n",
    "    # Classification Report\n",
    "    print(\"\\nClassification Report:\")\n",
    "    print(classification_report(all_labels, all_preds, target_names=dataset.classes))\n",
    "\n",
    "    # Confusion Matrix\n",
    "    cm = confusion_matrix(all_labels, all_preds)\n",
    "    print(\"\\nConfusion Matrix:\")\n",
    "    print(cm)\n",
    "\n",
    "    # Plot the Confusion Matrix using Seaborn\n",
    "    plt.figure(figsize=(10, 8))\n",
    "    sns.heatmap(cm, annot=True, fmt='d', cmap='Blues', xticklabels=dataset.classes, yticklabels=dataset.classes)\n",
    "    plt.xlabel('Predicted')\n",
    "    plt.ylabel('True')\n",
    "    plt.title('Confusion Matrix')\n",
    "    plt.show()\n",
    "\n",
    "    return accuracy\n"
   ]
  },
  {
   "cell_type": "code",
   "execution_count": 22,
   "metadata": {},
   "outputs": [
    {
     "name": "stdout",
     "output_type": "stream",
     "text": [
      "Accuracy: 99.33%\n",
      "\n",
      "Classification Report:\n",
      "              precision    recall  f1-score   support\n",
      "\n",
      "           2       1.00      0.93      0.97        30\n",
      "           3       1.00      1.00      1.00        17\n",
      "           4       1.00      1.00      1.00        17\n",
      "           5       1.00      1.00      1.00        10\n",
      "           6       1.00      1.00      1.00        16\n",
      "           7       1.00      1.00      1.00        17\n",
      "           8       1.00      1.00      1.00        15\n",
      "           9       1.00      1.00      1.00         5\n",
      "           a       1.00      1.00      1.00         9\n",
      "           b       1.00      1.00      1.00        22\n",
      "           c       1.00      1.00      1.00        12\n",
      "           d       1.00      1.00      1.00        21\n",
      "           e       1.00      1.00      1.00        22\n",
      "           f       1.00      1.00      1.00        24\n",
      "           g       1.00      0.96      0.98        28\n",
      "           h       1.00      1.00      1.00        24\n",
      "           i       1.00      1.00      1.00        19\n",
      "           j       0.88      1.00      0.94        15\n",
      "           k       1.00      1.00      1.00        16\n",
      "           m       1.00      1.00      1.00        15\n",
      "           n       1.00      1.00      1.00        18\n",
      "           o       0.95      1.00      0.97        19\n",
      "           p       1.00      1.00      1.00        13\n",
      "           q       0.94      1.00      0.97        16\n",
      "           r       1.00      1.00      1.00        25\n",
      "           s       1.00      1.00      1.00        18\n",
      "           t       1.00      0.95      0.98        22\n",
      "           u       1.00      1.00      1.00        27\n",
      "           v       1.00      1.00      1.00        20\n",
      "           w       1.00      1.00      1.00        21\n",
      "           x       1.00      1.00      1.00        14\n",
      "           y       1.00      1.00      1.00        15\n",
      "           z       1.00      1.00      1.00        18\n",
      "\n",
      "    accuracy                           0.99       600\n",
      "   macro avg       0.99      1.00      0.99       600\n",
      "weighted avg       0.99      0.99      0.99       600\n",
      "\n",
      "\n",
      "Confusion Matrix:\n",
      "[[28  0  0 ...  0  0  0]\n",
      " [ 0 17  0 ...  0  0  0]\n",
      " [ 0  0 17 ...  0  0  0]\n",
      " ...\n",
      " [ 0  0  0 ... 14  0  0]\n",
      " [ 0  0  0 ...  0 15  0]\n",
      " [ 0  0  0 ...  0  0 18]]\n"
     ]
    },
    {
     "data": {
      "image/png": "[encoded data removed]",
      "text/plain": [
       "<Figure size 1000x800 with 2 Axes>"
      ]
     },
     "metadata": {},
     "output_type": "display_data"
    },
    {
     "data": {
      "text/plain": [
       "0.9933333333333333"
      ]
     },
     "execution_count": 22,
     "metadata": {},
     "output_type": "execute_result"
    }
   ],
   "source": [
    "# Evaluate the model\n",
    "evaluate_model(model, val_loader)"
   ]
  },
  {
   "cell_type": "code",
   "execution_count": 35,
   "metadata": {},
   "outputs": [],
   "source": [
    "import seaborn as sns\n",
    "import matplotlib.pyplot as plt\n",
    "from sklearn.metrics import confusion_matrix, precision_score, recall_score, f1_score\n",
    "import numpy as np\n",
    "from sklearn.metrics import classification_report\n",
    "\n",
    "def evaluate_model_and_save_to_file(model, data_loader, output_file, average='macro'):\n",
    "    model.eval()  # Set the model to evaluation mode\n",
    "    all_preds = []\n",
    "    all_labels = []\n",
    "\n",
    "    with torch.no_grad():\n",
    "        for images, labels in data_loader:\n",
    "            images, labels = images.to(device), labels.to(device)\n",
    "            outputs = model(images)\n",
    "            _, preds = torch.max(outputs, 1)  # Get predictions\n",
    "            all_preds.extend(preds.cpu().numpy())  # Store predicted labels\n",
    "            all_labels.extend(labels.cpu().numpy())  # Store true labels\n",
    "\n",
    "    # Convert to numpy arrays for easier manipulation\n",
    "    all_preds = np.array(all_preds)\n",
    "    all_labels = np.array(all_labels)\n",
    "\n",
    "    # Calculate precision, recall, and F1-score with average\n",
    "    precision = precision_score(all_labels, all_preds, average=average)\n",
    "    recall = recall_score(all_labels, all_preds, average=average)\n",
    "    f1 = f1_score(all_labels, all_preds, average=average)\n",
    "\n",
    "    # Calculate accuracy\n",
    "    accuracy = np.mean(all_preds == all_labels)\n",
    "\n",
    "    # Prepare output content\n",
    "    output_content = f\"\"\"\n",
    "    Precision ({average}): {precision:.4f}\n",
    "    Recall ({average}): {recall:.4f}\n",
    "    F1 Score ({average}): {f1:.4f}\n",
    "    \n",
    "    Accuracy: {accuracy * 100:.2f}%\n",
    "\n",
    "    Classification Report:\n",
    "    {classification_report(all_labels, all_preds, target_names=dataset.classes)}\n",
    "\n",
    "    Confusion Matrix:\n",
    "    {confusion_matrix(all_labels, all_preds)}\n",
    "\n",
    "    \"\"\"\n",
    "\n",
    "    # Save the results to a text file\n",
    "    with open(output_file, 'w') as file:\n",
    "        file.write(output_content)\n",
    "    \n",
    "    print(f\"Metrics saved to {output_file}\")\n",
    "\n",
    "    # Optional: Confusion matrix plot\n",
    "    cm = confusion_matrix(all_labels, all_preds)\n",
    "    plt.figure(figsize=(10, 8))\n",
    "    sns.heatmap(cm, annot=True, fmt='d', cmap='Blues', xticklabels=dataset.classes, yticklabels=dataset.classes)\n",
    "    plt.xlabel('Predicted')\n",
    "    plt.ylabel('True')\n",
    "    plt.title('Confusion Matrix')\n",
    "    plt.show()\n",
    "\n",
    "    return accuracy\n"
   ]
  },
  {
   "cell_type": "code",
   "execution_count": 36,
   "metadata": {},
   "outputs": [
    {
     "name": "stdout",
     "output_type": "stream",
     "text": [
      "Metrics saved to metrics1.txt\n"
     ]
    },
    {
     "data": {
      "image/png": "[encoded data removed]",
      "text/plain": [
       "<Figure size 1000x800 with 2 Axes>"
      ]
     },
     "metadata": {},
     "output_type": "display_data"
    },
    {
     "data": {
      "text/plain": [
       "0.9933333333333333"
      ]
     },
     "execution_count": 36,
     "metadata": {},
     "output_type": "execute_result"
    }
   ],
   "source": [
    "# Example usage: Save the results to a file\n",
    "output_file = \"metrics1.txt\"  # Path to save the results\n",
    "evaluate_model_and_save_to_file(model, val_loader, output_file, average='macro')"
   ]
  }
 ],
 "metadata": {
  "kernelspec": {
   "display_name": "base",
   "language": "python",
   "name": "python3"
  },
  "language_info": {
   "codemirror_mode": {
    "name": "ipython",
    "version": 3
   },
   "file_extension": ".py",
   "mimetype": "text/x-python",
   "name": "python",
   "nbconvert_exporter": "python",
   "pygments_lexer": "ipython3",
   "version": "3.11.7"
  }
 },
 "nbformat": 4,
 "nbformat_minor": 2
}
