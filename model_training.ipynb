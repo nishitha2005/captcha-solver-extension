{
 "cells": [
  {
   "cell_type": "code",
   "execution_count": 1,
   "metadata": {},
   "outputs": [],
   "source": [
    "import torch"
   ]
  },
  {
   "cell_type": "code",
   "execution_count": 2,
   "metadata": {},
   "outputs": [
    {
     "name": "stdout",
     "output_type": "stream",
     "text": [
      "2.5.0+cpu\n"
     ]
    }
   ],
   "source": [
    "print(torch.__version__)"
   ]
  },
  {
   "cell_type": "code",
   "execution_count": null,
   "metadata": {},
   "outputs": [
    {
     "name": "stdout",
     "output_type": "stream",
     "text": [
      "Downloading https://github.com/ultralytics/assets/releases/download/v8.3.0/yolo11n.pt to 'yolo11n.pt'...\n"
     ]
    },
    {
     "name": "stderr",
     "output_type": "stream",
     "text": [
      "100%|██████████| 5.35M/5.35M [00:01<00:00, 3.62MB/s]\n"
     ]
    }
   ],
   "source": [
    "from ultralytics import YOLO\n",
    "mdel=YOLO(\"yolo11n.pt\")\n"
   ]
  },
  {
   "cell_type": "code",
   "execution_count": 7,
   "metadata": {},
   "outputs": [
    {
     "name": "stdout",
     "output_type": "stream",
     "text": [
      "New https://pypi.org/project/ultralytics/8.3.40 available  Update with 'pip install -U ultralytics'\n",
      "Ultralytics 8.3.26  Python-3.12.3 torch-2.5.0+cpu CPU (12th Gen Intel Core(TM) i5-1235U)\n",
      "\u001b[34m\u001b[1mengine\\trainer: \u001b[0mtask=detect, mode=train, model=yolo11n.pt, data=D:\\yolo+cnn\\data.yaml, epochs=50, time=None, patience=100, batch=16, imgsz=640, save=True, save_period=-1, cache=False, device=None, workers=8, project=None, name=train, exist_ok=False, pretrained=True, optimizer=auto, verbose=True, seed=0, deterministic=True, single_cls=False, rect=False, cos_lr=False, close_mosaic=10, resume=False, amp=True, fraction=1.0, profile=False, freeze=None, multi_scale=False, overlap_mask=True, mask_ratio=4, dropout=0.0, val=True, split=val, save_json=False, save_hybrid=False, conf=None, iou=0.7, max_det=300, half=False, dnn=False, plots=True, source=None, vid_stride=1, stream_buffer=False, visualize=False, augment=False, agnostic_nms=False, classes=None, retina_masks=False, embed=None, show=False, save_frames=False, save_txt=False, save_conf=False, save_crop=False, show_labels=True, show_conf=True, show_boxes=True, line_width=None, format=torchscript, keras=False, optimize=False, int8=False, dynamic=False, simplify=True, opset=None, workspace=4, nms=False, lr0=0.01, lrf=0.01, momentum=0.937, weight_decay=0.0005, warmup_epochs=3.0, warmup_momentum=0.8, warmup_bias_lr=0.1, box=7.5, cls=0.5, dfl=1.5, pose=12.0, kobj=1.0, label_smoothing=0.0, nbs=64, hsv_h=0.015, hsv_s=0.7, hsv_v=0.4, degrees=0.0, translate=0.1, scale=0.5, shear=0.0, perspective=0.0, flipud=0.0, fliplr=0.5, bgr=0.0, mosaic=1.0, mixup=0.0, copy_paste=0.0, copy_paste_mode=flip, auto_augment=randaugment, erasing=0.4, crop_fraction=1.0, cfg=None, tracker=botsort.yaml, save_dir=runs\\detect\\train\n",
      "Overriding model.yaml nc=80 with nc=33\n",
      "\n",
      "                   from  n    params  module                                       arguments                     \n",
      "  0                  -1  1       464  ultralytics.nn.modules.conv.Conv             [3, 16, 3, 2]                 \n",
      "  1                  -1  1      4672  ultralytics.nn.modules.conv.Conv             [16, 32, 3, 2]                \n",
      "  2                  -1  1      6640  ultralytics.nn.modules.block.C3k2            [32, 64, 1, False, 0.25]      \n",
      "  3                  -1  1     36992  ultralytics.nn.modules.conv.Conv             [64, 64, 3, 2]                \n",
      "  4                  -1  1     26080  ultralytics.nn.modules.block.C3k2            [64, 128, 1, False, 0.25]     \n",
      "  5                  -1  1    147712  ultralytics.nn.modules.conv.Conv             [128, 128, 3, 2]              \n",
      "  6                  -1  1     87040  ultralytics.nn.modules.block.C3k2            [128, 128, 1, True]           \n",
      "  7                  -1  1    295424  ultralytics.nn.modules.conv.Conv             [128, 256, 3, 2]              \n",
      "  8                  -1  1    346112  ultralytics.nn.modules.block.C3k2            [256, 256, 1, True]           \n",
      "  9                  -1  1    164608  ultralytics.nn.modules.block.SPPF            [256, 256, 5]                 \n",
      " 10                  -1  1    249728  ultralytics.nn.modules.block.C2PSA           [256, 256, 1]                 \n",
      " 11                  -1  1         0  torch.nn.modules.upsampling.Upsample         [None, 2, 'nearest']          \n",
      " 12             [-1, 6]  1         0  ultralytics.nn.modules.conv.Concat           [1]                           \n",
      " 13                  -1  1    111296  ultralytics.nn.modules.block.C3k2            [384, 128, 1, False]          \n",
      " 14                  -1  1         0  torch.nn.modules.upsampling.Upsample         [None, 2, 'nearest']          \n",
      " 15             [-1, 4]  1         0  ultralytics.nn.modules.conv.Concat           [1]                           \n",
      " 16                  -1  1     32096  ultralytics.nn.modules.block.C3k2            [256, 64, 1, False]           \n",
      " 17                  -1  1     36992  ultralytics.nn.modules.conv.Conv             [64, 64, 3, 2]                \n",
      " 18            [-1, 13]  1         0  ultralytics.nn.modules.conv.Concat           [1]                           \n",
      " 19                  -1  1     86720  ultralytics.nn.modules.block.C3k2            [192, 128, 1, False]          \n",
      " 20                  -1  1    147712  ultralytics.nn.modules.conv.Conv             [128, 128, 3, 2]              \n",
      " 21            [-1, 10]  1         0  ultralytics.nn.modules.conv.Concat           [1]                           \n",
      " 22                  -1  1    378880  ultralytics.nn.modules.block.C3k2            [384, 256, 1, True]           \n",
      " 23        [16, 19, 22]  1    437107  ultralytics.nn.modules.head.Detect           [33, [64, 128, 256]]          \n",
      "YOLO11n summary: 319 layers, 2,596,275 parameters, 2,596,259 gradients, 6.5 GFLOPs\n",
      "\n",
      "Transferred 448/499 items from pretrained weights\n",
      "\u001b[34m\u001b[1mTensorBoard: \u001b[0mStart with 'tensorboard --logdir runs\\detect\\train', view at http://localhost:6006/\n",
      "Freezing layer 'model.23.dfl.conv.weight'\n"
     ]
    },
    {
     "name": "stderr",
     "output_type": "stream",
     "text": [
      "\u001b[34m\u001b[1mtrain: \u001b[0mScanning D:\\yolo+cnn\\train\\labels... 600 images, 0 backgrounds, 0 corrupt: 100%|██████████| 600/600 [00:01<00:00, 366.75it/s]"
     ]
    },
    {
     "name": "stdout",
     "output_type": "stream",
     "text": [
      "\u001b[34m\u001b[1mtrain: \u001b[0mNew cache created: D:\\yolo+cnn\\train\\labels.cache\n"
     ]
    },
    {
     "name": "stderr",
     "output_type": "stream",
     "text": [
      "\n",
      "\u001b[34m\u001b[1mval: \u001b[0mScanning D:\\yolo+cnn\\valid\\labels... 25 images, 0 backgrounds, 0 corrupt: 100%|██████████| 25/25 [00:00<00:00, 296.50it/s]"
     ]
    },
    {
     "name": "stdout",
     "output_type": "stream",
     "text": [
      "\u001b[34m\u001b[1mval: \u001b[0mNew cache created: D:\\yolo+cnn\\valid\\labels.cache\n"
     ]
    },
    {
     "name": "stderr",
     "output_type": "stream",
     "text": [
      "\n"
     ]
    },
    {
     "name": "stdout",
     "output_type": "stream",
     "text": [
      "Plotting labels to runs\\detect\\train\\labels.jpg... \n",
      "\u001b[34m\u001b[1moptimizer:\u001b[0m 'optimizer=auto' found, ignoring 'lr0=0.01' and 'momentum=0.937' and determining best 'optimizer', 'lr0' and 'momentum' automatically... \n",
      "\u001b[34m\u001b[1moptimizer:\u001b[0m AdamW(lr=0.00027, momentum=0.9) with parameter groups 81 weight(decay=0.0), 88 weight(decay=0.0005), 87 bias(decay=0.0)\n",
      "\u001b[34m\u001b[1mTensorBoard: \u001b[0mmodel graph visualization added \n",
      "Image sizes 640 train, 640 val\n",
      "Using 0 dataloader workers\n",
      "Logging results to \u001b[1mruns\\detect\\train\u001b[0m\n",
      "Starting training for 50 epochs...\n",
      "\n",
      "      Epoch    GPU_mem   box_loss   cls_loss   dfl_loss  Instances       Size\n"
     ]
    },
    {
     "name": "stderr",
     "output_type": "stream",
     "text": [
      "       1/50         0G      1.318       4.49      1.176         69        640: 100%|██████████| 38/38 [04:46<00:00,  7.55s/it]\n",
      "                 Class     Images  Instances      Box(P          R      mAP50  mAP50-95): 100%|██████████| 1/1 [00:04<00:00,  4.93s/it]"
     ]
    },
    {
     "name": "stdout",
     "output_type": "stream",
     "text": [
      "                   all         25        125          0          0          0          0\n"
     ]
    },
    {
     "name": "stderr",
     "output_type": "stream",
     "text": [
      "\n"
     ]
    },
    {
     "name": "stdout",
     "output_type": "stream",
     "text": [
      "\n",
      "      Epoch    GPU_mem   box_loss   cls_loss   dfl_loss  Instances       Size\n"
     ]
    },
    {
     "name": "stderr",
     "output_type": "stream",
     "text": [
      "       2/50         0G      1.007      3.992     0.9994         90        640: 100%|██████████| 38/38 [06:16<00:00,  9.91s/it]\n",
      "                 Class     Images  Instances      Box(P          R      mAP50  mAP50-95): 100%|██████████| 1/1 [00:01<00:00,  1.43s/it]"
     ]
    },
    {
     "name": "stdout",
     "output_type": "stream",
     "text": [
      "                   all         25        125     0.0578      0.404      0.191      0.153\n"
     ]
    },
    {
     "name": "stderr",
     "output_type": "stream",
     "text": [
      "\n"
     ]
    },
    {
     "name": "stdout",
     "output_type": "stream",
     "text": [
      "\n",
      "      Epoch    GPU_mem   box_loss   cls_loss   dfl_loss  Instances       Size\n"
     ]
    },
    {
     "name": "stderr",
     "output_type": "stream",
     "text": [
      "       3/50         0G      1.005      3.478      1.017         65        640: 100%|██████████| 38/38 [04:58<00:00,  7.85s/it]\n",
      "                 Class     Images  Instances      Box(P          R      mAP50  mAP50-95): 100%|██████████| 1/1 [00:01<00:00,  1.36s/it]"
     ]
    },
    {
     "name": "stdout",
     "output_type": "stream",
     "text": [
      "                   all         25        125      0.749      0.373      0.478      0.372\n"
     ]
    },
    {
     "name": "stderr",
     "output_type": "stream",
     "text": [
      "\n"
     ]
    },
    {
     "name": "stdout",
     "output_type": "stream",
     "text": [
      "\n",
      "      Epoch    GPU_mem   box_loss   cls_loss   dfl_loss  Instances       Size\n"
     ]
    },
    {
     "name": "stderr",
     "output_type": "stream",
     "text": [
      "       4/50         0G      1.047      2.868      1.066         94        640: 100%|██████████| 38/38 [03:55<00:00,  6.20s/it]\n",
      "                 Class     Images  Instances      Box(P          R      mAP50  mAP50-95): 100%|██████████| 1/1 [00:01<00:00,  1.16s/it]"
     ]
    },
    {
     "name": "stdout",
     "output_type": "stream",
     "text": [
      "                   all         25        125      0.709      0.529      0.604      0.462\n"
     ]
    },
    {
     "name": "stderr",
     "output_type": "stream",
     "text": [
      "\n"
     ]
    },
    {
     "name": "stdout",
     "output_type": "stream",
     "text": [
      "\n",
      "      Epoch    GPU_mem   box_loss   cls_loss   dfl_loss  Instances       Size\n"
     ]
    },
    {
     "name": "stderr",
     "output_type": "stream",
     "text": [
      "       5/50         0G      1.048      2.271      1.093         90        640: 100%|██████████| 38/38 [05:19<00:00,  8.41s/it]\n",
      "                 Class     Images  Instances      Box(P          R      mAP50  mAP50-95): 100%|██████████| 1/1 [00:01<00:00,  1.37s/it]"
     ]
    },
    {
     "name": "stdout",
     "output_type": "stream",
     "text": [
      "                   all         25        125      0.786      0.786       0.83      0.618\n"
     ]
    },
    {
     "name": "stderr",
     "output_type": "stream",
     "text": [
      "\n"
     ]
    },
    {
     "name": "stdout",
     "output_type": "stream",
     "text": [
      "\n",
      "      Epoch    GPU_mem   box_loss   cls_loss   dfl_loss  Instances       Size\n"
     ]
    },
    {
     "name": "stderr",
     "output_type": "stream",
     "text": [
      "       6/50         0G      1.062      1.853      1.106         98        640: 100%|██████████| 38/38 [04:52<00:00,  7.69s/it]\n",
      "                 Class     Images  Instances      Box(P          R      mAP50  mAP50-95): 100%|██████████| 1/1 [00:01<00:00,  1.31s/it]"
     ]
    },
    {
     "name": "stdout",
     "output_type": "stream",
     "text": [
      "                   all         25        125      0.856      0.778      0.893      0.662\n"
     ]
    },
    {
     "name": "stderr",
     "output_type": "stream",
     "text": [
      "\n"
     ]
    },
    {
     "name": "stdout",
     "output_type": "stream",
     "text": [
      "\n",
      "      Epoch    GPU_mem   box_loss   cls_loss   dfl_loss  Instances       Size\n"
     ]
    },
    {
     "name": "stderr",
     "output_type": "stream",
     "text": [
      "       7/50         0G      1.055      1.594      1.114         88        640: 100%|██████████| 38/38 [04:03<00:00,  6.42s/it]\n",
      "                 Class     Images  Instances      Box(P          R      mAP50  mAP50-95): 100%|██████████| 1/1 [00:01<00:00,  1.20s/it]"
     ]
    },
    {
     "name": "stdout",
     "output_type": "stream",
     "text": [
      "                   all         25        125      0.743      0.881       0.94      0.716\n"
     ]
    },
    {
     "name": "stderr",
     "output_type": "stream",
     "text": [
      "\n"
     ]
    },
    {
     "name": "stdout",
     "output_type": "stream",
     "text": [
      "\n",
      "      Epoch    GPU_mem   box_loss   cls_loss   dfl_loss  Instances       Size\n"
     ]
    },
    {
     "name": "stderr",
     "output_type": "stream",
     "text": [
      "       8/50         0G      1.011      1.375      1.102        108        640: 100%|██████████| 38/38 [03:57<00:00,  6.26s/it]\n",
      "                 Class     Images  Instances      Box(P          R      mAP50  mAP50-95): 100%|██████████| 1/1 [00:01<00:00,  1.28s/it]"
     ]
    },
    {
     "name": "stdout",
     "output_type": "stream",
     "text": [
      "                   all         25        125      0.844      0.923      0.969      0.711\n"
     ]
    },
    {
     "name": "stderr",
     "output_type": "stream",
     "text": [
      "\n"
     ]
    },
    {
     "name": "stdout",
     "output_type": "stream",
     "text": [
      "\n",
      "      Epoch    GPU_mem   box_loss   cls_loss   dfl_loss  Instances       Size\n"
     ]
    },
    {
     "name": "stderr",
     "output_type": "stream",
     "text": [
      "       9/50         0G     0.9997       1.24      1.106         78        640: 100%|██████████| 38/38 [04:03<00:00,  6.41s/it]\n",
      "                 Class     Images  Instances      Box(P          R      mAP50  mAP50-95): 100%|██████████| 1/1 [00:01<00:00,  1.43s/it]"
     ]
    },
    {
     "name": "stdout",
     "output_type": "stream",
     "text": [
      "                   all         25        125       0.91      0.921      0.975      0.748\n"
     ]
    },
    {
     "name": "stderr",
     "output_type": "stream",
     "text": [
      "\n"
     ]
    },
    {
     "name": "stdout",
     "output_type": "stream",
     "text": [
      "\n",
      "      Epoch    GPU_mem   box_loss   cls_loss   dfl_loss  Instances       Size\n"
     ]
    },
    {
     "name": "stderr",
     "output_type": "stream",
     "text": [
      "      10/50         0G     0.9796      1.138      1.096         84        640: 100%|██████████| 38/38 [03:54<00:00,  6.17s/it]\n",
      "                 Class     Images  Instances      Box(P          R      mAP50  mAP50-95): 100%|██████████| 1/1 [00:01<00:00,  1.10s/it]"
     ]
    },
    {
     "name": "stdout",
     "output_type": "stream",
     "text": [
      "                   all         25        125      0.899      0.942      0.975      0.709\n"
     ]
    },
    {
     "name": "stderr",
     "output_type": "stream",
     "text": [
      "\n"
     ]
    },
    {
     "name": "stdout",
     "output_type": "stream",
     "text": [
      "\n",
      "      Epoch    GPU_mem   box_loss   cls_loss   dfl_loss  Instances       Size\n"
     ]
    },
    {
     "name": "stderr",
     "output_type": "stream",
     "text": [
      "      11/50         0G     0.9712      1.108      1.096         77        640: 100%|██████████| 38/38 [08:38<00:00, 13.65s/it]\n",
      "                 Class     Images  Instances      Box(P          R      mAP50  mAP50-95): 100%|██████████| 1/1 [00:01<00:00,  1.31s/it]"
     ]
    },
    {
     "name": "stdout",
     "output_type": "stream",
     "text": [
      "                   all         25        125      0.872      0.971      0.974      0.723\n"
     ]
    },
    {
     "name": "stderr",
     "output_type": "stream",
     "text": [
      "\n"
     ]
    },
    {
     "name": "stdout",
     "output_type": "stream",
     "text": [
      "\n",
      "      Epoch    GPU_mem   box_loss   cls_loss   dfl_loss  Instances       Size\n"
     ]
    },
    {
     "name": "stderr",
     "output_type": "stream",
     "text": [
      "      12/50         0G      0.965      1.023      1.092         95        640: 100%|██████████| 38/38 [10:35<00:00, 16.73s/it]\n",
      "                 Class     Images  Instances      Box(P          R      mAP50  mAP50-95): 100%|██████████| 1/1 [00:01<00:00,  1.78s/it]"
     ]
    },
    {
     "name": "stdout",
     "output_type": "stream",
     "text": [
      "                   all         25        125      0.879      0.983      0.975      0.761\n"
     ]
    },
    {
     "name": "stderr",
     "output_type": "stream",
     "text": [
      "\n"
     ]
    },
    {
     "name": "stdout",
     "output_type": "stream",
     "text": [
      "\n",
      "      Epoch    GPU_mem   box_loss   cls_loss   dfl_loss  Instances       Size\n"
     ]
    },
    {
     "name": "stderr",
     "output_type": "stream",
     "text": [
      "      13/50         0G     0.9342     0.9874      1.074         96        640: 100%|██████████| 38/38 [13:29<00:00, 21.30s/it]\n",
      "                 Class     Images  Instances      Box(P          R      mAP50  mAP50-95): 100%|██████████| 1/1 [00:09<00:00,  9.14s/it]\n"
     ]
    },
    {
     "name": "stdout",
     "output_type": "stream",
     "text": [
      "                   all         25        125      0.888      0.976      0.975      0.754\n",
      "\n",
      "      Epoch    GPU_mem   box_loss   cls_loss   dfl_loss  Instances       Size\n"
     ]
    },
    {
     "name": "stderr",
     "output_type": "stream",
     "text": [
      "      14/50         0G     0.9258     0.9413       1.07         77        640: 100%|██████████| 38/38 [13:57<00:00, 22.03s/it]\n",
      "                 Class     Images  Instances      Box(P          R      mAP50  mAP50-95): 100%|██████████| 1/1 [00:08<00:00,  8.41s/it]\n"
     ]
    },
    {
     "name": "stdout",
     "output_type": "stream",
     "text": [
      "                   all         25        125      0.918      0.972      0.974      0.759\n",
      "\n",
      "      Epoch    GPU_mem   box_loss   cls_loss   dfl_loss  Instances       Size\n"
     ]
    },
    {
     "name": "stderr",
     "output_type": "stream",
     "text": [
      "      15/50         0G     0.9171     0.9325      1.062         83        640: 100%|██████████| 38/38 [14:22<00:00, 22.70s/it]\n",
      "                 Class     Images  Instances      Box(P          R      mAP50  mAP50-95): 100%|██████████| 1/1 [00:07<00:00,  7.58s/it]\n"
     ]
    },
    {
     "name": "stdout",
     "output_type": "stream",
     "text": [
      "                   all         25        125      0.898      0.978      0.974      0.762\n",
      "\n",
      "      Epoch    GPU_mem   box_loss   cls_loss   dfl_loss  Instances       Size\n"
     ]
    },
    {
     "name": "stderr",
     "output_type": "stream",
     "text": [
      "      16/50         0G     0.9116     0.8963       1.06         93        640: 100%|██████████| 38/38 [05:29<00:00,  8.68s/it]\n",
      "                 Class     Images  Instances      Box(P          R      mAP50  mAP50-95): 100%|██████████| 1/1 [00:01<00:00,  1.44s/it]"
     ]
    },
    {
     "name": "stdout",
     "output_type": "stream",
     "text": [
      "                   all         25        125      0.928      0.975      0.974      0.768\n"
     ]
    },
    {
     "name": "stderr",
     "output_type": "stream",
     "text": [
      "\n"
     ]
    },
    {
     "name": "stdout",
     "output_type": "stream",
     "text": [
      "\n",
      "      Epoch    GPU_mem   box_loss   cls_loss   dfl_loss  Instances       Size\n"
     ]
    },
    {
     "name": "stderr",
     "output_type": "stream",
     "text": [
      "      17/50         0G     0.9086      0.894      1.061         96        640: 100%|██████████| 38/38 [17:15<00:00, 27.24s/it] \n",
      "                 Class     Images  Instances      Box(P          R      mAP50  mAP50-95): 100%|██████████| 1/1 [00:01<00:00,  1.35s/it]"
     ]
    },
    {
     "name": "stdout",
     "output_type": "stream",
     "text": [
      "                   all         25        125      0.937      0.989      0.974      0.721\n"
     ]
    },
    {
     "name": "stderr",
     "output_type": "stream",
     "text": [
      "\n"
     ]
    },
    {
     "name": "stdout",
     "output_type": "stream",
     "text": [
      "\n",
      "      Epoch    GPU_mem   box_loss   cls_loss   dfl_loss  Instances       Size\n"
     ]
    },
    {
     "name": "stderr",
     "output_type": "stream",
     "text": [
      "      18/50         0G     0.9068     0.8785      1.053         81        640: 100%|██████████| 38/38 [03:47<00:00,  5.98s/it]\n",
      "                 Class     Images  Instances      Box(P          R      mAP50  mAP50-95): 100%|██████████| 1/1 [00:01<00:00,  1.34s/it]"
     ]
    },
    {
     "name": "stdout",
     "output_type": "stream",
     "text": [
      "                   all         25        125      0.928      0.977      0.975       0.75\n"
     ]
    },
    {
     "name": "stderr",
     "output_type": "stream",
     "text": [
      "\n"
     ]
    },
    {
     "name": "stdout",
     "output_type": "stream",
     "text": [
      "\n",
      "      Epoch    GPU_mem   box_loss   cls_loss   dfl_loss  Instances       Size\n"
     ]
    },
    {
     "name": "stderr",
     "output_type": "stream",
     "text": [
      "      19/50         0G      0.916     0.8675      1.057         88        640: 100%|██████████| 38/38 [04:15<00:00,  6.73s/it]\n",
      "                 Class     Images  Instances      Box(P          R      mAP50  mAP50-95): 100%|██████████| 1/1 [00:01<00:00,  1.36s/it]"
     ]
    },
    {
     "name": "stdout",
     "output_type": "stream",
     "text": [
      "                   all         25        125      0.934      0.976      0.989       0.78\n"
     ]
    },
    {
     "name": "stderr",
     "output_type": "stream",
     "text": [
      "\n"
     ]
    },
    {
     "name": "stdout",
     "output_type": "stream",
     "text": [
      "\n",
      "      Epoch    GPU_mem   box_loss   cls_loss   dfl_loss  Instances       Size\n"
     ]
    },
    {
     "name": "stderr",
     "output_type": "stream",
     "text": [
      "      20/50         0G     0.9003     0.8538       1.05         90        640: 100%|██████████| 38/38 [03:55<00:00,  6.18s/it]\n",
      "                 Class     Images  Instances      Box(P          R      mAP50  mAP50-95): 100%|██████████| 1/1 [00:01<00:00,  1.31s/it]"
     ]
    },
    {
     "name": "stdout",
     "output_type": "stream",
     "text": [
      "                   all         25        125      0.932      0.953      0.989      0.764\n"
     ]
    },
    {
     "name": "stderr",
     "output_type": "stream",
     "text": [
      "\n"
     ]
    },
    {
     "name": "stdout",
     "output_type": "stream",
     "text": [
      "\n",
      "      Epoch    GPU_mem   box_loss   cls_loss   dfl_loss  Instances       Size\n"
     ]
    },
    {
     "name": "stderr",
     "output_type": "stream",
     "text": [
      "      21/50         0G     0.8677     0.8346      1.044        109        640: 100%|██████████| 38/38 [04:05<00:00,  6.47s/it]\n",
      "                 Class     Images  Instances      Box(P          R      mAP50  mAP50-95): 100%|██████████| 1/1 [00:01<00:00,  1.20s/it]"
     ]
    },
    {
     "name": "stdout",
     "output_type": "stream",
     "text": [
      "                   all         25        125      0.927      0.976      0.975      0.741\n"
     ]
    },
    {
     "name": "stderr",
     "output_type": "stream",
     "text": [
      "\n"
     ]
    },
    {
     "name": "stdout",
     "output_type": "stream",
     "text": [
      "\n",
      "      Epoch    GPU_mem   box_loss   cls_loss   dfl_loss  Instances       Size\n"
     ]
    },
    {
     "name": "stderr",
     "output_type": "stream",
     "text": [
      "      22/50         0G     0.8541     0.8111      1.032         86        640: 100%|██████████| 38/38 [04:01<00:00,  6.35s/it]\n",
      "                 Class     Images  Instances      Box(P          R      mAP50  mAP50-95): 100%|██████████| 1/1 [00:01<00:00,  1.26s/it]"
     ]
    },
    {
     "name": "stdout",
     "output_type": "stream",
     "text": [
      "                   all         25        125      0.945      0.989      0.975      0.745\n"
     ]
    },
    {
     "name": "stderr",
     "output_type": "stream",
     "text": [
      "\n"
     ]
    },
    {
     "name": "stdout",
     "output_type": "stream",
     "text": [
      "\n",
      "      Epoch    GPU_mem   box_loss   cls_loss   dfl_loss  Instances       Size\n"
     ]
    },
    {
     "name": "stderr",
     "output_type": "stream",
     "text": [
      "      23/50         0G     0.8651      0.815      1.041         80        640: 100%|██████████| 38/38 [03:59<00:00,  6.31s/it]\n",
      "                 Class     Images  Instances      Box(P          R      mAP50  mAP50-95): 100%|██████████| 1/1 [00:01<00:00,  1.31s/it]"
     ]
    },
    {
     "name": "stdout",
     "output_type": "stream",
     "text": [
      "                   all         25        125      0.926      0.966       0.99      0.753\n"
     ]
    },
    {
     "name": "stderr",
     "output_type": "stream",
     "text": [
      "\n"
     ]
    },
    {
     "name": "stdout",
     "output_type": "stream",
     "text": [
      "\n",
      "      Epoch    GPU_mem   box_loss   cls_loss   dfl_loss  Instances       Size\n"
     ]
    },
    {
     "name": "stderr",
     "output_type": "stream",
     "text": [
      "      24/50         0G     0.8172     0.7822      1.013        105        640: 100%|██████████| 38/38 [05:06<00:00,  8.06s/it]\n",
      "                 Class     Images  Instances      Box(P          R      mAP50  mAP50-95): 100%|██████████| 1/1 [00:01<00:00,  1.27s/it]"
     ]
    },
    {
     "name": "stdout",
     "output_type": "stream",
     "text": [
      "                   all         25        125      0.928      0.986      0.989      0.737\n"
     ]
    },
    {
     "name": "stderr",
     "output_type": "stream",
     "text": [
      "\n"
     ]
    },
    {
     "name": "stdout",
     "output_type": "stream",
     "text": [
      "\n",
      "      Epoch    GPU_mem   box_loss   cls_loss   dfl_loss  Instances       Size\n"
     ]
    },
    {
     "name": "stderr",
     "output_type": "stream",
     "text": [
      "      25/50         0G     0.8079     0.7693      1.005         72        640: 100%|██████████| 38/38 [04:06<00:00,  6.49s/it]\n",
      "                 Class     Images  Instances      Box(P          R      mAP50  mAP50-95): 100%|██████████| 1/1 [00:01<00:00,  1.43s/it]"
     ]
    },
    {
     "name": "stdout",
     "output_type": "stream",
     "text": [
      "                   all         25        125      0.946      0.983       0.99      0.729\n"
     ]
    },
    {
     "name": "stderr",
     "output_type": "stream",
     "text": [
      "\n"
     ]
    },
    {
     "name": "stdout",
     "output_type": "stream",
     "text": [
      "\n",
      "      Epoch    GPU_mem   box_loss   cls_loss   dfl_loss  Instances       Size\n"
     ]
    },
    {
     "name": "stderr",
     "output_type": "stream",
     "text": [
      "      26/50         0G     0.8029     0.7585      1.002         89        640: 100%|██████████| 38/38 [05:58<00:00,  9.43s/it]\n",
      "                 Class     Images  Instances      Box(P          R      mAP50  mAP50-95): 100%|██████████| 1/1 [00:01<00:00,  1.43s/it]"
     ]
    },
    {
     "name": "stdout",
     "output_type": "stream",
     "text": [
      "                   all         25        125      0.941      0.984      0.989      0.744\n"
     ]
    },
    {
     "name": "stderr",
     "output_type": "stream",
     "text": [
      "\n"
     ]
    },
    {
     "name": "stdout",
     "output_type": "stream",
     "text": [
      "\n",
      "      Epoch    GPU_mem   box_loss   cls_loss   dfl_loss  Instances       Size\n"
     ]
    },
    {
     "name": "stderr",
     "output_type": "stream",
     "text": [
      "      27/50         0G     0.8058     0.7711      1.003         99        640: 100%|██████████| 38/38 [04:01<00:00,  6.35s/it]\n",
      "                 Class     Images  Instances      Box(P          R      mAP50  mAP50-95): 100%|██████████| 1/1 [00:01<00:00,  1.42s/it]"
     ]
    },
    {
     "name": "stdout",
     "output_type": "stream",
     "text": [
      "                   all         25        125      0.949      0.983      0.989      0.736\n"
     ]
    },
    {
     "name": "stderr",
     "output_type": "stream",
     "text": [
      "\n"
     ]
    },
    {
     "name": "stdout",
     "output_type": "stream",
     "text": [
      "\n",
      "      Epoch    GPU_mem   box_loss   cls_loss   dfl_loss  Instances       Size\n"
     ]
    },
    {
     "name": "stderr",
     "output_type": "stream",
     "text": [
      "      28/50         0G     0.7842       0.76      0.997         90        640: 100%|██████████| 38/38 [14:01<00:00, 22.15s/it]   \n",
      "                 Class     Images  Instances      Box(P          R      mAP50  mAP50-95): 100%|██████████| 1/1 [00:01<00:00,  1.54s/it]"
     ]
    },
    {
     "name": "stdout",
     "output_type": "stream",
     "text": [
      "                   all         25        125      0.884      0.983      0.974      0.654\n"
     ]
    },
    {
     "name": "stderr",
     "output_type": "stream",
     "text": [
      "\n"
     ]
    },
    {
     "name": "stdout",
     "output_type": "stream",
     "text": [
      "\n",
      "      Epoch    GPU_mem   box_loss   cls_loss   dfl_loss  Instances       Size\n"
     ]
    },
    {
     "name": "stderr",
     "output_type": "stream",
     "text": [
      "      29/50         0G     0.7698     0.7577     0.9894         89        640: 100%|██████████| 38/38 [04:08<00:00,  6.54s/it]\n",
      "                 Class     Images  Instances      Box(P          R      mAP50  mAP50-95): 100%|██████████| 1/1 [00:01<00:00,  1.54s/it]"
     ]
    },
    {
     "name": "stdout",
     "output_type": "stream",
     "text": [
      "                   all         25        125      0.953      0.985       0.99      0.731\n"
     ]
    },
    {
     "name": "stderr",
     "output_type": "stream",
     "text": [
      "\n"
     ]
    },
    {
     "name": "stdout",
     "output_type": "stream",
     "text": [
      "\n",
      "      Epoch    GPU_mem   box_loss   cls_loss   dfl_loss  Instances       Size\n"
     ]
    },
    {
     "name": "stderr",
     "output_type": "stream",
     "text": [
      "      30/50         0G     0.7463     0.7215     0.9748         98        640: 100%|██████████| 38/38 [04:07<00:00,  6.50s/it]\n",
      "                 Class     Images  Instances      Box(P          R      mAP50  mAP50-95): 100%|██████████| 1/1 [00:01<00:00,  1.30s/it]"
     ]
    },
    {
     "name": "stdout",
     "output_type": "stream",
     "text": [
      "                   all         25        125      0.942      0.984      0.989      0.727\n"
     ]
    },
    {
     "name": "stderr",
     "output_type": "stream",
     "text": [
      "\n"
     ]
    },
    {
     "name": "stdout",
     "output_type": "stream",
     "text": [
      "\n",
      "      Epoch    GPU_mem   box_loss   cls_loss   dfl_loss  Instances       Size\n"
     ]
    },
    {
     "name": "stderr",
     "output_type": "stream",
     "text": [
      "      31/50         0G     0.7457      0.734     0.9816         70        640: 100%|██████████| 38/38 [04:14<00:00,  6.71s/it]\n",
      "                 Class     Images  Instances      Box(P          R      mAP50  mAP50-95): 100%|██████████| 1/1 [00:01<00:00,  1.39s/it]"
     ]
    },
    {
     "name": "stdout",
     "output_type": "stream",
     "text": [
      "                   all         25        125      0.967      0.972       0.98      0.734\n"
     ]
    },
    {
     "name": "stderr",
     "output_type": "stream",
     "text": [
      "\n"
     ]
    },
    {
     "name": "stdout",
     "output_type": "stream",
     "text": [
      "\n",
      "      Epoch    GPU_mem   box_loss   cls_loss   dfl_loss  Instances       Size\n"
     ]
    },
    {
     "name": "stderr",
     "output_type": "stream",
     "text": [
      "      32/50         0G     0.7437     0.7203     0.9702         94        640: 100%|██████████| 38/38 [05:02<00:00,  7.97s/it]\n",
      "                 Class     Images  Instances      Box(P          R      mAP50  mAP50-95): 100%|██████████| 1/1 [00:01<00:00,  1.51s/it]"
     ]
    },
    {
     "name": "stdout",
     "output_type": "stream",
     "text": [
      "                   all         25        125      0.951      0.983      0.991      0.729\n"
     ]
    },
    {
     "name": "stderr",
     "output_type": "stream",
     "text": [
      "\n"
     ]
    },
    {
     "name": "stdout",
     "output_type": "stream",
     "text": [
      "\n",
      "      Epoch    GPU_mem   box_loss   cls_loss   dfl_loss  Instances       Size\n"
     ]
    },
    {
     "name": "stderr",
     "output_type": "stream",
     "text": [
      "      33/50         0G     0.7392     0.7093     0.9802         92        640: 100%|██████████| 38/38 [04:29<00:00,  7.10s/it]\n",
      "                 Class     Images  Instances      Box(P          R      mAP50  mAP50-95): 100%|██████████| 1/1 [00:01<00:00,  1.47s/it]"
     ]
    },
    {
     "name": "stdout",
     "output_type": "stream",
     "text": [
      "                   all         25        125      0.966      0.986      0.995      0.719\n"
     ]
    },
    {
     "name": "stderr",
     "output_type": "stream",
     "text": [
      "\n"
     ]
    },
    {
     "name": "stdout",
     "output_type": "stream",
     "text": [
      "\n",
      "      Epoch    GPU_mem   box_loss   cls_loss   dfl_loss  Instances       Size\n"
     ]
    },
    {
     "name": "stderr",
     "output_type": "stream",
     "text": [
      "      34/50         0G     0.7099     0.6931     0.9628         74        640: 100%|██████████| 38/38 [08:03<00:00, 12.72s/it]\n",
      "                 Class     Images  Instances      Box(P          R      mAP50  mAP50-95): 100%|██████████| 1/1 [00:08<00:00,  8.29s/it]\n"
     ]
    },
    {
     "name": "stdout",
     "output_type": "stream",
     "text": [
      "                   all         25        125      0.953      0.988      0.989      0.728\n",
      "\n",
      "      Epoch    GPU_mem   box_loss   cls_loss   dfl_loss  Instances       Size\n"
     ]
    },
    {
     "name": "stderr",
     "output_type": "stream",
     "text": [
      "      35/50         0G      0.717     0.6869     0.9612         88        640: 100%|██████████| 38/38 [13:34<00:00, 21.44s/it]\n",
      "                 Class     Images  Instances      Box(P          R      mAP50  mAP50-95): 100%|██████████| 1/1 [00:01<00:00,  1.27s/it]"
     ]
    },
    {
     "name": "stdout",
     "output_type": "stream",
     "text": [
      "                   all         25        125      0.971      0.981      0.989       0.73\n"
     ]
    },
    {
     "name": "stderr",
     "output_type": "stream",
     "text": [
      "\n"
     ]
    },
    {
     "name": "stdout",
     "output_type": "stream",
     "text": [
      "\n",
      "      Epoch    GPU_mem   box_loss   cls_loss   dfl_loss  Instances       Size\n"
     ]
    },
    {
     "name": "stderr",
     "output_type": "stream",
     "text": [
      "      36/50         0G     0.7091     0.6897     0.9591         85        640: 100%|██████████| 38/38 [04:06<00:00,  6.49s/it]\n",
      "                 Class     Images  Instances      Box(P          R      mAP50  mAP50-95): 100%|██████████| 1/1 [00:01<00:00,  1.17s/it]"
     ]
    },
    {
     "name": "stdout",
     "output_type": "stream",
     "text": [
      "                   all         25        125      0.959      0.987      0.989      0.725\n"
     ]
    },
    {
     "name": "stderr",
     "output_type": "stream",
     "text": [
      "\n"
     ]
    },
    {
     "name": "stdout",
     "output_type": "stream",
     "text": [
      "\n",
      "      Epoch    GPU_mem   box_loss   cls_loss   dfl_loss  Instances       Size\n"
     ]
    },
    {
     "name": "stderr",
     "output_type": "stream",
     "text": [
      "      37/50         0G     0.7062     0.6794     0.9597         85        640: 100%|██████████| 38/38 [04:02<00:00,  6.38s/it]\n",
      "                 Class     Images  Instances      Box(P          R      mAP50  mAP50-95): 100%|██████████| 1/1 [00:01<00:00,  1.18s/it]"
     ]
    },
    {
     "name": "stdout",
     "output_type": "stream",
     "text": [
      "                   all         25        125      0.961      0.986      0.991      0.705\n"
     ]
    },
    {
     "name": "stderr",
     "output_type": "stream",
     "text": [
      "\n"
     ]
    },
    {
     "name": "stdout",
     "output_type": "stream",
     "text": [
      "\n",
      "      Epoch    GPU_mem   box_loss   cls_loss   dfl_loss  Instances       Size\n"
     ]
    },
    {
     "name": "stderr",
     "output_type": "stream",
     "text": [
      "      38/50         0G     0.6906     0.6887     0.9539         83        640: 100%|██████████| 38/38 [08:10<00:00, 12.90s/it]\n",
      "                 Class     Images  Instances      Box(P          R      mAP50  mAP50-95): 100%|██████████| 1/1 [00:01<00:00,  1.19s/it]"
     ]
    },
    {
     "name": "stdout",
     "output_type": "stream",
     "text": [
      "                   all         25        125      0.971      0.986      0.991      0.726\n"
     ]
    },
    {
     "name": "stderr",
     "output_type": "stream",
     "text": [
      "\n"
     ]
    },
    {
     "name": "stdout",
     "output_type": "stream",
     "text": [
      "\n",
      "      Epoch    GPU_mem   box_loss   cls_loss   dfl_loss  Instances       Size\n"
     ]
    },
    {
     "name": "stderr",
     "output_type": "stream",
     "text": [
      "      39/50         0G     0.6722     0.6635     0.9463         73        640: 100%|██████████| 38/38 [07:18<00:00, 11.53s/it]\n",
      "                 Class     Images  Instances      Box(P          R      mAP50  mAP50-95): 100%|██████████| 1/1 [00:01<00:00,  1.10s/it]"
     ]
    },
    {
     "name": "stdout",
     "output_type": "stream",
     "text": [
      "                   all         25        125      0.959       0.99      0.975      0.689\n"
     ]
    },
    {
     "name": "stderr",
     "output_type": "stream",
     "text": [
      "\n"
     ]
    },
    {
     "name": "stdout",
     "output_type": "stream",
     "text": [
      "\n",
      "      Epoch    GPU_mem   box_loss   cls_loss   dfl_loss  Instances       Size\n"
     ]
    },
    {
     "name": "stderr",
     "output_type": "stream",
     "text": [
      "      40/50         0G     0.6814     0.6607     0.9429         92        640: 100%|██████████| 38/38 [03:45<00:00,  5.94s/it]\n",
      "                 Class     Images  Instances      Box(P          R      mAP50  mAP50-95): 100%|██████████| 1/1 [00:01<00:00,  1.32s/it]"
     ]
    },
    {
     "name": "stdout",
     "output_type": "stream",
     "text": [
      "                   all         25        125      0.956      0.994       0.99      0.705\n"
     ]
    },
    {
     "name": "stderr",
     "output_type": "stream",
     "text": [
      "\n"
     ]
    },
    {
     "name": "stdout",
     "output_type": "stream",
     "text": [
      "Closing dataloader mosaic\n",
      "\n",
      "      Epoch    GPU_mem   box_loss   cls_loss   dfl_loss  Instances       Size\n"
     ]
    },
    {
     "name": "stderr",
     "output_type": "stream",
     "text": [
      "      41/50         0G     0.6421     0.7201     0.9315         40        640: 100%|██████████| 38/38 [03:57<00:00,  6.25s/it]\n",
      "                 Class     Images  Instances      Box(P          R      mAP50  mAP50-95): 100%|██████████| 1/1 [00:01<00:00,  1.19s/it]"
     ]
    },
    {
     "name": "stdout",
     "output_type": "stream",
     "text": [
      "                   all         25        125      0.963      0.986       0.99      0.711\n"
     ]
    },
    {
     "name": "stderr",
     "output_type": "stream",
     "text": [
      "\n"
     ]
    },
    {
     "name": "stdout",
     "output_type": "stream",
     "text": [
      "\n",
      "      Epoch    GPU_mem   box_loss   cls_loss   dfl_loss  Instances       Size\n"
     ]
    },
    {
     "name": "stderr",
     "output_type": "stream",
     "text": [
      "      42/50         0G     0.6055     0.6749     0.9143         40        640: 100%|██████████| 38/38 [03:55<00:00,  6.18s/it]\n",
      "                 Class     Images  Instances      Box(P          R      mAP50  mAP50-95): 100%|██████████| 1/1 [00:01<00:00,  1.19s/it]"
     ]
    },
    {
     "name": "stdout",
     "output_type": "stream",
     "text": [
      "                   all         25        125       0.96      0.994      0.994      0.722\n"
     ]
    },
    {
     "name": "stderr",
     "output_type": "stream",
     "text": [
      "\n"
     ]
    },
    {
     "name": "stdout",
     "output_type": "stream",
     "text": [
      "\n",
      "      Epoch    GPU_mem   box_loss   cls_loss   dfl_loss  Instances       Size\n"
     ]
    },
    {
     "name": "stderr",
     "output_type": "stream",
     "text": [
      "      43/50         0G     0.6033     0.6529     0.9107         40        640: 100%|██████████| 38/38 [42:56<00:00, 67.80s/it]   \n",
      "                 Class     Images  Instances      Box(P          R      mAP50  mAP50-95): 100%|██████████| 1/1 [00:01<00:00,  1.06s/it]"
     ]
    },
    {
     "name": "stdout",
     "output_type": "stream",
     "text": [
      "                   all         25        125      0.961      0.983      0.976      0.717\n"
     ]
    },
    {
     "name": "stderr",
     "output_type": "stream",
     "text": [
      "\n"
     ]
    },
    {
     "name": "stdout",
     "output_type": "stream",
     "text": [
      "\n",
      "      Epoch    GPU_mem   box_loss   cls_loss   dfl_loss  Instances       Size\n"
     ]
    },
    {
     "name": "stderr",
     "output_type": "stream",
     "text": [
      "      44/50         0G     0.5818     0.6397     0.9034         40        640: 100%|██████████| 38/38 [03:13<00:00,  5.10s/it]\n",
      "                 Class     Images  Instances      Box(P          R      mAP50  mAP50-95): 100%|██████████| 1/1 [00:01<00:00,  1.14s/it]"
     ]
    },
    {
     "name": "stdout",
     "output_type": "stream",
     "text": [
      "                   all         25        125       0.96      0.987      0.975      0.714\n"
     ]
    },
    {
     "name": "stderr",
     "output_type": "stream",
     "text": [
      "\n"
     ]
    },
    {
     "name": "stdout",
     "output_type": "stream",
     "text": [
      "\n",
      "      Epoch    GPU_mem   box_loss   cls_loss   dfl_loss  Instances       Size\n"
     ]
    },
    {
     "name": "stderr",
     "output_type": "stream",
     "text": [
      "      45/50         0G       0.58      0.626     0.9004         40        640: 100%|██████████| 38/38 [10:57<00:00, 17.30s/it] \n",
      "                 Class     Images  Instances      Box(P          R      mAP50  mAP50-95): 100%|██████████| 1/1 [00:01<00:00,  1.54s/it]"
     ]
    },
    {
     "name": "stdout",
     "output_type": "stream",
     "text": [
      "                   all         25        125      0.962      0.993      0.975      0.718\n"
     ]
    },
    {
     "name": "stderr",
     "output_type": "stream",
     "text": [
      "\n"
     ]
    },
    {
     "name": "stdout",
     "output_type": "stream",
     "text": [
      "\n",
      "      Epoch    GPU_mem   box_loss   cls_loss   dfl_loss  Instances       Size\n"
     ]
    },
    {
     "name": "stderr",
     "output_type": "stream",
     "text": [
      "      46/50         0G     0.5665     0.6181     0.9019         40        640: 100%|██████████| 38/38 [05:49<00:00,  9.19s/it]\n",
      "                 Class     Images  Instances      Box(P          R      mAP50  mAP50-95): 100%|██████████| 1/1 [00:01<00:00,  1.53s/it]"
     ]
    },
    {
     "name": "stdout",
     "output_type": "stream",
     "text": [
      "                   all         25        125      0.958       0.99       0.99      0.737\n"
     ]
    },
    {
     "name": "stderr",
     "output_type": "stream",
     "text": [
      "\n"
     ]
    },
    {
     "name": "stdout",
     "output_type": "stream",
     "text": [
      "\n",
      "      Epoch    GPU_mem   box_loss   cls_loss   dfl_loss  Instances       Size\n"
     ]
    },
    {
     "name": "stderr",
     "output_type": "stream",
     "text": [
      "      47/50         0G     0.5671     0.6197     0.8925         40        640: 100%|██████████| 38/38 [03:52<00:00,  6.11s/it]\n",
      "                 Class     Images  Instances      Box(P          R      mAP50  mAP50-95): 100%|██████████| 1/1 [00:01<00:00,  1.51s/it]"
     ]
    },
    {
     "name": "stdout",
     "output_type": "stream",
     "text": [
      "                   all         25        125      0.958      0.986      0.975      0.712\n"
     ]
    },
    {
     "name": "stderr",
     "output_type": "stream",
     "text": [
      "\n"
     ]
    },
    {
     "name": "stdout",
     "output_type": "stream",
     "text": [
      "\n",
      "      Epoch    GPU_mem   box_loss   cls_loss   dfl_loss  Instances       Size\n"
     ]
    },
    {
     "name": "stderr",
     "output_type": "stream",
     "text": [
      "      48/50         0G     0.5586     0.6098      0.896         40        640: 100%|██████████| 38/38 [03:57<00:00,  6.25s/it]\n",
      "                 Class     Images  Instances      Box(P          R      mAP50  mAP50-95): 100%|██████████| 1/1 [00:01<00:00,  1.55s/it]"
     ]
    },
    {
     "name": "stdout",
     "output_type": "stream",
     "text": [
      "                   all         25        125       0.96      0.992      0.977      0.713\n"
     ]
    },
    {
     "name": "stderr",
     "output_type": "stream",
     "text": [
      "\n"
     ]
    },
    {
     "name": "stdout",
     "output_type": "stream",
     "text": [
      "\n",
      "      Epoch    GPU_mem   box_loss   cls_loss   dfl_loss  Instances       Size\n"
     ]
    },
    {
     "name": "stderr",
     "output_type": "stream",
     "text": [
      "      49/50         0G     0.5535     0.6047     0.8896         40        640: 100%|██████████| 38/38 [03:58<00:00,  6.29s/it]\n",
      "                 Class     Images  Instances      Box(P          R      mAP50  mAP50-95): 100%|██████████| 1/1 [00:01<00:00,  1.48s/it]"
     ]
    },
    {
     "name": "stdout",
     "output_type": "stream",
     "text": [
      "                   all         25        125      0.961       0.99      0.976      0.718\n"
     ]
    },
    {
     "name": "stderr",
     "output_type": "stream",
     "text": [
      "\n"
     ]
    },
    {
     "name": "stdout",
     "output_type": "stream",
     "text": [
      "\n",
      "      Epoch    GPU_mem   box_loss   cls_loss   dfl_loss  Instances       Size\n"
     ]
    },
    {
     "name": "stderr",
     "output_type": "stream",
     "text": [
      "      50/50         0G     0.5491     0.6067     0.8913         40        640: 100%|██████████| 38/38 [03:59<00:00,  6.31s/it]\n",
      "                 Class     Images  Instances      Box(P          R      mAP50  mAP50-95): 100%|██████████| 1/1 [00:01<00:00,  1.39s/it]"
     ]
    },
    {
     "name": "stdout",
     "output_type": "stream",
     "text": [
      "                   all         25        125      0.961      0.991      0.975       0.72\n"
     ]
    },
    {
     "name": "stderr",
     "output_type": "stream",
     "text": [
      "\n"
     ]
    },
    {
     "name": "stdout",
     "output_type": "stream",
     "text": [
      "\n",
      "50 epochs completed in 5.834 hours.\n",
      "Optimizer stripped from runs\\detect\\train\\weights\\last.pt, 5.4MB\n",
      "Optimizer stripped from runs\\detect\\train\\weights\\best.pt, 5.4MB\n",
      "\n",
      "Validating runs\\detect\\train\\weights\\best.pt...\n",
      "Ultralytics 8.3.26  Python-3.12.3 torch-2.5.0+cpu CPU (12th Gen Intel Core(TM) i5-1235U)\n",
      "YOLO11n summary (fused): 238 layers, 2,588,587 parameters, 0 gradients, 6.3 GFLOPs\n"
     ]
    },
    {
     "name": "stderr",
     "output_type": "stream",
     "text": [
      "                 Class     Images  Instances      Box(P          R      mAP50  mAP50-95): 100%|██████████| 1/1 [00:01<00:00,  1.12s/it]\n"
     ]
    },
    {
     "name": "stdout",
     "output_type": "stream",
     "text": [
      "                   all         25        125      0.934      0.976      0.989      0.781\n",
      "                     2          2          3      0.944          1      0.995      0.895\n",
      "                     3          4          4      0.952          1      0.995      0.619\n",
      "                     4          6          6      0.967          1      0.995      0.841\n",
      "                     5          5          6      0.984          1      0.995      0.871\n",
      "                     6          2          2      0.982          1      0.995      0.647\n",
      "                     7          5          6      0.958          1      0.995      0.748\n",
      "                     8          4          4      0.968          1      0.995      0.705\n",
      "                     9          1          1      0.865          1      0.995      0.895\n",
      "                     a          1          1       0.86          1      0.995      0.895\n",
      "                     b          2          2      0.911          1      0.995      0.895\n",
      "                     c          2          2      0.937          1      0.995      0.497\n",
      "                     d          2          2      0.924          1      0.995      0.945\n",
      "                     e          3          3      0.953          1      0.995      0.897\n",
      "                     f          3          3      0.956          1      0.995      0.886\n",
      "                     g          1          1      0.873          1      0.995      0.895\n",
      "                     h          3          3      0.946          1      0.995       0.88\n",
      "                     i          2          2      0.984          1      0.995      0.846\n",
      "                     j          7          8       0.98          1      0.995      0.813\n",
      "                     k          2          2       0.93          1      0.995      0.946\n",
      "                     m          1          1      0.439          1      0.995      0.697\n",
      "                     n          4          5          1       0.68      0.811      0.523\n",
      "                     o          4          4      0.955          1      0.995      0.762\n",
      "                     p          6          6      0.961          1      0.995      0.764\n",
      "                     q          4          4      0.932          1      0.995      0.847\n",
      "                     r          4          4          1      0.741      0.995      0.756\n",
      "                     s          3          3      0.936          1      0.995      0.721\n",
      "                     t          8          8          1      0.793      0.995       0.74\n",
      "                     u          3          3      0.944          1      0.995      0.764\n",
      "                     v          4          5      0.985          1      0.995      0.916\n",
      "                     w          5          6      0.958          1      0.995      0.694\n",
      "                     x          7          8       0.98          1      0.995      0.625\n",
      "                     y          4          4      0.944          1      0.995      0.814\n",
      "                     z          3          3      0.924          1      0.995      0.537\n",
      "Speed: 1.4ms preprocess, 35.7ms inference, 0.0ms loss, 0.8ms postprocess per image\n",
      "Results saved to \u001b[1mruns\\detect\\train\u001b[0m\n"
     ]
    }
   ],
   "source": [
    "train_results = mdel.train(\n",
    "    data=r\"D:\\yolo+cnn\\data.yaml\",\n",
    "    epochs=50,\n",
    "    imgsz=640,\n",
    "    \n",
    "\n",
    ")"
   ]
  },
  {
   "cell_type": "code",
   "execution_count": 10,
   "metadata": {},
   "outputs": [
    {
     "name": "stdout",
     "output_type": "stream",
     "text": [
      "\n",
      "image 1/1 D:\\yolo+cnn\\test\\images\\2gugj_png.rf.df6ec9fcb75e0c19c6a116472b8cc665.jpg: 224x640 1 2, 2 gs, 1 j, 1 u, 98.2ms\n",
      "Speed: 1.0ms preprocess, 98.2ms inference, 1.0ms postprocess per image at shape (1, 3, 224, 640)\n"
     ]
    }
   ],
   "source": [
    "import cv2\n",
    "from ultralytics import YOLO\n",
    "\n",
    "# Load the trained YOLO model\n",
    "model = YOLO(r\"D:\\yolo+cnn\\runs\\detect\\train\\weights\\best.pt\")\n",
    "\n",
    "# Perform inference on the image\n",
    "results = model(r\"D:\\yolo+cnn\\test\\images\\2gugj_png.rf.df6ec9fcb75e0c19c6a116472b8cc665.jpg\")\n",
    "\n",
    "# Load the image\n",
    "image_path = r\"D:\\yolo+cnn\\test\\images\\2gugj_png.rf.df6ec9fcb75e0c19c6a116472b8cc665.jpg\"\n",
    "image = cv2.imread(image_path)\n",
    "\n",
    "# Process YOLO results and draw bounding boxes\n",
    "for box in results[0].boxes.xyxy:  # Access bounding boxes\n",
    "    x1, y1, x2, y2 = map(int, box)  # Extract coordinates (cast to int for OpenCV)\n",
    "    label = results[0].boxes.cls[0]  # Class label (if needed, use this for text)\n",
    "    confidence = results[0].boxes.conf[0]  # Confidence score (if needed)\n",
    "\n",
    "    # Draw rectangle around detected object\n",
    "    cv2.rectangle(image, (x1, y1), (x2, y2), (0, 255, 0), 2)  # Green box with thickness 2\n",
    "\n",
    "    # Optionally add text (class and confidence)\n",
    "    text = f\"Class {int(label)} | {confidence:.2f}\"\n",
    "    cv2.putText(image, text, (x1, y1 - 10), cv2.FONT_HERSHEY_SIMPLEX, 0.5, (255, 0, 0), 1)\n",
    "\n",
    "# Display the image\n",
    "cv2.imshow(\"Detected Image\", image)\n",
    "cv2.waitKey(0)  # Wait for a key press to close the window\n",
    "cv2.destroyAllWindows()\n"
   ]
  },
  {
   "cell_type": "code",
   "execution_count": 11,
   "metadata": {},
   "outputs": [
    {
     "name": "stdout",
     "output_type": "stream",
     "text": [
      "\n",
      "image 1/1 D:\\yolo+cnn\\train\\images\\29tve_png.rf.1f4d6c8b84046877c98bf0b41250ebe7.jpg: 224x640 1 2, 1 9, 1 e, 1 t, 1 v, 119.9ms\n",
      "Speed: 3.0ms preprocess, 119.9ms inference, 1.8ms postprocess per image at shape (1, 3, 224, 640)\n",
      "\n",
      "image 1/1 D:\\yolo+cnn\\train\\images\\29tve_png.rf.c1ef011ab8718b55c046262a110638ca.jpg: 224x640 1 2, 1 9, 1 e, 1 t, 1 v, 118.3ms\n",
      "Speed: 1.0ms preprocess, 118.3ms inference, 2.0ms postprocess per image at shape (1, 3, 224, 640)\n",
      "\n",
      "image 1/1 D:\\yolo+cnn\\train\\images\\29tve_png.rf.f25a5776ff95400bdf0c40f940e8d9ed.jpg: 224x640 1 2, 1 9, 1 e, 1 t, 1 v, 115.8ms\n",
      "Speed: 2.3ms preprocess, 115.8ms inference, 7.2ms postprocess per image at shape (1, 3, 224, 640)\n",
      "\n",
      "image 1/1 D:\\yolo+cnn\\train\\images\\2bknv_png.rf.041ac8a810da8aea1f8ff4b80e98fe19.jpg: 224x640 1 2, 1 b, 1 k, 1 n, 1 v, 104.3ms\n",
      "Speed: 10.0ms preprocess, 104.3ms inference, 1.6ms postprocess per image at shape (1, 3, 224, 640)\n",
      "\n",
      "image 1/1 D:\\yolo+cnn\\train\\images\\2bknv_png.rf.55333f01f4eb711e452a4f8373e37fe9.jpg: 224x640 1 2, 1 b, 1 k, 1 n, 1 v, 94.7ms\n",
      "Speed: 1.0ms preprocess, 94.7ms inference, 1.0ms postprocess per image at shape (1, 3, 224, 640)\n",
      "\n",
      "image 1/1 D:\\yolo+cnn\\train\\images\\2bknv_png.rf.ab4669f4b0c1b5da2a838268be49733f.jpg: 224x640 1 2, 1 b, 1 k, 2 ns, 1 v, 74.8ms\n",
      "Speed: 1.0ms preprocess, 74.8ms inference, 1.0ms postprocess per image at shape (1, 3, 224, 640)\n",
      "\n",
      "image 1/1 D:\\yolo+cnn\\train\\images\\2rpbf_png.rf.06e9e1087c8cb4f5d5f533ed9535cefd.jpg: 224x640 1 2, 1 b, 1 f, 1 p, 1 r, 82.8ms\n",
      "Speed: 1.0ms preprocess, 82.8ms inference, 2.2ms postprocess per image at shape (1, 3, 224, 640)\n",
      "\n",
      "image 1/1 D:\\yolo+cnn\\train\\images\\2rpbf_png.rf.0a2ac6b43ad3f357211c135085353f6f.jpg: 224x640 1 2, 1 b, 1 f, 1 p, 1 r, 103.5ms\n",
      "Speed: 2.5ms preprocess, 103.5ms inference, 1.0ms postprocess per image at shape (1, 3, 224, 640)\n",
      "\n",
      "image 1/1 D:\\yolo+cnn\\train\\images\\2rpbf_png.rf.a5c0090947fdceea6e571242ba698d4a.jpg: 224x640 1 2, 1 b, 1 f, 1 p, 1 r, 88.7ms\n",
      "Speed: 2.0ms preprocess, 88.7ms inference, 1.0ms postprocess per image at shape (1, 3, 224, 640)\n",
      "\n",
      "image 1/1 D:\\yolo+cnn\\train\\images\\2xg8r_png.rf.4bba7f4ffae20c9e739610c1513a4705.jpg: 224x640 1 2, 1 8, 1 g, 1 r, 1 x, 83.1ms\n",
      "Speed: 1.0ms preprocess, 83.1ms inference, 1.0ms postprocess per image at shape (1, 3, 224, 640)\n",
      "\n",
      "image 1/1 D:\\yolo+cnn\\train\\images\\2xg8r_png.rf.512dd4c4ac167bf8c08db5d4221776b9.jpg: 224x640 1 2, 1 8, 1 g, 1 r, 1 x, 82.1ms\n",
      "Speed: 1.0ms preprocess, 82.1ms inference, 1.0ms postprocess per image at shape (1, 3, 224, 640)\n",
      "\n",
      "image 1/1 D:\\yolo+cnn\\train\\images\\2xg8r_png.rf.dff965f2e68a898ae675eb258a2fdff6.jpg: 224x640 1 2, 1 8, 1 g, 1 r, 1 x, 77.8ms\n",
      "Speed: 1.0ms preprocess, 77.8ms inference, 2.0ms postprocess per image at shape (1, 3, 224, 640)\n",
      "\n",
      "image 1/1 D:\\yolo+cnn\\train\\images\\2z24s_png.rf.1754f994f54e7164a269b044e2cb7870.jpg: 224x640 2 2s, 1 4, 1 s, 1 z, 72.9ms\n",
      "Speed: 1.0ms preprocess, 72.9ms inference, 1.0ms postprocess per image at shape (1, 3, 224, 640)\n",
      "\n",
      "image 1/1 D:\\yolo+cnn\\train\\images\\2z24s_png.rf.93eded182035cbdf9e634aa116cf3e46.jpg: 224x640 2 2s, 1 4, 1 s, 1 z, 79.9ms\n",
      "Speed: 1.0ms preprocess, 79.9ms inference, 2.0ms postprocess per image at shape (1, 3, 224, 640)\n",
      "\n",
      "image 1/1 D:\\yolo+cnn\\train\\images\\2z24s_png.rf.b4d99290aeb08af987f8c02f6f4fd904.jpg: 224x640 2 2s, 1 4, 1 s, 1 z, 76.8ms\n",
      "Speed: 2.0ms preprocess, 76.8ms inference, 2.0ms postprocess per image at shape (1, 3, 224, 640)\n",
      "\n",
      "image 1/1 D:\\yolo+cnn\\train\\images\\2zv27_png.rf.0207028a362913fb1d80568e2ff1afb9.jpg: 224x640 2 2s, 1 7, 1 v, 1 z, 76.8ms\n",
      "Speed: 1.0ms preprocess, 76.8ms inference, 0.0ms postprocess per image at shape (1, 3, 224, 640)\n",
      "\n",
      "image 1/1 D:\\yolo+cnn\\train\\images\\2zv27_png.rf.596d2147b75d015b513ae1657ad1f91f.jpg: 224x640 2 2s, 1 7, 1 v, 1 z, 74.8ms\n",
      "Speed: 1.0ms preprocess, 74.8ms inference, 1.0ms postprocess per image at shape (1, 3, 224, 640)\n",
      "\n",
      "image 1/1 D:\\yolo+cnn\\train\\images\\2zv27_png.rf.60ef53ab535195b2385b0ef71b55d1c0.jpg: 224x640 2 2s, 1 7, 1 v, 1 z, 77.0ms\n",
      "Speed: 1.0ms preprocess, 77.0ms inference, 1.0ms postprocess per image at shape (1, 3, 224, 640)\n",
      "\n",
      "image 1/1 D:\\yolo+cnn\\train\\images\\32kq2_png.rf.12686d93cead3fb8113bd7c2a9f4767b.jpg: 224x640 2 2s, 1 3, 1 k, 1 q, 73.3ms\n",
      "Speed: 1.0ms preprocess, 73.3ms inference, 1.0ms postprocess per image at shape (1, 3, 224, 640)\n",
      "\n",
      "image 1/1 D:\\yolo+cnn\\train\\images\\32kq2_png.rf.41d29f06dbc96fe2e143dbbb20956837.jpg: 224x640 2 2s, 1 3, 1 k, 1 q, 68.7ms\n",
      "Speed: 0.5ms preprocess, 68.7ms inference, 1.5ms postprocess per image at shape (1, 3, 224, 640)\n",
      "\n",
      "image 1/1 D:\\yolo+cnn\\train\\images\\32kq2_png.rf.601cbed52bf694ca1cbf43850e3b67c5.jpg: 224x640 2 2s, 1 3, 1 k, 1 q, 71.8ms\n",
      "Speed: 1.0ms preprocess, 71.8ms inference, 2.0ms postprocess per image at shape (1, 3, 224, 640)\n",
      "\n",
      "image 1/1 D:\\yolo+cnn\\train\\images\\3f9rh_png.rf.396a301315de835e69d54ce1aa431c0d.jpg: 224x640 1 3, 1 9, 1 f, 1 h, 1 r, 100.8ms\n",
      "Speed: 1.0ms preprocess, 100.8ms inference, 0.0ms postprocess per image at shape (1, 3, 224, 640)\n",
      "\n",
      "image 1/1 D:\\yolo+cnn\\train\\images\\3f9rh_png.rf.46b1f214bd1a7767b7554dfd350ca831.jpg: 224x640 1 3, 1 9, 1 f, 1 h, 1 r, 76.4ms\n",
      "Speed: 2.0ms preprocess, 76.4ms inference, 2.5ms postprocess per image at shape (1, 3, 224, 640)\n",
      "\n",
      "image 1/1 D:\\yolo+cnn\\train\\images\\3f9rh_png.rf.c5f1cf0e6691be32af6750c73f4973d1.jpg: 224x640 1 3, 1 9, 1 f, 1 h, 1 r, 69.4ms\n",
      "Speed: 1.0ms preprocess, 69.4ms inference, 2.0ms postprocess per image at shape (1, 3, 224, 640)\n",
      "\n",
      "image 1/1 D:\\yolo+cnn\\train\\images\\3gfxv_png.rf.2907810d1e51a901a6ebc68c7733cbc8.jpg: 224x640 1 3, 1 f, 1 g, 1 v, 1 x, 75.9ms\n",
      "Speed: 2.0ms preprocess, 75.9ms inference, 1.0ms postprocess per image at shape (1, 3, 224, 640)\n",
      "\n",
      "image 1/1 D:\\yolo+cnn\\train\\images\\3gfxv_png.rf.9a3902253d51b5be63e8d6607e01dd3e.jpg: 224x640 1 3, 1 f, 1 g, 1 v, 1 x, 69.1ms\n",
      "Speed: 2.2ms preprocess, 69.1ms inference, 1.0ms postprocess per image at shape (1, 3, 224, 640)\n",
      "\n",
      "image 1/1 D:\\yolo+cnn\\train\\images\\3gfxv_png.rf.db99f797bce08633e35148e0cc85172b.jpg: 224x640 1 3, 1 f, 1 g, 1 v, 1 x, 67.1ms\n",
      "Speed: 0.5ms preprocess, 67.1ms inference, 1.0ms postprocess per image at shape (1, 3, 224, 640)\n",
      "\n",
      "image 1/1 D:\\yolo+cnn\\train\\images\\3gowj_png.rf.613fab554bcf25455289ea67299b92e3.jpg: 224x640 1 3, 1 g, 1 j, 1 o, 1 w, 63.4ms\n",
      "Speed: 2.0ms preprocess, 63.4ms inference, 1.0ms postprocess per image at shape (1, 3, 224, 640)\n",
      "\n",
      "image 1/1 D:\\yolo+cnn\\train\\images\\3gowj_png.rf.9e3807557e3bb140e527502f9edff899.jpg: 224x640 1 3, 1 g, 1 j, 1 o, 1 w, 71.2ms\n",
      "Speed: 1.0ms preprocess, 71.2ms inference, 0.0ms postprocess per image at shape (1, 3, 224, 640)\n",
      "\n",
      "image 1/1 D:\\yolo+cnn\\train\\images\\3gowj_png.rf.af8ceb6e13a403e04a5c92cc6969e706.jpg: 224x640 1 3, 1 g, 1 j, 1 o, 1 w, 76.9ms\n",
      "Speed: 1.0ms preprocess, 76.9ms inference, 1.0ms postprocess per image at shape (1, 3, 224, 640)\n",
      "\n",
      "image 1/1 D:\\yolo+cnn\\train\\images\\3kp6m_png.rf.5acf9456a0f3b27b19d659d9865dbf0a.jpg: 224x640 1 3, 1 6, 1 k, 1 m, 1 p, 68.9ms\n",
      "Speed: 2.0ms preprocess, 68.9ms inference, 1.0ms postprocess per image at shape (1, 3, 224, 640)\n",
      "\n",
      "image 1/1 D:\\yolo+cnn\\train\\images\\3kp6m_png.rf.5eb3f6554c7c7f78bc3abfee929ddc95.jpg: 224x640 1 3, 1 6, 1 k, 2 ms, 1 p, 122.7ms\n",
      "Speed: 1.0ms preprocess, 122.7ms inference, 1.0ms postprocess per image at shape (1, 3, 224, 640)\n",
      "\n",
      "image 1/1 D:\\yolo+cnn\\train\\images\\3kp6m_png.rf.e24cc31b0566492ccd66e532f53fa7ca.jpg: 224x640 1 3, 1 6, 1 k, 2 ms, 1 p, 72.9ms\n",
      "Speed: 1.0ms preprocess, 72.9ms inference, 0.0ms postprocess per image at shape (1, 3, 224, 640)\n",
      "\n",
      "image 1/1 D:\\yolo+cnn\\train\\images\\3qqsv_png.rf.b7ec99cd10c4821d0b111fd94e9bde7f.jpg: 224x640 1 3, 2 qs, 1 s, 1 v, 76.5ms\n",
      "Speed: 1.5ms preprocess, 76.5ms inference, 1.0ms postprocess per image at shape (1, 3, 224, 640)\n",
      "\n",
      "image 1/1 D:\\yolo+cnn\\train\\images\\3qqsv_png.rf.e55cee69b3421f39d0f79f31879afdb9.jpg: 224x640 1 3, 2 qs, 1 s, 1 v, 72.0ms\n",
      "Speed: 1.0ms preprocess, 72.0ms inference, 1.0ms postprocess per image at shape (1, 3, 224, 640)\n",
      "\n",
      "image 1/1 D:\\yolo+cnn\\train\\images\\3qqsv_png.rf.ff36ec7e08e2a75824ab601915aa5598.jpg: 224x640 1 3, 2 qs, 1 s, 1 v, 68.1ms\n",
      "Speed: 1.0ms preprocess, 68.1ms inference, 1.0ms postprocess per image at shape (1, 3, 224, 640)\n",
      "\n",
      "image 1/1 D:\\yolo+cnn\\train\\images\\3rhqf_png.rf.27cc4267db778f7fc84455a0096e9307.jpg: 224x640 1 3, 1 f, 1 h, 1 q, 1 r, 66.9ms\n",
      "Speed: 1.0ms preprocess, 66.9ms inference, 1.0ms postprocess per image at shape (1, 3, 224, 640)\n",
      "\n",
      "image 1/1 D:\\yolo+cnn\\train\\images\\3rhqf_png.rf.32efe0dad8edd196f7246b58f06e37ed.jpg: 224x640 1 3, 1 f, 1 h, 1 q, 1 r, 72.8ms\n",
      "Speed: 1.0ms preprocess, 72.8ms inference, 1.0ms postprocess per image at shape (1, 3, 224, 640)\n",
      "\n",
      "image 1/1 D:\\yolo+cnn\\train\\images\\3rhqf_png.rf.505275babd05f12360d6cbf4ba4351a0.jpg: 224x640 1 3, 1 f, 1 h, 1 q, 1 r, 69.6ms\n",
      "Speed: 1.0ms preprocess, 69.6ms inference, 1.0ms postprocess per image at shape (1, 3, 224, 640)\n",
      "\n",
      "image 1/1 D:\\yolo+cnn\\train\\images\\3zkr6_png.rf.954eea3af7955887b195f5a68259cdbe.jpg: 224x640 1 3, 1 6, 1 k, 1 r, 1 z, 68.6ms\n",
      "Speed: 0.0ms preprocess, 68.6ms inference, 0.0ms postprocess per image at shape (1, 3, 224, 640)\n",
      "\n",
      "image 1/1 D:\\yolo+cnn\\train\\images\\3zkr6_png.rf.dd35b5b03db46611eb17fced68f97f79.jpg: 224x640 1 3, 1 6, 1 k, 1 r, 1 z, 87.9ms\n",
      "Speed: 1.0ms preprocess, 87.9ms inference, 1.0ms postprocess per image at shape (1, 3, 224, 640)\n",
      "\n",
      "image 1/1 D:\\yolo+cnn\\train\\images\\3zkr6_png.rf.f34d98aba7046a7336da8f9d1fb056f1.jpg: 224x640 1 3, 1 6, 1 k, 1 r, 1 z, 66.9ms\n",
      "Speed: 1.0ms preprocess, 66.9ms inference, 1.0ms postprocess per image at shape (1, 3, 224, 640)\n",
      "\n",
      "image 1/1 D:\\yolo+cnn\\train\\images\\43ugt_png.rf.1e1fb0114250d476065f599e0179a756.jpg: 224x640 1 3, 1 4, 1 g, 1 t, 1 u, 68.1ms\n",
      "Speed: 1.0ms preprocess, 68.1ms inference, 0.0ms postprocess per image at shape (1, 3, 224, 640)\n",
      "\n",
      "image 1/1 D:\\yolo+cnn\\train\\images\\43ugt_png.rf.5fb61e023b3430b6cd9db3ae306c389b.jpg: 224x640 1 3, 1 4, 1 g, 1 t, 1 u, 69.3ms\n",
      "Speed: 1.0ms preprocess, 69.3ms inference, 1.0ms postprocess per image at shape (1, 3, 224, 640)\n",
      "\n",
      "image 1/1 D:\\yolo+cnn\\train\\images\\43ugt_png.rf.d85b2b5c2bf8b155e0fc2d895fb094b7.jpg: 224x640 1 3, 1 4, 1 g, 1 t, 1 u, 69.5ms\n",
      "Speed: 1.0ms preprocess, 69.5ms inference, 1.0ms postprocess per image at shape (1, 3, 224, 640)\n",
      "\n",
      "image 1/1 D:\\yolo+cnn\\train\\images\\44dfh_png.rf.1e1543d91129c80503bc40130e564c49.jpg: 224x640 2 4s, 1 d, 1 f, 1 h, 68.6ms\n",
      "Speed: 1.0ms preprocess, 68.6ms inference, 1.0ms postprocess per image at shape (1, 3, 224, 640)\n",
      "\n",
      "image 1/1 D:\\yolo+cnn\\train\\images\\44dfh_png.rf.b0b3ee9708c05876d0ef605e4e87c1b1.jpg: 224x640 2 4s, 1 d, 1 f, 1 h, 66.2ms\n",
      "Speed: 1.0ms preprocess, 66.2ms inference, 2.0ms postprocess per image at shape (1, 3, 224, 640)\n",
      "\n",
      "image 1/1 D:\\yolo+cnn\\train\\images\\44dfh_png.rf.c15f21d9d7b03f6406a86f8692ef83e2.jpg: 224x640 2 4s, 1 d, 1 f, 1 h, 69.3ms\n",
      "Speed: 1.0ms preprocess, 69.3ms inference, 0.0ms postprocess per image at shape (1, 3, 224, 640)\n",
      "\n",
      "image 1/1 D:\\yolo+cnn\\train\\images\\4a6th_png.rf.36eb2ed271438f0c6821a205dfdc7dc8.jpg: 224x640 1 4, 1 6, 1 a, 1 h, 1 t, 71.0ms\n",
      "Speed: 1.0ms preprocess, 71.0ms inference, 1.0ms postprocess per image at shape (1, 3, 224, 640)\n",
      "\n",
      "image 1/1 D:\\yolo+cnn\\train\\images\\4a6th_png.rf.4ec3c37fc6cb2983ee87d2acad207d06.jpg: 224x640 1 4, 1 6, 1 a, 1 h, 1 t, 69.8ms\n",
      "Speed: 1.0ms preprocess, 69.8ms inference, 1.0ms postprocess per image at shape (1, 3, 224, 640)\n",
      "\n",
      "image 1/1 D:\\yolo+cnn\\train\\images\\4a6th_png.rf.77cc1c8ac4a939bf4088de01b47d5b07.jpg: 224x640 1 4, 1 6, 1 a, 1 h, 1 t, 70.0ms\n",
      "Speed: 1.0ms preprocess, 70.0ms inference, 0.0ms postprocess per image at shape (1, 3, 224, 640)\n",
      "\n",
      "image 1/1 D:\\yolo+cnn\\train\\images\\4dots_png.rf.56581b2054e0b13c34b73cd6a888c56e.jpg: 224x640 1 4, 1 d, 1 o, 1 s, 1 t, 69.0ms\n",
      "Speed: 1.0ms preprocess, 69.0ms inference, 1.0ms postprocess per image at shape (1, 3, 224, 640)\n",
      "\n",
      "image 1/1 D:\\yolo+cnn\\train\\images\\4dots_png.rf.88c5573886e51f35787d0550f326ff53.jpg: 224x640 1 4, 1 d, 1 o, 1 s, 1 t, 67.3ms\n",
      "Speed: 1.0ms preprocess, 67.3ms inference, 2.0ms postprocess per image at shape (1, 3, 224, 640)\n",
      "\n",
      "image 1/1 D:\\yolo+cnn\\train\\images\\4dots_png.rf.f0eda9ee1232643e2923810cba2e2b2f.jpg: 224x640 1 4, 1 d, 1 o, 1 s, 1 t, 69.7ms\n",
      "Speed: 0.5ms preprocess, 69.7ms inference, 1.0ms postprocess per image at shape (1, 3, 224, 640)\n",
      "\n",
      "image 1/1 D:\\yolo+cnn\\train\\images\\4huer_png.rf.739134d68ba93aaa8cc34168c3539f8d.jpg: 224x640 1 4, 1 e, 1 h, 1 r, 1 u, 68.7ms\n",
      "Speed: 1.0ms preprocess, 68.7ms inference, 1.0ms postprocess per image at shape (1, 3, 224, 640)\n",
      "\n",
      "image 1/1 D:\\yolo+cnn\\train\\images\\4huer_png.rf.a2d24eab40d14f34b124fd0e07ad27dd.jpg: 224x640 1 4, 1 e, 1 h, 1 r, 1 u, 80.4ms\n",
      "Speed: 2.0ms preprocess, 80.4ms inference, 1.0ms postprocess per image at shape (1, 3, 224, 640)\n",
      "\n",
      "image 1/1 D:\\yolo+cnn\\train\\images\\4huer_png.rf.d82f786fa3e8b8476950176bca921388.jpg: 224x640 1 4, 1 e, 1 h, 1 r, 1 u, 97.9ms\n",
      "Speed: 1.0ms preprocess, 97.9ms inference, 1.0ms postprocess per image at shape (1, 3, 224, 640)\n",
      "\n",
      "image 1/1 D:\\yolo+cnn\\train\\images\\4ke22_png.rf.06976af6606d57fafb9e3a1dc9fb5a6e.jpg: 224x640 2 2s, 1 4, 1 e, 1 k, 77.0ms\n",
      "Speed: 1.0ms preprocess, 77.0ms inference, 1.0ms postprocess per image at shape (1, 3, 224, 640)\n",
      "\n",
      "image 1/1 D:\\yolo+cnn\\train\\images\\4ke22_png.rf.4c37a7248a17fb3f6be7a22cd4b2d204.jpg: 224x640 2 2s, 1 4, 1 e, 1 k, 71.1ms\n",
      "Speed: 1.0ms preprocess, 71.1ms inference, 1.0ms postprocess per image at shape (1, 3, 224, 640)\n",
      "\n",
      "image 1/1 D:\\yolo+cnn\\train\\images\\4ke22_png.rf.581023dcc5b6fd76d97f6f91566a545b.jpg: 224x640 2 2s, 1 4, 1 e, 1 k, 70.1ms\n",
      "Speed: 1.0ms preprocess, 70.1ms inference, 0.0ms postprocess per image at shape (1, 3, 224, 640)\n",
      "\n",
      "image 1/1 D:\\yolo+cnn\\train\\images\\4sqqr_png.rf.0cfc823f51e5148005376268a0109aec.jpg: 224x640 1 4, 2 qs, 1 r, 1 s, 67.1ms\n",
      "Speed: 2.1ms preprocess, 67.1ms inference, 1.0ms postprocess per image at shape (1, 3, 224, 640)\n",
      "\n",
      "image 1/1 D:\\yolo+cnn\\train\\images\\4sqqr_png.rf.0e75266728b4c2a251a7f3a672be5a3f.jpg: 224x640 1 4, 2 qs, 1 r, 1 s, 69.4ms\n",
      "Speed: 1.0ms preprocess, 69.4ms inference, 1.0ms postprocess per image at shape (1, 3, 224, 640)\n",
      "\n",
      "image 1/1 D:\\yolo+cnn\\train\\images\\4sqqr_png.rf.b45f9b4485a8cadbf7418e203d820b1c.jpg: 224x640 1 4, 2 qs, 1 r, 1 s, 67.0ms\n",
      "Speed: 2.0ms preprocess, 67.0ms inference, 1.0ms postprocess per image at shape (1, 3, 224, 640)\n",
      "\n",
      "image 1/1 D:\\yolo+cnn\\train\\images\\4tbih_png.rf.36347cab703c1c55fa2effc1055bec7d.jpg: 224x640 1 4, 1 b, 1 h, 1 i, 1 t, 72.8ms\n",
      "Speed: 1.5ms preprocess, 72.8ms inference, 1.0ms postprocess per image at shape (1, 3, 224, 640)\n",
      "\n",
      "image 1/1 D:\\yolo+cnn\\train\\images\\4tbih_png.rf.51610b9b651652a5b25121b039b8570c.jpg: 224x640 1 4, 1 b, 1 h, 1 i, 1 t, 66.7ms\n",
      "Speed: 1.0ms preprocess, 66.7ms inference, 1.0ms postprocess per image at shape (1, 3, 224, 640)\n",
      "\n",
      "image 1/1 D:\\yolo+cnn\\train\\images\\4tbih_png.rf.eca8f144ad816022b587e2db62518a22.jpg: 224x640 1 4, 1 b, 1 h, 1 i, 1 t, 68.6ms\n",
      "Speed: 1.0ms preprocess, 68.6ms inference, 1.0ms postprocess per image at shape (1, 3, 224, 640)\n",
      "\n",
      "image 1/1 D:\\yolo+cnn\\train\\images\\4teai_png.rf.74a5e305fc4c39293dfcc3a415bfef66.jpg: 224x640 1 4, 1 a, 1 e, 1 i, 1 t, 71.4ms\n",
      "Speed: 1.0ms preprocess, 71.4ms inference, 1.0ms postprocess per image at shape (1, 3, 224, 640)\n",
      "\n",
      "image 1/1 D:\\yolo+cnn\\train\\images\\4teai_png.rf.a3cbb76f2d376d5875b8e52e7573ed17.jpg: 224x640 1 4, 1 a, 1 e, 1 i, 1 t, 69.1ms\n",
      "Speed: 1.0ms preprocess, 69.1ms inference, 1.0ms postprocess per image at shape (1, 3, 224, 640)\n",
      "\n",
      "image 1/1 D:\\yolo+cnn\\train\\images\\4teai_png.rf.c4bdc708b6d76139e019e156ce71ddfd.jpg: 224x640 1 4, 1 a, 1 e, 1 i, 1 t, 70.4ms\n",
      "Speed: 1.0ms preprocess, 70.4ms inference, 0.0ms postprocess per image at shape (1, 3, 224, 640)\n",
      "\n",
      "image 1/1 D:\\yolo+cnn\\train\\images\\4wvgs_png.rf.2cf3db674d9763e4ac87840e558d5c44.jpg: 224x640 1 4, 1 g, 1 s, 1 v, 1 w, 67.6ms\n",
      "Speed: 1.0ms preprocess, 67.6ms inference, 1.0ms postprocess per image at shape (1, 3, 224, 640)\n",
      "\n",
      "image 1/1 D:\\yolo+cnn\\train\\images\\4wvgs_png.rf.ca1dd52c195ae08eed7810dce78cce88.jpg: 224x640 1 4, 1 g, 1 s, 1 v, 1 w, 68.7ms\n",
      "Speed: 1.0ms preprocess, 68.7ms inference, 1.0ms postprocess per image at shape (1, 3, 224, 640)\n",
      "\n",
      "image 1/1 D:\\yolo+cnn\\train\\images\\4wvgs_png.rf.da22365cdaf4a27073a55bf4136b3bc9.jpg: 224x640 1 4, 1 g, 1 s, 1 v, 1 w, 70.1ms\n",
      "Speed: 1.0ms preprocess, 70.1ms inference, 0.0ms postprocess per image at shape (1, 3, 224, 640)\n",
      "\n",
      "image 1/1 D:\\yolo+cnn\\train\\images\\5cfue_png.rf.2d410e9d2c8803f8e03cc2890a3f33c1.jpg: 224x640 1 5, 1 c, 1 e, 1 f, 1 u, 70.1ms\n",
      "Speed: 1.0ms preprocess, 70.1ms inference, 1.0ms postprocess per image at shape (1, 3, 224, 640)\n",
      "\n",
      "image 1/1 D:\\yolo+cnn\\train\\images\\5cfue_png.rf.835827cdaabb61e41339068755af40b5.jpg: 224x640 1 5, 1 c, 1 e, 1 f, 1 u, 69.6ms\n",
      "Speed: 1.0ms preprocess, 69.6ms inference, 1.0ms postprocess per image at shape (1, 3, 224, 640)\n",
      "\n",
      "image 1/1 D:\\yolo+cnn\\train\\images\\5cfue_png.rf.c4d0756a4bde114fa6731b168eae3d10.jpg: 224x640 1 5, 1 c, 1 e, 1 f, 1 u, 69.8ms\n",
      "Speed: 1.0ms preprocess, 69.8ms inference, 1.0ms postprocess per image at shape (1, 3, 224, 640)\n",
      "\n",
      "image 1/1 D:\\yolo+cnn\\train\\images\\5gvjn_png.rf.05bc446f34d06ad54a588f8a74adde8a.jpg: 224x640 1 5, 1 g, 1 j, 2 ns, 1 v, 69.4ms\n",
      "Speed: 1.0ms preprocess, 69.4ms inference, 0.0ms postprocess per image at shape (1, 3, 224, 640)\n",
      "\n",
      "image 1/1 D:\\yolo+cnn\\train\\images\\5gvjn_png.rf.795d623e90c3c2526c05d54426ac7777.jpg: 224x640 1 5, 1 g, 1 j, 2 ns, 1 v, 72.0ms\n",
      "Speed: 1.0ms preprocess, 72.0ms inference, 1.3ms postprocess per image at shape (1, 3, 224, 640)\n",
      "\n",
      "image 1/1 D:\\yolo+cnn\\train\\images\\5gvjn_png.rf.a8ca0a9627cbaf1027fcc12488d5b165.jpg: 224x640 1 5, 1 g, 1 j, 1 n, 1 v, 73.1ms\n",
      "Speed: 1.0ms preprocess, 73.1ms inference, 0.0ms postprocess per image at shape (1, 3, 224, 640)\n",
      "\n",
      "image 1/1 D:\\yolo+cnn\\train\\images\\5hog2_png.rf.cc83c83e45ff8116144e9346f275ceef.jpg: 224x640 1 2, 1 5, 1 g, 1 h, 1 o, 67.8ms\n",
      "Speed: 1.0ms preprocess, 67.8ms inference, 1.0ms postprocess per image at shape (1, 3, 224, 640)\n",
      "\n",
      "image 1/1 D:\\yolo+cnn\\train\\images\\5hog2_png.rf.e802a269af2539caf08ea051e19b7941.jpg: 224x640 1 2, 1 5, 1 g, 1 h, 1 o, 71.0ms\n",
      "Speed: 1.0ms preprocess, 71.0ms inference, 1.0ms postprocess per image at shape (1, 3, 224, 640)\n",
      "\n",
      "image 1/1 D:\\yolo+cnn\\train\\images\\5hog2_png.rf.ffc5f2d51e493fd22c2836272d619634.jpg: 224x640 1 2, 1 5, 1 g, 1 h, 1 o, 70.5ms\n",
      "Speed: 1.0ms preprocess, 70.5ms inference, 2.0ms postprocess per image at shape (1, 3, 224, 640)\n",
      "\n",
      "image 1/1 D:\\yolo+cnn\\train\\images\\5wt6c_png.rf.22136323e9ac421f1af02e03c9726016.jpg: 224x640 1 5, 1 6, 1 c, 1 t, 1 w, 70.1ms\n",
      "Speed: 0.9ms preprocess, 70.1ms inference, 1.0ms postprocess per image at shape (1, 3, 224, 640)\n",
      "\n",
      "image 1/1 D:\\yolo+cnn\\train\\images\\5wt6c_png.rf.50a07e9d37dc53d59cd97e4707627c88.jpg: 224x640 1 5, 1 6, 1 c, 1 t, 1 w, 68.1ms\n",
      "Speed: 1.0ms preprocess, 68.1ms inference, 1.0ms postprocess per image at shape (1, 3, 224, 640)\n",
      "\n",
      "image 1/1 D:\\yolo+cnn\\train\\images\\5wt6c_png.rf.bd5d609dcf57b3fd7efe4a1ef773acba.jpg: 224x640 1 5, 1 6, 1 c, 1 t, 1 w, 67.6ms\n",
      "Speed: 1.0ms preprocess, 67.6ms inference, 1.0ms postprocess per image at shape (1, 3, 224, 640)\n",
      "\n",
      "image 1/1 D:\\yolo+cnn\\train\\images\\5xtrj_png.rf.63930fba9d08e5e7490a8592196910d5.jpg: 224x640 1 5, 1 j, 1 r, 1 t, 1 x, 67.6ms\n",
      "Speed: 1.0ms preprocess, 67.6ms inference, 1.0ms postprocess per image at shape (1, 3, 224, 640)\n",
      "\n",
      "image 1/1 D:\\yolo+cnn\\train\\images\\5xtrj_png.rf.aa8255a351cfa524358533173a225cb6.jpg: 224x640 1 5, 1 j, 1 r, 1 t, 1 x, 69.2ms\n",
      "Speed: 2.0ms preprocess, 69.2ms inference, 1.0ms postprocess per image at shape (1, 3, 224, 640)\n",
      "\n",
      "image 1/1 D:\\yolo+cnn\\train\\images\\5xtrj_png.rf.db97900704a7769bf1f07dc3ab104f6b.jpg: 224x640 1 5, 1 j, 1 r, 1 t, 1 x, 68.1ms\n",
      "Speed: 2.0ms preprocess, 68.1ms inference, 1.0ms postprocess per image at shape (1, 3, 224, 640)\n",
      "\n",
      "image 1/1 D:\\yolo+cnn\\train\\images\\5ygmu_png.rf.3c6543ab8642a5ca2a3674b6a4844ece.jpg: 224x640 1 5, 1 g, 2 ms, 1 u, 1 y, 71.2ms\n",
      "Speed: 1.0ms preprocess, 71.2ms inference, 1.2ms postprocess per image at shape (1, 3, 224, 640)\n",
      "\n",
      "image 1/1 D:\\yolo+cnn\\train\\images\\5ygmu_png.rf.877c2c332b834e10d813ee0de33e150b.jpg: 224x640 1 5, 1 g, 1 m, 1 u, 1 y, 73.5ms\n",
      "Speed: 1.0ms preprocess, 73.5ms inference, 1.0ms postprocess per image at shape (1, 3, 224, 640)\n",
      "\n",
      "image 1/1 D:\\yolo+cnn\\train\\images\\5ygmu_png.rf.d4bc5da5efea1e3e6b8033d83cd374a8.jpg: 224x640 1 5, 1 g, 1 m, 1 u, 1 y, 67.9ms\n",
      "Speed: 1.0ms preprocess, 67.9ms inference, 1.0ms postprocess per image at shape (1, 3, 224, 640)\n",
      "\n",
      "image 1/1 D:\\yolo+cnn\\train\\images\\65chx_png.rf.2abb15d96ba10478e2cba25306ab204e.jpg: 224x640 1 5, 1 6, 1 c, 1 h, 1 x, 70.3ms\n",
      "Speed: 1.0ms preprocess, 70.3ms inference, 1.0ms postprocess per image at shape (1, 3, 224, 640)\n",
      "\n",
      "image 1/1 D:\\yolo+cnn\\train\\images\\65chx_png.rf.a33cd164023c2b6f6cef65142fdfdfb2.jpg: 224x640 1 5, 1 6, 1 c, 1 h, 1 x, 69.1ms\n",
      "Speed: 1.0ms preprocess, 69.1ms inference, 1.0ms postprocess per image at shape (1, 3, 224, 640)\n",
      "\n",
      "image 1/1 D:\\yolo+cnn\\train\\images\\65chx_png.rf.ec2a0fd44bfed15fca425e7a068fbb0b.jpg: 224x640 1 5, 1 6, 1 c, 1 h, 1 x, 70.1ms\n",
      "Speed: 2.4ms preprocess, 70.1ms inference, 1.0ms postprocess per image at shape (1, 3, 224, 640)\n",
      "\n",
      "image 1/1 D:\\yolo+cnn\\train\\images\\6futu_png.rf.2c162238658551e897bf66627098b4f7.jpg: 224x640 1 6, 1 f, 1 t, 2 us, 68.1ms\n",
      "Speed: 1.0ms preprocess, 68.1ms inference, 1.0ms postprocess per image at shape (1, 3, 224, 640)\n",
      "\n",
      "image 1/1 D:\\yolo+cnn\\train\\images\\6futu_png.rf.623e97187813cbb3277cb49e79d6afe4.jpg: 224x640 1 6, 1 f, 1 t, 2 us, 128.4ms\n",
      "Speed: 1.0ms preprocess, 128.4ms inference, 1.0ms postprocess per image at shape (1, 3, 224, 640)\n",
      "\n",
      "image 1/1 D:\\yolo+cnn\\train\\images\\6futu_png.rf.74604d0dfe7c920be97d564738897b50.jpg: 224x640 1 6, 1 f, 1 t, 2 us, 74.1ms\n",
      "Speed: 1.0ms preprocess, 74.1ms inference, 1.0ms postprocess per image at shape (1, 3, 224, 640)\n",
      "\n",
      "image 1/1 D:\\yolo+cnn\\train\\images\\6xo4b_png.rf.1435e593c9f3d6c0b6bb763baabf2dcc.jpg: 224x640 1 4, 1 6, 1 b, 1 o, 1 x, 83.4ms\n",
      "Speed: 2.5ms preprocess, 83.4ms inference, 1.0ms postprocess per image at shape (1, 3, 224, 640)\n",
      "\n",
      "image 1/1 D:\\yolo+cnn\\train\\images\\6xo4b_png.rf.32dc233fdadf5d0453c407d1095547f2.jpg: 224x640 1 4, 1 6, 1 b, 1 o, 1 x, 71.4ms\n",
      "Speed: 1.0ms preprocess, 71.4ms inference, 1.0ms postprocess per image at shape (1, 3, 224, 640)\n",
      "\n",
      "image 1/1 D:\\yolo+cnn\\train\\images\\6xo4b_png.rf.6dd1be8497c43c76c03c14157ff3ef2b.jpg: 224x640 1 4, 1 6, 1 b, 1 o, 1 x, 74.4ms\n",
      "Speed: 1.0ms preprocess, 74.4ms inference, 1.0ms postprocess per image at shape (1, 3, 224, 640)\n",
      "\n",
      "image 1/1 D:\\yolo+cnn\\train\\images\\76eet_png.rf.6c41f611ad1093fbc886e85ccfa8d375.jpg: 224x640 1 6, 1 7, 2 es, 1 t, 73.0ms\n",
      "Speed: 1.0ms preprocess, 73.0ms inference, 1.0ms postprocess per image at shape (1, 3, 224, 640)\n",
      "\n",
      "image 1/1 D:\\yolo+cnn\\train\\images\\76eet_png.rf.b5b378acdfd6db4d5b6e6b91f18c2857.jpg: 224x640 1 6, 1 7, 2 es, 1 t, 73.5ms\n",
      "Speed: 1.0ms preprocess, 73.5ms inference, 0.0ms postprocess per image at shape (1, 3, 224, 640)\n",
      "\n",
      "image 1/1 D:\\yolo+cnn\\train\\images\\76eet_png.rf.f58a236e355169b5a1eeb6f3542ec493.jpg: 224x640 1 6, 1 7, 2 es, 1 t, 72.9ms\n",
      "Speed: 1.1ms preprocess, 72.9ms inference, 1.0ms postprocess per image at shape (1, 3, 224, 640)\n",
      "\n",
      "image 1/1 D:\\yolo+cnn\\train\\images\\7hvjv_png.rf.18e567735c7e510a12102a4e702ae74f.jpg: 224x640 1 7, 1 h, 1 j, 2 vs, 73.1ms\n",
      "Speed: 2.0ms preprocess, 73.1ms inference, 1.0ms postprocess per image at shape (1, 3, 224, 640)\n",
      "\n",
      "image 1/1 D:\\yolo+cnn\\train\\images\\7hvjv_png.rf.3eb6ce7838f37a93eaed1512b3798a39.jpg: 224x640 1 7, 1 h, 1 j, 2 vs, 76.0ms\n",
      "Speed: 1.0ms preprocess, 76.0ms inference, 1.0ms postprocess per image at shape (1, 3, 224, 640)\n",
      "\n",
      "image 1/1 D:\\yolo+cnn\\train\\images\\7hvjv_png.rf.ababc89dd7ead2d9f69353a65cf418fd.jpg: 224x640 1 7, 1 h, 1 j, 2 vs, 72.2ms\n",
      "Speed: 1.6ms preprocess, 72.2ms inference, 0.0ms postprocess per image at shape (1, 3, 224, 640)\n",
      "\n",
      "image 1/1 D:\\yolo+cnn\\train\\images\\7rx8w_png.rf.156d21fe52242d255463b5c4df87707f.jpg: 224x640 1 7, 1 8, 1 r, 1 w, 1 x, 72.8ms\n",
      "Speed: 1.0ms preprocess, 72.8ms inference, 1.0ms postprocess per image at shape (1, 3, 224, 640)\n",
      "\n",
      "image 1/1 D:\\yolo+cnn\\train\\images\\7rx8w_png.rf.380e0ed73e4f4f637e21bf0aa9adeb8a.jpg: 224x640 1 7, 1 8, 1 r, 1 w, 1 x, 75.9ms\n",
      "Speed: 1.0ms preprocess, 75.9ms inference, 1.5ms postprocess per image at shape (1, 3, 224, 640)\n",
      "\n",
      "image 1/1 D:\\yolo+cnn\\train\\images\\7rx8w_png.rf.bb2313f8d41467fd5b947c7055984f21.jpg: 224x640 1 7, 1 8, 1 r, 1 w, 1 x, 75.1ms\n",
      "Speed: 1.0ms preprocess, 75.1ms inference, 1.0ms postprocess per image at shape (1, 3, 224, 640)\n",
      "\n",
      "image 1/1 D:\\yolo+cnn\\train\\images\\7tfpe_png.rf.299f402ecdd2a55317b1f4c0a25d418e.jpg: 224x640 1 7, 1 e, 1 f, 1 p, 1 t, 75.4ms\n",
      "Speed: 2.0ms preprocess, 75.4ms inference, 1.0ms postprocess per image at shape (1, 3, 224, 640)\n",
      "\n",
      "image 1/1 D:\\yolo+cnn\\train\\images\\7tfpe_png.rf.603d0c317b3782122ed66136838fc27f.jpg: 224x640 1 7, 1 e, 1 f, 1 p, 1 t, 72.1ms\n",
      "Speed: 1.0ms preprocess, 72.1ms inference, 1.0ms postprocess per image at shape (1, 3, 224, 640)\n",
      "\n",
      "image 1/1 D:\\yolo+cnn\\train\\images\\7tfpe_png.rf.dbfc9a51430fdb3bbe7eeaaf28cfe767.jpg: 224x640 1 7, 1 e, 1 f, 1 p, 1 t, 71.6ms\n",
      "Speed: 2.0ms preprocess, 71.6ms inference, 1.0ms postprocess per image at shape (1, 3, 224, 640)\n",
      "\n",
      "image 1/1 D:\\yolo+cnn\\train\\images\\7v25q_png.rf.6ee26b23fb39fa07d6052050e616b7a2.jpg: 224x640 1 2, 1 5, 1 7, 1 q, 1 v, 75.6ms\n",
      "Speed: 1.0ms preprocess, 75.6ms inference, 0.0ms postprocess per image at shape (1, 3, 224, 640)\n",
      "\n",
      "image 1/1 D:\\yolo+cnn\\train\\images\\7v25q_png.rf.e76bb1bf477d2d4b4b07b0df262b076b.jpg: 224x640 1 2, 1 5, 1 7, 1 q, 1 v, 77.4ms\n",
      "Speed: 1.0ms preprocess, 77.4ms inference, 0.0ms postprocess per image at shape (1, 3, 224, 640)\n",
      "\n",
      "image 1/1 D:\\yolo+cnn\\train\\images\\7v25q_png.rf.f832918b954825af6caabcad7d37ff69.jpg: 224x640 1 2, 1 5, 1 7, 1 q, 1 v, 88.1ms\n",
      "Speed: 2.0ms preprocess, 88.1ms inference, 0.0ms postprocess per image at shape (1, 3, 224, 640)\n",
      "\n",
      "image 1/1 D:\\yolo+cnn\\train\\images\\83mih_png.rf.15cd23a3fae3ee140181df3fa79eea79.jpg: 224x640 1 3, 1 8, 1 h, 1 i, 1 m, 79.6ms\n",
      "Speed: 1.0ms preprocess, 79.6ms inference, 1.0ms postprocess per image at shape (1, 3, 224, 640)\n",
      "\n",
      "image 1/1 D:\\yolo+cnn\\train\\images\\83mih_png.rf.334736aa08faefbc9dd523f17d932cab.jpg: 224x640 1 3, 1 8, 1 h, 1 i, 1 m, 70.7ms\n",
      "Speed: 1.0ms preprocess, 70.7ms inference, 2.0ms postprocess per image at shape (1, 3, 224, 640)\n",
      "\n",
      "image 1/1 D:\\yolo+cnn\\train\\images\\83mih_png.rf.df277519532cbac0720acb10f8c9e6a6.jpg: 224x640 1 3, 1 8, 1 h, 1 i, 1 m, 73.8ms\n",
      "Speed: 1.0ms preprocess, 73.8ms inference, 1.0ms postprocess per image at shape (1, 3, 224, 640)\n",
      "\n",
      "image 1/1 D:\\yolo+cnn\\train\\images\\84mzq_png.rf.3e14c6185333c41e0129fd753cc6d6ca.jpg: 224x640 1 4, 1 8, 2 ms, 1 q, 1 z, 74.1ms\n",
      "Speed: 1.0ms preprocess, 74.1ms inference, 1.0ms postprocess per image at shape (1, 3, 224, 640)\n",
      "\n",
      "image 1/1 D:\\yolo+cnn\\train\\images\\84mzq_png.rf.7790a472a80b9356f12f44858bfc9b7c.jpg: 224x640 1 4, 1 8, 1 m, 1 q, 1 z, 74.6ms\n",
      "Speed: 1.0ms preprocess, 74.6ms inference, 1.0ms postprocess per image at shape (1, 3, 224, 640)\n",
      "\n",
      "image 1/1 D:\\yolo+cnn\\train\\images\\84mzq_png.rf.f25c044bb96bdefb2a5627cafff03ad6.jpg: 224x640 1 4, 1 8, 1 m, 1 q, 1 z, 73.2ms\n",
      "Speed: 1.0ms preprocess, 73.2ms inference, 1.0ms postprocess per image at shape (1, 3, 224, 640)\n",
      "\n",
      "image 1/1 D:\\yolo+cnn\\train\\images\\8axpk_png.rf.0d940f3e5498548ca4c47e91b310b039.jpg: 224x640 1 8, 1 a, 1 k, 1 p, 1 x, 74.2ms\n",
      "Speed: 1.0ms preprocess, 74.2ms inference, 1.0ms postprocess per image at shape (1, 3, 224, 640)\n",
      "\n",
      "image 1/1 D:\\yolo+cnn\\train\\images\\8axpk_png.rf.a6cad735a3713917e5a4312751fdd970.jpg: 224x640 1 8, 1 a, 1 k, 1 p, 1 x, 70.5ms\n",
      "Speed: 0.5ms preprocess, 70.5ms inference, 1.0ms postprocess per image at shape (1, 3, 224, 640)\n",
      "\n",
      "image 1/1 D:\\yolo+cnn\\train\\images\\8axpk_png.rf.ee27d373de28e4d1e378ab3d77b46a69.jpg: 224x640 1 8, 1 a, 1 k, 1 p, 1 x, 76.4ms\n",
      "Speed: 1.5ms preprocess, 76.4ms inference, 0.0ms postprocess per image at shape (1, 3, 224, 640)\n",
      "\n",
      "image 1/1 D:\\yolo+cnn\\train\\images\\8f62i_png.rf.0e9fbc8f4d81270aeb250f85ad99fff1.jpg: 224x640 1 2, 1 6, 1 8, 1 f, 1 i, 76.1ms\n",
      "Speed: 1.0ms preprocess, 76.1ms inference, 1.1ms postprocess per image at shape (1, 3, 224, 640)\n",
      "\n",
      "image 1/1 D:\\yolo+cnn\\train\\images\\8f62i_png.rf.7b9fd0a29dce949017fd09e94784d1fa.jpg: 224x640 1 2, 1 6, 1 8, 1 f, 1 i, 74.2ms\n",
      "Speed: 1.2ms preprocess, 74.2ms inference, 1.0ms postprocess per image at shape (1, 3, 224, 640)\n",
      "\n",
      "image 1/1 D:\\yolo+cnn\\train\\images\\8f62i_png.rf.b0c775dc45da57bea74617a80b7e4a0e.jpg: 224x640 1 2, 1 6, 1 8, 1 f, 1 i, 76.1ms\n",
      "Speed: 1.0ms preprocess, 76.1ms inference, 1.0ms postprocess per image at shape (1, 3, 224, 640)\n",
      "\n",
      "image 1/1 D:\\yolo+cnn\\train\\images\\8nfgf_png.rf.5c19dc9fda0bc472c6b4254587c664fb.jpg: 224x640 1 8, 2 fs, 1 g, 1 n, 91.7ms\n",
      "Speed: 2.0ms preprocess, 91.7ms inference, 0.0ms postprocess per image at shape (1, 3, 224, 640)\n",
      "\n",
      "image 1/1 D:\\yolo+cnn\\train\\images\\8nfgf_png.rf.7e128a9d2ad4e16dafc0b34da4585ad8.jpg: 224x640 1 8, 2 fs, 1 g, 1 n, 69.1ms\n",
      "Speed: 1.0ms preprocess, 69.1ms inference, 1.0ms postprocess per image at shape (1, 3, 224, 640)\n",
      "\n",
      "image 1/1 D:\\yolo+cnn\\train\\images\\8nfgf_png.rf.f66b5274ec343cee11fa8d780ec0cbc6.jpg: 224x640 1 8, 2 fs, 1 g, 2 ns, 71.0ms\n",
      "Speed: 1.0ms preprocess, 71.0ms inference, 1.0ms postprocess per image at shape (1, 3, 224, 640)\n",
      "\n",
      "image 1/1 D:\\yolo+cnn\\train\\images\\8uorh_png.rf.30926d272344abb67e858eba012bfc5f.jpg: 224x640 1 8, 1 h, 1 o, 1 r, 1 u, 75.7ms\n",
      "Speed: 1.0ms preprocess, 75.7ms inference, 1.0ms postprocess per image at shape (1, 3, 224, 640)\n",
      "\n",
      "image 1/1 D:\\yolo+cnn\\train\\images\\8uorh_png.rf.b9eb2dd287131bc36c4c30c34bebc8e9.jpg: 224x640 1 8, 1 h, 1 o, 1 r, 1 u, 79.8ms\n",
      "Speed: 1.0ms preprocess, 79.8ms inference, 1.0ms postprocess per image at shape (1, 3, 224, 640)\n",
      "\n",
      "image 1/1 D:\\yolo+cnn\\train\\images\\8uorh_png.rf.efb6a19686e559a9d8ee9004de2819e0.jpg: 224x640 1 8, 1 h, 1 o, 1 r, 1 u, 72.7ms\n",
      "Speed: 2.1ms preprocess, 72.7ms inference, 1.0ms postprocess per image at shape (1, 3, 224, 640)\n",
      "\n",
      "image 1/1 D:\\yolo+cnn\\train\\images\\8ynnq_png.rf.75eac332ed53f0b94d70386a273d9f83.jpg: 224x640 1 8, 4 ns, 1 q, 1 y, 86.5ms\n",
      "Speed: 1.0ms preprocess, 86.5ms inference, 1.0ms postprocess per image at shape (1, 3, 224, 640)\n",
      "\n",
      "image 1/1 D:\\yolo+cnn\\train\\images\\8ynnq_png.rf.a8707357db49bcbb1c308b65d082131d.jpg: 224x640 1 8, 3 ns, 1 q, 1 y, 74.2ms\n",
      "Speed: 2.0ms preprocess, 74.2ms inference, 1.0ms postprocess per image at shape (1, 3, 224, 640)\n",
      "\n",
      "image 1/1 D:\\yolo+cnn\\train\\images\\8ynnq_png.rf.efa512484b46333973c0e1e8916c4611.jpg: 224x640 1 8, 3 ns, 1 q, 1 y, 75.1ms\n",
      "Speed: 2.0ms preprocess, 75.1ms inference, 1.0ms postprocess per image at shape (1, 3, 224, 640)\n",
      "\n",
      "image 1/1 D:\\yolo+cnn\\train\\images\\9iwmp_png.rf.0439a0d7ef890b94267e62883f77d172.jpg: 224x640 1 9, 1 i, 1 m, 1 p, 1 w, 92.9ms\n",
      "Speed: 1.0ms preprocess, 92.9ms inference, 1.0ms postprocess per image at shape (1, 3, 224, 640)\n",
      "\n",
      "image 1/1 D:\\yolo+cnn\\train\\images\\9iwmp_png.rf.32ccbe66d678dd6f07e55838404de2b1.jpg: 224x640 1 9, 1 i, 2 ms, 1 p, 1 w, 105.1ms\n",
      "Speed: 2.0ms preprocess, 105.1ms inference, 1.0ms postprocess per image at shape (1, 3, 224, 640)\n",
      "\n",
      "image 1/1 D:\\yolo+cnn\\train\\images\\9iwmp_png.rf.ff885bdebf8f83a047410e3d70d75e43.jpg: 224x640 1 9, 1 i, 1 m, 1 p, 1 w, 87.9ms\n",
      "Speed: 1.0ms preprocess, 87.9ms inference, 2.0ms postprocess per image at shape (1, 3, 224, 640)\n",
      "\n",
      "image 1/1 D:\\yolo+cnn\\train\\images\\ah8t7_png.rf.221668033dafed1b15451fe4c5cea4f7.jpg: 224x640 1 7, 1 8, 1 a, 1 h, 1 t, 80.5ms\n",
      "Speed: 0.5ms preprocess, 80.5ms inference, 1.0ms postprocess per image at shape (1, 3, 224, 640)\n",
      "\n",
      "image 1/1 D:\\yolo+cnn\\train\\images\\ah8t7_png.rf.b1867fb967ae96428f02c6bad5cef8e3.jpg: 224x640 1 7, 1 8, 1 a, 1 h, 1 t, 81.8ms\n",
      "Speed: 1.0ms preprocess, 81.8ms inference, 1.0ms postprocess per image at shape (1, 3, 224, 640)\n",
      "\n",
      "image 1/1 D:\\yolo+cnn\\train\\images\\ah8t7_png.rf.d7194f06f190ad6cff68c00d45ff7679.jpg: 224x640 1 7, 1 8, 1 a, 1 h, 1 t, 73.7ms\n",
      "Speed: 1.0ms preprocess, 73.7ms inference, 1.0ms postprocess per image at shape (1, 3, 224, 640)\n",
      "\n",
      "image 1/1 D:\\yolo+cnn\\train\\images\\anxsu_png.rf.18ca78bcd0fc874efb203637375bc5ff.jpg: 224x640 1 a, 2 ns, 1 s, 1 u, 1 x, 73.0ms\n",
      "Speed: 1.0ms preprocess, 73.0ms inference, 1.0ms postprocess per image at shape (1, 3, 224, 640)\n",
      "\n",
      "image 1/1 D:\\yolo+cnn\\train\\images\\anxsu_png.rf.45e201b6a61a0d6181f6d9078bbb1892.jpg: 224x640 1 a, 1 n, 1 s, 1 u, 1 x, 73.7ms\n",
      "Speed: 1.0ms preprocess, 73.7ms inference, 1.0ms postprocess per image at shape (1, 3, 224, 640)\n",
      "\n",
      "image 1/1 D:\\yolo+cnn\\train\\images\\anxsu_png.rf.adb3abbb9c3b086c3bff31a7434701fc.jpg: 224x640 1 a, 2 ns, 1 s, 1 u, 1 x, 73.7ms\n",
      "Speed: 1.0ms preprocess, 73.7ms inference, 1.0ms postprocess per image at shape (1, 3, 224, 640)\n",
      "\n",
      "image 1/1 D:\\yolo+cnn\\train\\images\\apqof_png.rf.09922e195f4eacb51b34e38d67720724.jpg: 224x640 1 a, 1 f, 1 o, 2 ps, 1 q, 75.5ms\n",
      "Speed: 1.0ms preprocess, 75.5ms inference, 1.0ms postprocess per image at shape (1, 3, 224, 640)\n",
      "\n",
      "image 1/1 D:\\yolo+cnn\\train\\images\\apqof_png.rf.911cadd0b1f8dcb2f6cf4bf770f1264d.jpg: 224x640 1 a, 1 f, 1 o, 2 ps, 1 q, 74.9ms\n",
      "Speed: 1.0ms preprocess, 74.9ms inference, 1.3ms postprocess per image at shape (1, 3, 224, 640)\n",
      "\n",
      "image 1/1 D:\\yolo+cnn\\train\\images\\apqof_png.rf.e02e79828a49818ab47d78c9c5a1e6ab.jpg: 224x640 1 a, 1 f, 1 o, 2 ps, 1 q, 126.9ms\n",
      "Speed: 1.0ms preprocess, 126.9ms inference, 1.0ms postprocess per image at shape (1, 3, 224, 640)\n",
      "\n",
      "image 1/1 D:\\yolo+cnn\\train\\images\\bc62n_png.rf.31ca6d74cd608741874be04ec0099b5b.jpg: 224x640 1 2, 1 6, 1 b, 1 c, 1 n, 88.5ms\n",
      "Speed: 2.4ms preprocess, 88.5ms inference, 1.0ms postprocess per image at shape (1, 3, 224, 640)\n",
      "\n",
      "image 1/1 D:\\yolo+cnn\\train\\images\\bc62n_png.rf.a744c6c44f42fabece43e341af6ad033.jpg: 224x640 1 2, 1 6, 1 b, 1 c, 2 ns, 72.4ms\n",
      "Speed: 1.0ms preprocess, 72.4ms inference, 1.0ms postprocess per image at shape (1, 3, 224, 640)\n",
      "\n",
      "image 1/1 D:\\yolo+cnn\\train\\images\\bc62n_png.rf.c6c5941499ea70e60cc471e65bc41c98.jpg: 224x640 1 2, 1 6, 1 b, 1 c, 2 ns, 78.1ms\n",
      "Speed: 1.0ms preprocess, 78.1ms inference, 1.0ms postprocess per image at shape (1, 3, 224, 640)\n",
      "\n",
      "image 1/1 D:\\yolo+cnn\\train\\images\\bnqjb_png.rf.218185b4e3b13d66314fb30f85b2253f.jpg: 224x640 2 bs, 1 j, 2 ns, 1 q, 96.6ms\n",
      "Speed: 1.1ms preprocess, 96.6ms inference, 1.0ms postprocess per image at shape (1, 3, 224, 640)\n",
      "\n",
      "image 1/1 D:\\yolo+cnn\\train\\images\\bnqjb_png.rf.560181afb9220b8f80400506bb0ebf25.jpg: 224x640 2 bs, 1 j, 2 ns, 1 q, 79.0ms\n",
      "Speed: 1.0ms preprocess, 79.0ms inference, 1.0ms postprocess per image at shape (1, 3, 224, 640)\n",
      "\n",
      "image 1/1 D:\\yolo+cnn\\train\\images\\bnqjb_png.rf.7a4b1103657843455df2125f09b72841.jpg: 224x640 2 bs, 1 j, 1 n, 1 q, 71.7ms\n",
      "Speed: 1.0ms preprocess, 71.7ms inference, 1.0ms postprocess per image at shape (1, 3, 224, 640)\n",
      "\n",
      "image 1/1 D:\\yolo+cnn\\train\\images\\bprty_png.rf.5aec78445f906fce7f5b2aa2527394e0.jpg: 224x640 1 b, 1 p, 1 r, 1 t, 1 y, 72.6ms\n",
      "Speed: 1.0ms preprocess, 72.6ms inference, 1.5ms postprocess per image at shape (1, 3, 224, 640)\n",
      "\n",
      "image 1/1 D:\\yolo+cnn\\train\\images\\bprty_png.rf.6a51403bff665ae270cfd4a1a2466592.jpg: 224x640 1 b, 1 p, 1 r, 1 t, 1 y, 73.4ms\n",
      "Speed: 1.6ms preprocess, 73.4ms inference, 1.0ms postprocess per image at shape (1, 3, 224, 640)\n",
      "\n",
      "image 1/1 D:\\yolo+cnn\\train\\images\\bprty_png.rf.6dd3fa53c89d408d4a6ba36c5f1a37b5.jpg: 224x640 1 b, 1 p, 1 r, 1 t, 1 y, 76.5ms\n",
      "Speed: 1.1ms preprocess, 76.5ms inference, 1.0ms postprocess per image at shape (1, 3, 224, 640)\n",
      "\n",
      "image 1/1 D:\\yolo+cnn\\train\\images\\ce6eq_png.rf.0ba4c01718de5e4f160b6b3096405138.jpg: 224x640 1 6, 1 c, 2 es, 1 q, 76.4ms\n",
      "Speed: 1.0ms preprocess, 76.4ms inference, 0.0ms postprocess per image at shape (1, 3, 224, 640)\n",
      "\n",
      "image 1/1 D:\\yolo+cnn\\train\\images\\ce6eq_png.rf.79f8c8840198b16773305a222122e9d8.jpg: 224x640 1 6, 1 c, 2 es, 1 q, 75.5ms\n",
      "Speed: 1.0ms preprocess, 75.5ms inference, 1.0ms postprocess per image at shape (1, 3, 224, 640)\n",
      "\n",
      "image 1/1 D:\\yolo+cnn\\train\\images\\ce6eq_png.rf.908d96be3b8fbff249f58a930a111d78.jpg: 224x640 1 6, 1 c, 2 es, 1 q, 75.9ms\n",
      "Speed: 1.0ms preprocess, 75.9ms inference, 1.0ms postprocess per image at shape (1, 3, 224, 640)\n",
      "\n",
      "image 1/1 D:\\yolo+cnn\\train\\images\\ceogi_png.rf.511ac4f4aa52b3dd5fa509af2845d641.jpg: 224x640 1 c, 1 e, 1 g, 1 i, 1 o, 72.4ms\n",
      "Speed: 1.0ms preprocess, 72.4ms inference, 1.0ms postprocess per image at shape (1, 3, 224, 640)\n",
      "\n",
      "image 1/1 D:\\yolo+cnn\\train\\images\\ceogi_png.rf.828f6aaf54c000cf120b403ba165bb67.jpg: 224x640 1 c, 1 e, 1 g, 1 i, 1 o, 72.6ms\n",
      "Speed: 1.0ms preprocess, 72.6ms inference, 0.6ms postprocess per image at shape (1, 3, 224, 640)\n",
      "\n",
      "image 1/1 D:\\yolo+cnn\\train\\images\\ceogi_png.rf.f570ab9a8a757cccfd3f1a7546f7eb5e.jpg: 224x640 1 c, 1 e, 1 g, 1 i, 1 o, 74.8ms\n",
      "Speed: 1.0ms preprocess, 74.8ms inference, 0.0ms postprocess per image at shape (1, 3, 224, 640)\n",
      "\n",
      "image 1/1 D:\\yolo+cnn\\train\\images\\cfm9v_png.rf.42d65171bcf57b5f24b359ca32547467.jpg: 224x640 1 9, 1 c, 1 f, 2 ms, 1 v, 82.2ms\n",
      "Speed: 1.0ms preprocess, 82.2ms inference, 1.0ms postprocess per image at shape (1, 3, 224, 640)\n",
      "\n",
      "image 1/1 D:\\yolo+cnn\\train\\images\\cfm9v_png.rf.449847d4f666bb5e5f7f9df45a750dc5.jpg: 224x640 1 9, 1 c, 1 f, 2 ms, 1 v, 80.9ms\n",
      "Speed: 1.0ms preprocess, 80.9ms inference, 1.0ms postprocess per image at shape (1, 3, 224, 640)\n",
      "\n",
      "image 1/1 D:\\yolo+cnn\\train\\images\\cfm9v_png.rf.b87f812c65899d4d349af9a11687ac82.jpg: 224x640 1 9, 1 c, 1 f, 2 ms, 1 v, 74.0ms\n",
      "Speed: 1.0ms preprocess, 74.0ms inference, 1.0ms postprocess per image at shape (1, 3, 224, 640)\n",
      "\n",
      "image 1/1 D:\\yolo+cnn\\train\\images\\cfudh_png.rf.078d038dde1bcabfe29782fb01a6a12c.jpg: 224x640 1 c, 1 d, 1 f, 1 h, 1 u, 71.2ms\n",
      "Speed: 1.0ms preprocess, 71.2ms inference, 1.0ms postprocess per image at shape (1, 3, 224, 640)\n",
      "\n",
      "image 1/1 D:\\yolo+cnn\\train\\images\\cfudh_png.rf.7a24d624e328577efea5b9e3a8518a27.jpg: 224x640 1 c, 1 d, 1 f, 1 h, 1 u, 71.0ms\n",
      "Speed: 1.0ms preprocess, 71.0ms inference, 1.0ms postprocess per image at shape (1, 3, 224, 640)\n",
      "\n",
      "image 1/1 D:\\yolo+cnn\\train\\images\\cfudh_png.rf.89eba88d11b0f8c754bf2af8d9997421.jpg: 224x640 1 c, 1 d, 1 f, 1 h, 1 u, 75.0ms\n",
      "Speed: 0.7ms preprocess, 75.0ms inference, 0.0ms postprocess per image at shape (1, 3, 224, 640)\n",
      "\n",
      "image 1/1 D:\\yolo+cnn\\train\\images\\cjafp_png.rf.27cdf4d97b818efb804cc45f2d11d7af.jpg: 224x640 1 a, 1 c, 1 f, 1 j, 1 p, 73.8ms\n",
      "Speed: 1.0ms preprocess, 73.8ms inference, 1.0ms postprocess per image at shape (1, 3, 224, 640)\n",
      "\n",
      "image 1/1 D:\\yolo+cnn\\train\\images\\cjafp_png.rf.8dd06f03e537093f75f1a8fa86db8d00.jpg: 224x640 1 a, 1 c, 1 f, 1 j, 1 p, 82.8ms\n",
      "Speed: 1.0ms preprocess, 82.8ms inference, 1.0ms postprocess per image at shape (1, 3, 224, 640)\n",
      "\n",
      "image 1/1 D:\\yolo+cnn\\train\\images\\cjafp_png.rf.c71131438b57072736f0dd0b6811d47e.jpg: 224x640 1 a, 1 c, 1 f, 1 j, 1 p, 72.9ms\n",
      "Speed: 1.0ms preprocess, 72.9ms inference, 1.0ms postprocess per image at shape (1, 3, 224, 640)\n",
      "\n",
      "image 1/1 D:\\yolo+cnn\\train\\images\\ctoyb_png.rf.78e5aa760e102bfb5e49bec7c6b27924.jpg: 224x640 1 b, 1 c, 1 o, 2 ts, 1 y, 73.5ms\n",
      "Speed: 1.0ms preprocess, 73.5ms inference, 1.0ms postprocess per image at shape (1, 3, 224, 640)\n",
      "\n",
      "image 1/1 D:\\yolo+cnn\\train\\images\\ctoyb_png.rf.b5e6ddde0e019425521e7cdd65a0e846.jpg: 224x640 1 b, 1 c, 1 o, 1 t, 1 y, 70.4ms\n",
      "Speed: 1.0ms preprocess, 70.4ms inference, 2.0ms postprocess per image at shape (1, 3, 224, 640)\n",
      "\n",
      "image 1/1 D:\\yolo+cnn\\train\\images\\ctoyb_png.rf.b837b157f754c5e9880645979a73d0d0.jpg: 224x640 1 b, 1 c, 1 o, 1 t, 1 y, 77.5ms\n",
      "Speed: 1.0ms preprocess, 77.5ms inference, 1.0ms postprocess per image at shape (1, 3, 224, 640)\n",
      "\n",
      "image 1/1 D:\\yolo+cnn\\train\\images\\d6srx_png.rf.b644083c26f40de4f789dcc7182f1c43.jpg: 224x640 1 6, 1 d, 1 r, 1 s, 1 x, 76.1ms\n",
      "Speed: 1.0ms preprocess, 76.1ms inference, 1.5ms postprocess per image at shape (1, 3, 224, 640)\n",
      "\n",
      "image 1/1 D:\\yolo+cnn\\train\\images\\d6srx_png.rf.bc71e7db62d2123dc36f5bd1ccee4585.jpg: 224x640 1 6, 1 d, 1 r, 1 s, 1 x, 71.2ms\n",
      "Speed: 1.0ms preprocess, 71.2ms inference, 1.0ms postprocess per image at shape (1, 3, 224, 640)\n",
      "\n",
      "image 1/1 D:\\yolo+cnn\\train\\images\\d6srx_png.rf.cdf770feb4317d276d2a5c107f943405.jpg: 224x640 1 6, 1 d, 1 r, 1 s, 1 x, 70.1ms\n",
      "Speed: 1.1ms preprocess, 70.1ms inference, 1.0ms postprocess per image at shape (1, 3, 224, 640)\n",
      "\n",
      "image 1/1 D:\\yolo+cnn\\train\\images\\dcb4e_png.rf.27baeb282915e6a346d509c1aa791125.jpg: 224x640 1 4, 1 b, 1 c, 1 d, 1 e, 127.0ms\n",
      "Speed: 1.0ms preprocess, 127.0ms inference, 1.0ms postprocess per image at shape (1, 3, 224, 640)\n",
      "\n",
      "image 1/1 D:\\yolo+cnn\\train\\images\\dcb4e_png.rf.61e589be9871696b3543d960a76aa2f3.jpg: 224x640 2 4s, 1 b, 1 c, 1 d, 1 e, 90.4ms\n",
      "Speed: 2.0ms preprocess, 90.4ms inference, 0.0ms postprocess per image at shape (1, 3, 224, 640)\n",
      "\n",
      "image 1/1 D:\\yolo+cnn\\train\\images\\dcb4e_png.rf.9a68f1462bf4f129d458606d128b10f1.jpg: 224x640 2 4s, 1 b, 1 c, 1 d, 1 e, 92.8ms\n",
      "Speed: 1.4ms preprocess, 92.8ms inference, 1.0ms postprocess per image at shape (1, 3, 224, 640)\n",
      "\n",
      "image 1/1 D:\\yolo+cnn\\train\\images\\ddsyt_png.rf.294405048d63a3486ace9c2e77156b50.jpg: 224x640 2 ds, 1 s, 1 t, 1 y, 79.4ms\n",
      "Speed: 1.0ms preprocess, 79.4ms inference, 1.0ms postprocess per image at shape (1, 3, 224, 640)\n",
      "\n",
      "image 1/1 D:\\yolo+cnn\\train\\images\\ddsyt_png.rf.80be1500d40e55ad62bb320e3ef88fde.jpg: 224x640 2 ds, 1 s, 1 t, 1 y, 82.9ms\n",
      "Speed: 2.0ms preprocess, 82.9ms inference, 0.0ms postprocess per image at shape (1, 3, 224, 640)\n",
      "\n",
      "image 1/1 D:\\yolo+cnn\\train\\images\\ddsyt_png.rf.ab8dd3d5d52981746eea62e8930ee735.jpg: 224x640 2 ds, 1 s, 1 t, 1 y, 91.3ms\n",
      "Speed: 1.0ms preprocess, 91.3ms inference, 0.0ms postprocess per image at shape (1, 3, 224, 640)\n",
      "\n",
      "image 1/1 D:\\yolo+cnn\\train\\images\\dm75r_png.rf.3678511d518c8224bb0416b25572307e.jpg: 224x640 1 5, 1 7, 1 d, 1 m, 1 r, 76.3ms\n",
      "Speed: 1.3ms preprocess, 76.3ms inference, 0.0ms postprocess per image at shape (1, 3, 224, 640)\n",
      "\n",
      "image 1/1 D:\\yolo+cnn\\train\\images\\dm75r_png.rf.b874c037f7c21ed41747434d62a9c5e3.jpg: 224x640 1 5, 1 7, 1 d, 1 m, 1 r, 75.5ms\n",
      "Speed: 1.0ms preprocess, 75.5ms inference, 1.0ms postprocess per image at shape (1, 3, 224, 640)\n",
      "\n",
      "image 1/1 D:\\yolo+cnn\\train\\images\\dm75r_png.rf.bf215be7619667d248b4f2c4a9c6fcbf.jpg: 224x640 1 5, 1 7, 1 d, 1 m, 1 r, 75.1ms\n",
      "Speed: 1.0ms preprocess, 75.1ms inference, 0.0ms postprocess per image at shape (1, 3, 224, 640)\n",
      "\n",
      "image 1/1 D:\\yolo+cnn\\train\\images\\dttqp_png.rf.30d65dc9da2872b6b7980f5c2992d21d.jpg: 224x640 1 d, 1 p, 1 q, 2 ts, 71.6ms\n",
      "Speed: 2.0ms preprocess, 71.6ms inference, 1.0ms postprocess per image at shape (1, 3, 224, 640)\n",
      "\n",
      "image 1/1 D:\\yolo+cnn\\train\\images\\dttqp_png.rf.997919defb815c4a7e73ea5dfd661d5c.jpg: 224x640 1 d, 2 ps, 1 q, 2 ts, 70.0ms\n",
      "Speed: 2.0ms preprocess, 70.0ms inference, 1.0ms postprocess per image at shape (1, 3, 224, 640)\n",
      "\n",
      "image 1/1 D:\\yolo+cnn\\train\\images\\dttqp_png.rf.cec1c4455c8da358d0d98eaf587a3a3a.jpg: 224x640 1 d, 1 p, 1 q, 2 ts, 69.0ms\n",
      "Speed: 1.0ms preprocess, 69.0ms inference, 1.0ms postprocess per image at shape (1, 3, 224, 640)\n",
      "\n",
      "image 1/1 D:\\yolo+cnn\\train\\images\\e3aua_png.rf.4226602fa43f593a2f3786e27d44e3a2.jpg: 224x640 1 3, 2 as, 1 e, 1 u, 71.1ms\n",
      "Speed: 1.0ms preprocess, 71.1ms inference, 1.0ms postprocess per image at shape (1, 3, 224, 640)\n",
      "\n",
      "image 1/1 D:\\yolo+cnn\\train\\images\\e3aua_png.rf.56c4e758790d919f49d8eeee7dd06ae7.jpg: 224x640 1 3, 2 as, 1 e, 1 u, 80.6ms\n",
      "Speed: 2.0ms preprocess, 80.6ms inference, 0.5ms postprocess per image at shape (1, 3, 224, 640)\n",
      "\n",
      "image 1/1 D:\\yolo+cnn\\train\\images\\e3aua_png.rf.8c98a9a8d6804df3de69d27ad56b831c.jpg: 224x640 1 3, 2 as, 1 e, 1 u, 72.4ms\n",
      "Speed: 1.0ms preprocess, 72.4ms inference, 2.0ms postprocess per image at shape (1, 3, 224, 640)\n",
      "\n",
      "image 1/1 D:\\yolo+cnn\\train\\images\\e4uiu_png.rf.3f43d2afe55d4319bfe921fb09127841.jpg: 224x640 2 4s, 1 e, 1 i, 2 us, 75.6ms\n",
      "Speed: 1.1ms preprocess, 75.6ms inference, 1.0ms postprocess per image at shape (1, 3, 224, 640)\n",
      "\n",
      "image 1/1 D:\\yolo+cnn\\train\\images\\e4uiu_png.rf.efef5f6c38d3571a61c42508f7481c6f.jpg: 224x640 2 4s, 1 e, 1 i, 2 us, 97.6ms\n",
      "Speed: 1.0ms preprocess, 97.6ms inference, 1.0ms postprocess per image at shape (1, 3, 224, 640)\n",
      "\n",
      "image 1/1 D:\\yolo+cnn\\train\\images\\e4uiu_png.rf.fe65661775d337076223d4a5b4c59819.jpg: 224x640 2 4s, 1 e, 1 i, 2 us, 146.6ms\n",
      "Speed: 4.5ms preprocess, 146.6ms inference, 1.0ms postprocess per image at shape (1, 3, 224, 640)\n",
      "\n",
      "image 1/1 D:\\yolo+cnn\\train\\images\\e8g2z_png.rf.08fe3d8f35b8aa96f8fe2c5e1f7815e8.jpg: 224x640 1 2, 1 8, 1 e, 1 g, 1 z, 79.7ms\n",
      "Speed: 1.0ms preprocess, 79.7ms inference, 1.5ms postprocess per image at shape (1, 3, 224, 640)\n",
      "\n",
      "image 1/1 D:\\yolo+cnn\\train\\images\\e8g2z_png.rf.27563343c27b264b4deb1abefc6f345d.jpg: 224x640 1 2, 1 8, 1 e, 1 g, 1 z, 77.2ms\n",
      "Speed: 1.0ms preprocess, 77.2ms inference, 1.0ms postprocess per image at shape (1, 3, 224, 640)\n",
      "\n",
      "image 1/1 D:\\yolo+cnn\\train\\images\\e8g2z_png.rf.c9669d245b0cd1319c0938b0a041dd7a.jpg: 224x640 1 2, 1 8, 1 e, 1 g, 1 z, 74.0ms\n",
      "Speed: 1.0ms preprocess, 74.0ms inference, 1.0ms postprocess per image at shape (1, 3, 224, 640)\n",
      "\n",
      "image 1/1 D:\\yolo+cnn\\train\\images\\eg6ru_png.rf.26e93e5ca2edf585feff0d783619791a.jpg: 224x640 1 6, 1 e, 1 g, 1 r, 1 u, 73.8ms\n",
      "Speed: 2.0ms preprocess, 73.8ms inference, 1.0ms postprocess per image at shape (1, 3, 224, 640)\n",
      "\n",
      "image 1/1 D:\\yolo+cnn\\train\\images\\eg6ru_png.rf.40811095a9d0c99990e7ab9c23e8c119.jpg: 224x640 1 6, 1 e, 1 g, 1 r, 1 u, 79.9ms\n",
      "Speed: 2.0ms preprocess, 79.9ms inference, 1.0ms postprocess per image at shape (1, 3, 224, 640)\n",
      "\n",
      "image 1/1 D:\\yolo+cnn\\train\\images\\eg6ru_png.rf.540ffb3369657a053be175db862318e5.jpg: 224x640 1 6, 1 e, 1 g, 1 r, 1 u, 74.7ms\n",
      "Speed: 1.0ms preprocess, 74.7ms inference, 1.0ms postprocess per image at shape (1, 3, 224, 640)\n",
      "\n",
      "image 1/1 D:\\yolo+cnn\\train\\images\\eqfen_png.rf.299b15b0c8805f010c21294287e3f3d4.jpg: 224x640 2 es, 1 f, 1 n, 1 q, 74.4ms\n",
      "Speed: 0.9ms preprocess, 74.4ms inference, 1.0ms postprocess per image at shape (1, 3, 224, 640)\n",
      "\n",
      "image 1/1 D:\\yolo+cnn\\train\\images\\eqfen_png.rf.46e818c433c7a90fd0cf05db53673500.jpg: 224x640 2 es, 1 f, 2 ns, 1 q, 72.1ms\n",
      "Speed: 2.0ms preprocess, 72.1ms inference, 1.0ms postprocess per image at shape (1, 3, 224, 640)\n",
      "\n",
      "image 1/1 D:\\yolo+cnn\\train\\images\\eqfen_png.rf.a7619c427fb6b22387d4123fa01d8a2c.jpg: 224x640 2 es, 1 f, 1 n, 1 q, 76.4ms\n",
      "Speed: 1.0ms preprocess, 76.4ms inference, 1.0ms postprocess per image at shape (1, 3, 224, 640)\n",
      "\n",
      "image 1/1 D:\\yolo+cnn\\train\\images\\ere3n_png.rf.087bf7c076c902ba19a872025a7755e5.jpg: 224x640 1 3, 2 es, 2 ns, 1 r, 74.1ms\n",
      "Speed: 1.0ms preprocess, 74.1ms inference, 1.0ms postprocess per image at shape (1, 3, 224, 640)\n",
      "\n",
      "image 1/1 D:\\yolo+cnn\\train\\images\\ere3n_png.rf.6f57bb3dfd41adc4007baeed9b4b9bf1.jpg: 224x640 1 3, 2 es, 2 ns, 1 r, 72.9ms\n",
      "Speed: 1.0ms preprocess, 72.9ms inference, 1.0ms postprocess per image at shape (1, 3, 224, 640)\n",
      "\n",
      "image 1/1 D:\\yolo+cnn\\train\\images\\ere3n_png.rf.c647e3168e00df03eb17f31d58e030ee.jpg: 224x640 1 3, 2 es, 2 ns, 1 r, 81.1ms\n",
      "Speed: 1.0ms preprocess, 81.1ms inference, 1.0ms postprocess per image at shape (1, 3, 224, 640)\n",
      "\n",
      "image 1/1 D:\\yolo+cnn\\train\\images\\euw7q_png.rf.ab7cf5f0cedcc10094ba18cd2cf03fa9.jpg: 224x640 1 7, 1 e, 1 q, 1 u, 1 w, 77.6ms\n",
      "Speed: 1.0ms preprocess, 77.6ms inference, 1.0ms postprocess per image at shape (1, 3, 224, 640)\n",
      "\n",
      "image 1/1 D:\\yolo+cnn\\train\\images\\euw7q_png.rf.ddae4be403fe850d3739c3ccc8d2cc12.jpg: 224x640 1 7, 1 e, 1 q, 1 u, 1 w, 71.6ms\n",
      "Speed: 1.0ms preprocess, 71.6ms inference, 0.9ms postprocess per image at shape (1, 3, 224, 640)\n",
      "\n",
      "image 1/1 D:\\yolo+cnn\\train\\images\\euw7q_png.rf.de7f89bc1ef4372563b87f1166005487.jpg: 224x640 1 7, 1 e, 1 q, 1 u, 1 w, 82.7ms\n",
      "Speed: 1.0ms preprocess, 82.7ms inference, 1.0ms postprocess per image at shape (1, 3, 224, 640)\n",
      "\n",
      "image 1/1 D:\\yolo+cnn\\train\\images\\f2vkg_png.rf.40cd18b5bd5f05316ea93011be1b9c42.jpg: 224x640 1 2, 1 f, 1 g, 1 k, 1 v, 77.8ms\n",
      "Speed: 1.0ms preprocess, 77.8ms inference, 1.0ms postprocess per image at shape (1, 3, 224, 640)\n",
      "\n",
      "image 1/1 D:\\yolo+cnn\\train\\images\\f2vkg_png.rf.ccc56b7f3670b1d6f0d4fe8b4b1d16de.jpg: 224x640 1 2, 1 f, 1 g, 1 k, 1 v, 75.0ms\n",
      "Speed: 1.0ms preprocess, 75.0ms inference, 0.0ms postprocess per image at shape (1, 3, 224, 640)\n",
      "\n",
      "image 1/1 D:\\yolo+cnn\\train\\images\\f2vkg_png.rf.fc13924c7520f0fd2459e66d25fad60c.jpg: 224x640 1 2, 1 f, 1 g, 1 k, 1 v, 89.3ms\n",
      "Speed: 1.0ms preprocess, 89.3ms inference, 1.0ms postprocess per image at shape (1, 3, 224, 640)\n",
      "\n",
      "image 1/1 D:\\yolo+cnn\\train\\images\\f622j_png.rf.6bd7dac330464edd66906df285e2c3fd.jpg: 224x640 2 2s, 1 6, 1 f, 1 j, 82.5ms\n",
      "Speed: 1.3ms preprocess, 82.5ms inference, 1.0ms postprocess per image at shape (1, 3, 224, 640)\n",
      "\n",
      "image 1/1 D:\\yolo+cnn\\train\\images\\f622j_png.rf.700017e8df371eabec9183c9ea819673.jpg: 224x640 2 2s, 1 6, 1 f, 1 j, 81.8ms\n",
      "Speed: 1.0ms preprocess, 81.8ms inference, 1.0ms postprocess per image at shape (1, 3, 224, 640)\n",
      "\n",
      "image 1/1 D:\\yolo+cnn\\train\\images\\f622j_png.rf.94bd9cb716fabdb419595e60d2846125.jpg: 224x640 2 2s, 1 6, 1 f, 1 j, 88.9ms\n",
      "Speed: 2.0ms preprocess, 88.9ms inference, 0.0ms postprocess per image at shape (1, 3, 224, 640)\n",
      "\n",
      "image 1/1 D:\\yolo+cnn\\train\\images\\f7jrd_png.rf.5db275a67bfa2d657e19a9b5ddd5677a.jpg: 224x640 1 7, 1 d, 1 f, 1 j, 1 r, 86.6ms\n",
      "Speed: 2.0ms preprocess, 86.6ms inference, 2.0ms postprocess per image at shape (1, 3, 224, 640)\n",
      "\n",
      "image 1/1 D:\\yolo+cnn\\train\\images\\f7jrd_png.rf.6e3837104a58794e763dd41b258d608d.jpg: 224x640 1 7, 1 d, 1 f, 1 j, 1 r, 96.9ms\n",
      "Speed: 1.0ms preprocess, 96.9ms inference, 1.0ms postprocess per image at shape (1, 3, 224, 640)\n",
      "\n",
      "image 1/1 D:\\yolo+cnn\\train\\images\\f7jrd_png.rf.bf25cce34471be3ed75acd800173d925.jpg: 224x640 1 7, 1 d, 1 f, 1 j, 1 r, 89.7ms\n",
      "Speed: 1.0ms preprocess, 89.7ms inference, 1.0ms postprocess per image at shape (1, 3, 224, 640)\n",
      "\n",
      "image 1/1 D:\\yolo+cnn\\train\\images\\f8guo_png.rf.4321335def3cc2705e06f3c1b816d1f0.jpg: 224x640 1 8, 1 f, 1 g, 1 o, 1 u, 76.2ms\n",
      "Speed: 1.0ms preprocess, 76.2ms inference, 1.0ms postprocess per image at shape (1, 3, 224, 640)\n",
      "\n",
      "image 1/1 D:\\yolo+cnn\\train\\images\\f8guo_png.rf.632dcfacfcc728a91db3945d51b5ddb7.jpg: 224x640 1 8, 1 f, 1 g, 1 o, 1 u, 78.1ms\n",
      "Speed: 1.0ms preprocess, 78.1ms inference, 1.0ms postprocess per image at shape (1, 3, 224, 640)\n",
      "\n",
      "image 1/1 D:\\yolo+cnn\\train\\images\\f8guo_png.rf.9dfed8e159b21dd9e7e8d1200b81d39a.jpg: 224x640 1 8, 1 f, 1 g, 1 o, 1 u, 125.5ms\n",
      "Speed: 1.1ms preprocess, 125.5ms inference, 2.0ms postprocess per image at shape (1, 3, 224, 640)\n",
      "\n",
      "image 1/1 D:\\yolo+cnn\\train\\images\\f8m3z_png.rf.a2e695d806e23afe3779532b4ba34aa6.jpg: 224x640 1 3, 1 8, 1 f, 1 m, 1 z, 145.2ms\n",
      "Speed: 3.3ms preprocess, 145.2ms inference, 2.0ms postprocess per image at shape (1, 3, 224, 640)\n",
      "\n",
      "image 1/1 D:\\yolo+cnn\\train\\images\\f8m3z_png.rf.abff4d40f89bb8610e980823903ef2f6.jpg: 224x640 1 3, 1 8, 1 f, 1 m, 1 z, 114.6ms\n",
      "Speed: 3.0ms preprocess, 114.6ms inference, 1.0ms postprocess per image at shape (1, 3, 224, 640)\n",
      "\n",
      "image 1/1 D:\\yolo+cnn\\train\\images\\f8m3z_png.rf.af7f3348080975155bb0db85f24e3ea0.jpg: 224x640 1 3, 1 8, 1 f, 1 m, 1 z, 104.9ms\n",
      "Speed: 1.0ms preprocess, 104.9ms inference, 1.3ms postprocess per image at shape (1, 3, 224, 640)\n",
      "\n",
      "image 1/1 D:\\yolo+cnn\\train\\images\\f8tfp_png.rf.1e58ed97302d754a57c37f15b30043b5.jpg: 224x640 1 8, 2 fs, 1 p, 1 t, 103.6ms\n",
      "Speed: 1.0ms preprocess, 103.6ms inference, 2.0ms postprocess per image at shape (1, 3, 224, 640)\n",
      "\n",
      "image 1/1 D:\\yolo+cnn\\train\\images\\f8tfp_png.rf.64a4e5604f0514fe1b9aab1b3a7de7b6.jpg: 224x640 1 8, 2 fs, 1 p, 1 t, 83.7ms\n",
      "Speed: 1.0ms preprocess, 83.7ms inference, 1.0ms postprocess per image at shape (1, 3, 224, 640)\n",
      "\n",
      "image 1/1 D:\\yolo+cnn\\train\\images\\f8tfp_png.rf.b5ea5fe824dfbcf1564de552db1457b8.jpg: 224x640 1 8, 2 fs, 1 p, 1 t, 84.6ms\n",
      "Speed: 2.0ms preprocess, 84.6ms inference, 1.0ms postprocess per image at shape (1, 3, 224, 640)\n",
      "\n",
      "image 1/1 D:\\yolo+cnn\\train\\images\\fct4n_png.rf.022f86b31b95786b92336a6883e88204.jpg: 224x640 1 4, 1 c, 1 f, 2 ns, 1 t, 96.1ms\n",
      "Speed: 1.0ms preprocess, 96.1ms inference, 2.0ms postprocess per image at shape (1, 3, 224, 640)\n",
      "\n",
      "image 1/1 D:\\yolo+cnn\\train\\images\\fct4n_png.rf.12f5909f266ff95b2d267b76ef9c9629.jpg: 224x640 1 4, 1 c, 1 f, 2 ns, 1 t, 93.4ms\n",
      "Speed: 1.0ms preprocess, 93.4ms inference, 2.0ms postprocess per image at shape (1, 3, 224, 640)\n",
      "\n",
      "image 1/1 D:\\yolo+cnn\\train\\images\\fct4n_png.rf.ee1893de31589a1f15ebccf144495aa0.jpg: 224x640 1 4, 1 c, 1 f, 1 n, 1 t, 93.9ms\n",
      "Speed: 2.0ms preprocess, 93.9ms inference, 1.0ms postprocess per image at shape (1, 3, 224, 640)\n",
      "\n",
      "image 1/1 D:\\yolo+cnn\\train\\images\\fwhnu_png.rf.28c4691811690532061eabf57fce21a2.jpg: 224x640 1 f, 1 h, 1 n, 1 u, 1 w, 80.9ms\n",
      "Speed: 2.0ms preprocess, 80.9ms inference, 1.0ms postprocess per image at shape (1, 3, 224, 640)\n",
      "\n",
      "image 1/1 D:\\yolo+cnn\\train\\images\\fwhnu_png.rf.4686783fd9e489a2d8825ab31cdfa8cf.jpg: 224x640 1 f, 1 h, 1 n, 1 u, 1 w, 82.1ms\n",
      "Speed: 1.0ms preprocess, 82.1ms inference, 1.0ms postprocess per image at shape (1, 3, 224, 640)\n",
      "\n",
      "image 1/1 D:\\yolo+cnn\\train\\images\\fwhnu_png.rf.7d5eb64eeb69b5e1bd7b0d2037d602fc.jpg: 224x640 1 f, 1 h, 1 n, 1 u, 1 w, 78.2ms\n",
      "Speed: 1.0ms preprocess, 78.2ms inference, 1.0ms postprocess per image at shape (1, 3, 224, 640)\n",
      "\n",
      "image 1/1 D:\\yolo+cnn\\train\\images\\g7kt6_png.rf.3061bbeb6075d92dc77fe89e35d0867d.jpg: 224x640 1 6, 1 7, 1 g, 1 k, 1 t, 95.0ms\n",
      "Speed: 2.0ms preprocess, 95.0ms inference, 1.0ms postprocess per image at shape (1, 3, 224, 640)\n",
      "\n",
      "image 1/1 D:\\yolo+cnn\\train\\images\\g7kt6_png.rf.7d77ea45493afb16f07afc81e26a27fe.jpg: 224x640 1 6, 1 7, 1 g, 1 k, 2 ts, 106.8ms\n",
      "Speed: 1.0ms preprocess, 106.8ms inference, 2.0ms postprocess per image at shape (1, 3, 224, 640)\n",
      "\n",
      "image 1/1 D:\\yolo+cnn\\train\\images\\g7kt6_png.rf.adcd6f7313cc1b43d123d0adc7691ea9.jpg: 224x640 1 6, 1 7, 1 g, 1 k, 1 t, 95.4ms\n",
      "Speed: 3.0ms preprocess, 95.4ms inference, 2.0ms postprocess per image at shape (1, 3, 224, 640)\n",
      "\n",
      "image 1/1 D:\\yolo+cnn\\train\\images\\gcnwt_png.rf.0c078fc918ed80b8b11ba4be80f2eaad.jpg: 224x640 1 c, 1 g, 1 n, 1 t, 1 w, 81.6ms\n",
      "Speed: 1.5ms preprocess, 81.6ms inference, 2.0ms postprocess per image at shape (1, 3, 224, 640)\n",
      "\n",
      "image 1/1 D:\\yolo+cnn\\train\\images\\gcnwt_png.rf.1680c878fc112e715b2c387ec0dbcd20.jpg: 224x640 1 c, 1 g, 1 n, 1 t, 1 w, 70.9ms\n",
      "Speed: 1.0ms preprocess, 70.9ms inference, 0.0ms postprocess per image at shape (1, 3, 224, 640)\n",
      "\n",
      "image 1/1 D:\\yolo+cnn\\train\\images\\gcnwt_png.rf.7900c0e783e955e29fb6d215e1113534.jpg: 224x640 1 c, 1 g, 1 n, 1 t, 1 w, 82.4ms\n",
      "Speed: 1.0ms preprocess, 82.4ms inference, 1.0ms postprocess per image at shape (1, 3, 224, 640)\n",
      "\n",
      "image 1/1 D:\\yolo+cnn\\train\\images\\gd7xe_png.rf.7997058f987cc92e695992079b0c35c2.jpg: 224x640 1 7, 1 d, 1 e, 1 g, 1 x, 105.0ms\n",
      "Speed: 1.0ms preprocess, 105.0ms inference, 2.0ms postprocess per image at shape (1, 3, 224, 640)\n",
      "\n",
      "image 1/1 D:\\yolo+cnn\\train\\images\\gd7xe_png.rf.a94c9ff9d8e75f96c548dd439a651554.jpg: 224x640 1 7, 1 d, 1 e, 1 g, 1 x, 100.3ms\n",
      "Speed: 2.0ms preprocess, 100.3ms inference, 0.0ms postprocess per image at shape (1, 3, 224, 640)\n",
      "\n",
      "image 1/1 D:\\yolo+cnn\\train\\images\\gd7xe_png.rf.eceb20a3982dc45eb9ba674b9370eb2a.jpg: 224x640 1 7, 1 d, 1 e, 1 g, 1 x, 84.0ms\n",
      "Speed: 1.1ms preprocess, 84.0ms inference, 1.2ms postprocess per image at shape (1, 3, 224, 640)\n",
      "\n",
      "image 1/1 D:\\yolo+cnn\\train\\images\\gg7b6_png.rf.7c4576465a1880857a49ef5c622e03de.jpg: 224x640 1 6, 1 7, 1 b, 2 gs, 85.4ms\n",
      "Speed: 1.0ms preprocess, 85.4ms inference, 1.0ms postprocess per image at shape (1, 3, 224, 640)\n",
      "\n",
      "image 1/1 D:\\yolo+cnn\\train\\images\\gg7b6_png.rf.a3ddf8a0495330b9561d83eb35758ea8.jpg: 224x640 1 6, 1 7, 1 b, 2 gs, 81.9ms\n",
      "Speed: 2.0ms preprocess, 81.9ms inference, 2.0ms postprocess per image at shape (1, 3, 224, 640)\n",
      "\n",
      "image 1/1 D:\\yolo+cnn\\train\\images\\gg7b6_png.rf.f72d890ba74d72e57175d189824bc034.jpg: 224x640 1 6, 1 7, 1 b, 2 gs, 82.5ms\n",
      "Speed: 1.5ms preprocess, 82.5ms inference, 1.0ms postprocess per image at shape (1, 3, 224, 640)\n",
      "\n",
      "image 1/1 D:\\yolo+cnn\\train\\images\\giqtc_png.rf.1f86f9babe60a9d840ee131f12b96f3c.jpg: 224x640 1 c, 1 g, 1 i, 1 q, 1 t, 84.3ms\n",
      "Speed: 1.0ms preprocess, 84.3ms inference, 0.0ms postprocess per image at shape (1, 3, 224, 640)\n",
      "\n",
      "image 1/1 D:\\yolo+cnn\\train\\images\\giqtc_png.rf.c224ec79eaa415283e53be2451fe7edf.jpg: 224x640 1 c, 1 g, 1 i, 1 q, 1 t, 80.4ms\n",
      "Speed: 2.5ms preprocess, 80.4ms inference, 2.1ms postprocess per image at shape (1, 3, 224, 640)\n",
      "\n",
      "image 1/1 D:\\yolo+cnn\\train\\images\\giqtc_png.rf.ec6cfed4212bfb14ed33ec38f6abfd1b.jpg: 224x640 1 c, 1 g, 1 i, 1 q, 1 t, 145.2ms\n",
      "Speed: 1.0ms preprocess, 145.2ms inference, 1.0ms postprocess per image at shape (1, 3, 224, 640)\n",
      "\n",
      "image 1/1 D:\\yolo+cnn\\train\\images\\gnuri_png.rf.85e867f98ce5dfdaacb4a81d0d2c46de.jpg: 224x640 1 g, 1 i, 1 n, 1 r, 1 u, 94.8ms\n",
      "Speed: 3.0ms preprocess, 94.8ms inference, 1.0ms postprocess per image at shape (1, 3, 224, 640)\n",
      "\n",
      "image 1/1 D:\\yolo+cnn\\train\\images\\gnuri_png.rf.d870926f899be3bcd6002dec1d24fa2a.jpg: 224x640 1 g, 1 i, 2 ns, 1 r, 1 u, 80.3ms\n",
      "Speed: 2.0ms preprocess, 80.3ms inference, 1.5ms postprocess per image at shape (1, 3, 224, 640)\n",
      "\n",
      "image 1/1 D:\\yolo+cnn\\train\\images\\gnuri_png.rf.fb0722cde84a99fccdedf725ba32f432.jpg: 224x640 1 g, 1 i, 1 n, 1 r, 1 u, 85.5ms\n",
      "Speed: 2.0ms preprocess, 85.5ms inference, 2.0ms postprocess per image at shape (1, 3, 224, 640)\n",
      "\n",
      "image 1/1 D:\\yolo+cnn\\train\\images\\gpwn4_png.rf.1a5dfc917f7f56f6cd77850713e6dac0.jpg: 224x640 1 4, 1 g, 1 n, 1 p, 1 w, 83.2ms\n",
      "Speed: 2.0ms preprocess, 83.2ms inference, 1.0ms postprocess per image at shape (1, 3, 224, 640)\n",
      "\n",
      "image 1/1 D:\\yolo+cnn\\train\\images\\gpwn4_png.rf.80f9b0da46c31891de05c6f959528816.jpg: 224x640 1 4, 1 g, 1 n, 1 p, 1 w, 80.6ms\n",
      "Speed: 1.0ms preprocess, 80.6ms inference, 3.0ms postprocess per image at shape (1, 3, 224, 640)\n",
      "\n",
      "image 1/1 D:\\yolo+cnn\\train\\images\\gpwn4_png.rf.fdb272df3cf58ba6f669a09db2551661.jpg: 224x640 1 4, 1 g, 2 ns, 1 p, 1 w, 84.8ms\n",
      "Speed: 1.0ms preprocess, 84.8ms inference, 1.0ms postprocess per image at shape (1, 3, 224, 640)\n",
      "\n",
      "image 1/1 D:\\yolo+cnn\\train\\images\\gtkst_png.rf.152d92a99144104628b7a9c2365aa6a4.jpg: 224x640 1 g, 1 k, 1 s, 3 ts, 84.9ms\n",
      "Speed: 1.0ms preprocess, 84.9ms inference, 0.0ms postprocess per image at shape (1, 3, 224, 640)\n",
      "\n",
      "image 1/1 D:\\yolo+cnn\\train\\images\\gtkst_png.rf.b6c81f2b93ddfb4b97ede755c71445ff.jpg: 224x640 1 g, 1 k, 1 s, 2 ts, 81.2ms\n",
      "Speed: 1.0ms preprocess, 81.2ms inference, 1.0ms postprocess per image at shape (1, 3, 224, 640)\n",
      "\n",
      "image 1/1 D:\\yolo+cnn\\train\\images\\gtkst_png.rf.c71378248144942ac83ce7a1340b133f.jpg: 224x640 1 g, 1 k, 1 s, 2 ts, 82.1ms\n",
      "Speed: 1.5ms preprocess, 82.1ms inference, 1.0ms postprocess per image at shape (1, 3, 224, 640)\n",
      "\n",
      "image 1/1 D:\\yolo+cnn\\train\\images\\gvpzs_png.rf.2202e507fe6e02c4ae9a773306724293.jpg: 224x640 1 g, 1 p, 1 s, 1 v, 1 z, 81.7ms\n",
      "Speed: 1.0ms preprocess, 81.7ms inference, 2.0ms postprocess per image at shape (1, 3, 224, 640)\n",
      "\n",
      "image 1/1 D:\\yolo+cnn\\train\\images\\gvpzs_png.rf.70f0d46e5934c2891f2a8f95471b918d.jpg: 224x640 1 g, 1 p, 1 s, 1 v, 1 z, 82.5ms\n",
      "Speed: 1.0ms preprocess, 82.5ms inference, 1.0ms postprocess per image at shape (1, 3, 224, 640)\n",
      "\n",
      "image 1/1 D:\\yolo+cnn\\train\\images\\gvpzs_png.rf.9a8e7bc35ff4c9d4c6c369547db3d89d.jpg: 224x640 1 g, 1 p, 1 s, 1 v, 1 z, 86.4ms\n",
      "Speed: 1.0ms preprocess, 86.4ms inference, 1.0ms postprocess per image at shape (1, 3, 224, 640)\n",
      "\n",
      "image 1/1 D:\\yolo+cnn\\train\\images\\hnixf_png.rf.8297360a0adcc2ce7d67cb78dab5a6ef.jpg: 224x640 1 f, 1 h, 1 i, 2 ns, 1 x, 103.3ms\n",
      "Speed: 1.0ms preprocess, 103.3ms inference, 0.0ms postprocess per image at shape (1, 3, 224, 640)\n",
      "\n",
      "image 1/1 D:\\yolo+cnn\\train\\images\\hnixf_png.rf.e4a96650ebd6fbed752b19f20b087747.jpg: 224x640 1 f, 1 h, 1 i, 1 n, 1 x, 99.6ms\n",
      "Speed: 2.0ms preprocess, 99.6ms inference, 1.0ms postprocess per image at shape (1, 3, 224, 640)\n",
      "\n",
      "image 1/1 D:\\yolo+cnn\\train\\images\\hnixf_png.rf.ff7eeed708d969d7a8e8c846be518118.jpg: 224x640 1 f, 1 h, 1 i, 2 ns, 1 x, 81.6ms\n",
      "Speed: 1.0ms preprocess, 81.6ms inference, 1.0ms postprocess per image at shape (1, 3, 224, 640)\n",
      "\n",
      "image 1/1 D:\\yolo+cnn\\train\\images\\ho68o_png.rf.3b4326c8b08ac749e9e916debca8aca7.jpg: 224x640 1 6, 1 8, 1 h, 2 os, 84.7ms\n",
      "Speed: 1.0ms preprocess, 84.7ms inference, 1.0ms postprocess per image at shape (1, 3, 224, 640)\n",
      "\n",
      "image 1/1 D:\\yolo+cnn\\train\\images\\ho68o_png.rf.474bdb98b731e30d254f9bc2ccfc8b4e.jpg: 224x640 1 6, 1 8, 1 h, 2 os, 80.1ms\n",
      "Speed: 2.0ms preprocess, 80.1ms inference, 1.0ms postprocess per image at shape (1, 3, 224, 640)\n",
      "\n",
      "image 1/1 D:\\yolo+cnn\\train\\images\\ho68o_png.rf.f6020e14b862bfbbd3522e67f3495ad5.jpg: 224x640 1 6, 1 8, 1 h, 2 os, 84.0ms\n",
      "Speed: 1.0ms preprocess, 84.0ms inference, 1.0ms postprocess per image at shape (1, 3, 224, 640)\n",
      "\n",
      "image 1/1 D:\\yolo+cnn\\train\\images\\hwkwu_png.rf.68b3a81a20f3d7c86b8115d1ae20d238.jpg: 224x640 1 h, 1 k, 1 u, 2 ws, 82.8ms\n",
      "Speed: 1.0ms preprocess, 82.8ms inference, 1.0ms postprocess per image at shape (1, 3, 224, 640)\n",
      "\n",
      "image 1/1 D:\\yolo+cnn\\train\\images\\hwkwu_png.rf.c7ea90006a6dbc74139c5137634f7adc.jpg: 224x640 1 h, 1 k, 1 u, 2 ws, 88.1ms\n",
      "Speed: 1.0ms preprocess, 88.1ms inference, 1.0ms postprocess per image at shape (1, 3, 224, 640)\n",
      "\n",
      "image 1/1 D:\\yolo+cnn\\train\\images\\hwkwu_png.rf.f002d8ce120eff827054925752bece78.jpg: 224x640 1 h, 1 k, 1 u, 2 ws, 86.4ms\n",
      "Speed: 2.0ms preprocess, 86.4ms inference, 0.8ms postprocess per image at shape (1, 3, 224, 640)\n",
      "\n",
      "image 1/1 D:\\yolo+cnn\\train\\images\\hwskj_png.rf.47b9e3f4159f2f219757fa343601b64e.jpg: 224x640 1 h, 1 j, 1 k, 1 s, 1 w, 85.6ms\n",
      "Speed: 1.0ms preprocess, 85.6ms inference, 2.0ms postprocess per image at shape (1, 3, 224, 640)\n",
      "\n",
      "image 1/1 D:\\yolo+cnn\\train\\images\\hwskj_png.rf.6bfd62ebefc0dfb8a8f25bf7a62030df.jpg: 224x640 1 h, 1 j, 1 k, 1 s, 1 w, 80.7ms\n",
      "Speed: 2.0ms preprocess, 80.7ms inference, 2.0ms postprocess per image at shape (1, 3, 224, 640)\n",
      "\n",
      "image 1/1 D:\\yolo+cnn\\train\\images\\hwskj_png.rf.cefc7bf3fbcb2e43ae5276bcb20cf3e4.jpg: 224x640 1 h, 1 j, 1 k, 1 s, 1 w, 85.0ms\n",
      "Speed: 1.0ms preprocess, 85.0ms inference, 1.0ms postprocess per image at shape (1, 3, 224, 640)\n",
      "\n",
      "image 1/1 D:\\yolo+cnn\\train\\images\\hxef6_png.rf.279a95972febf83d5b969782cc80266c.jpg: 224x640 1 6, 1 e, 1 f, 1 h, 1 x, 95.5ms\n",
      "Speed: 1.4ms preprocess, 95.5ms inference, 1.1ms postprocess per image at shape (1, 3, 224, 640)\n",
      "\n",
      "image 1/1 D:\\yolo+cnn\\train\\images\\hxef6_png.rf.5f1571436117f282856b6af0d12eee8b.jpg: 224x640 1 6, 1 e, 1 f, 1 h, 1 x, 82.0ms\n",
      "Speed: 1.0ms preprocess, 82.0ms inference, 2.0ms postprocess per image at shape (1, 3, 224, 640)\n",
      "\n",
      "image 1/1 D:\\yolo+cnn\\train\\images\\hxef6_png.rf.fbcc8d2bf7079e435747a5a3b94bfaa0.jpg: 224x640 1 6, 1 e, 1 f, 1 h, 1 x, 85.9ms\n",
      "Speed: 1.0ms preprocess, 85.9ms inference, 1.0ms postprocess per image at shape (1, 3, 224, 640)\n",
      "\n",
      "image 1/1 D:\\yolo+cnn\\train\\images\\hy3gc_png.rf.3d66e663ef7a5eeacac6f0bff21db478.jpg: 224x640 1 3, 1 c, 1 g, 1 h, 1 y, 81.2ms\n",
      "Speed: 1.0ms preprocess, 81.2ms inference, 1.0ms postprocess per image at shape (1, 3, 224, 640)\n",
      "\n",
      "image 1/1 D:\\yolo+cnn\\train\\images\\hy3gc_png.rf.b622154ad11b7d6cbe945b64feb8072d.jpg: 224x640 1 3, 1 c, 1 g, 1 h, 1 y, 81.9ms\n",
      "Speed: 0.9ms preprocess, 81.9ms inference, 1.0ms postprocess per image at shape (1, 3, 224, 640)\n",
      "\n",
      "image 1/1 D:\\yolo+cnn\\train\\images\\hy3gc_png.rf.cf3e499b66184952681df46cb9ed5c13.jpg: 224x640 1 3, 1 c, 1 g, 1 h, 1 y, 87.6ms\n",
      "Speed: 2.0ms preprocess, 87.6ms inference, 1.0ms postprocess per image at shape (1, 3, 224, 640)\n",
      "\n",
      "image 1/1 D:\\yolo+cnn\\train\\images\\i7645_png.rf.985ba689283c1eddb3ee5ad8e7f075d3.jpg: 224x640 2 4s, 1 5, 1 6, 2 7s, 1 i, 86.4ms\n",
      "Speed: 1.0ms preprocess, 86.4ms inference, 1.0ms postprocess per image at shape (1, 3, 224, 640)\n",
      "\n",
      "image 1/1 D:\\yolo+cnn\\train\\images\\i7645_png.rf.bb55d77ece89c68ade53e03bf780b6b5.jpg: 224x640 2 4s, 1 5, 1 6, 1 7, 1 i, 83.6ms\n",
      "Speed: 2.0ms preprocess, 83.6ms inference, 1.0ms postprocess per image at shape (1, 3, 224, 640)\n",
      "\n",
      "image 1/1 D:\\yolo+cnn\\train\\images\\i7645_png.rf.e4c65e1f0141b3185dbf8a9202e00323.jpg: 224x640 2 4s, 1 5, 1 6, 1 7, 1 i, 79.8ms\n",
      "Speed: 2.0ms preprocess, 79.8ms inference, 2.0ms postprocess per image at shape (1, 3, 224, 640)\n",
      "\n",
      "image 1/1 D:\\yolo+cnn\\train\\images\\igssv_png.rf.8ce8933660186c6a56264cf6c59aba94.jpg: 224x640 1 g, 1 i, 2 ss, 1 v, 87.1ms\n",
      "Speed: 1.1ms preprocess, 87.1ms inference, 1.0ms postprocess per image at shape (1, 3, 224, 640)\n",
      "\n",
      "image 1/1 D:\\yolo+cnn\\train\\images\\igssv_png.rf.b02de82fc482a11fd9158abc25754536.jpg: 224x640 1 g, 1 i, 2 ss, 1 v, 86.9ms\n",
      "Speed: 1.0ms preprocess, 86.9ms inference, 2.0ms postprocess per image at shape (1, 3, 224, 640)\n",
      "\n",
      "image 1/1 D:\\yolo+cnn\\train\\images\\igssv_png.rf.c3d15b715059dbf3110532f8a8564f45.jpg: 224x640 1 g, 1 i, 2 ss, 1 v, 111.0ms\n",
      "Speed: 1.7ms preprocess, 111.0ms inference, 2.0ms postprocess per image at shape (1, 3, 224, 640)\n",
      "\n",
      "image 1/1 D:\\yolo+cnn\\train\\images\\itwky_png.rf.377a240b7bc2f567757b42395907b8ca.jpg: 224x640 1 i, 1 k, 1 t, 1 w, 1 y, 104.9ms\n",
      "Speed: 1.1ms preprocess, 104.9ms inference, 2.0ms postprocess per image at shape (1, 3, 224, 640)\n",
      "\n",
      "image 1/1 D:\\yolo+cnn\\train\\images\\itwky_png.rf.7fd3bb805bec0d5f93daa781d1f49efb.jpg: 224x640 1 i, 1 k, 1 t, 1 w, 1 y, 106.5ms\n",
      "Speed: 3.0ms preprocess, 106.5ms inference, 1.0ms postprocess per image at shape (1, 3, 224, 640)\n",
      "\n",
      "image 1/1 D:\\yolo+cnn\\train\\images\\itwky_png.rf.fe6efdc5818baa25b8d8813ee4459703.jpg: 224x640 1 i, 1 k, 1 t, 1 w, 1 y, 104.5ms\n",
      "Speed: 1.5ms preprocess, 104.5ms inference, 2.0ms postprocess per image at shape (1, 3, 224, 640)\n",
      "\n",
      "image 1/1 D:\\yolo+cnn\\train\\images\\ivf7c_png.rf.79753b4c715bdbe7d454d7aab5539846.jpg: 224x640 1 7, 1 c, 1 f, 1 i, 1 v, 107.2ms\n",
      "Speed: 1.0ms preprocess, 107.2ms inference, 1.0ms postprocess per image at shape (1, 3, 224, 640)\n",
      "\n",
      "image 1/1 D:\\yolo+cnn\\train\\images\\ivf7c_png.rf.b86f8ff227b76dced9253368802cf03c.jpg: 224x640 1 7, 1 c, 1 f, 1 i, 1 v, 110.3ms\n",
      "Speed: 1.0ms preprocess, 110.3ms inference, 1.0ms postprocess per image at shape (1, 3, 224, 640)\n",
      "\n",
      "image 1/1 D:\\yolo+cnn\\train\\images\\ivf7c_png.rf.d49a226ac6122c47f886de3033b12eee.jpg: 224x640 1 7, 1 c, 1 f, 1 i, 1 v, 113.5ms\n",
      "Speed: 1.0ms preprocess, 113.5ms inference, 1.0ms postprocess per image at shape (1, 3, 224, 640)\n",
      "\n",
      "image 1/1 D:\\yolo+cnn\\train\\images\\iy2kz_png.rf.2c823142c9d4397ccd8c95d14cd69ead.jpg: 224x640 1 2, 1 i, 1 k, 1 y, 1 z, 108.2ms\n",
      "Speed: 1.2ms preprocess, 108.2ms inference, 1.0ms postprocess per image at shape (1, 3, 224, 640)\n",
      "\n",
      "image 1/1 D:\\yolo+cnn\\train\\images\\iy2kz_png.rf.8f7d206d8ce6fa967a3142e5f04da81b.jpg: 224x640 1 2, 1 i, 1 k, 1 y, 1 z, 101.3ms\n",
      "Speed: 1.0ms preprocess, 101.3ms inference, 1.0ms postprocess per image at shape (1, 3, 224, 640)\n",
      "\n",
      "image 1/1 D:\\yolo+cnn\\train\\images\\iy2kz_png.rf.b13f6ee2e79c49e3c1d193d0f23efea4.jpg: 224x640 1 2, 1 i, 1 k, 1 y, 1 z, 95.7ms\n",
      "Speed: 2.0ms preprocess, 95.7ms inference, 1.0ms postprocess per image at shape (1, 3, 224, 640)\n",
      "\n",
      "image 1/1 D:\\yolo+cnn\\train\\images\\jbhvm_png.rf.b59fc066020f01476adf1756016c0d9b.jpg: 224x640 1 b, 1 h, 1 j, 1 m, 1 v, 83.8ms\n",
      "Speed: 1.0ms preprocess, 83.8ms inference, 1.0ms postprocess per image at shape (1, 3, 224, 640)\n",
      "\n",
      "image 1/1 D:\\yolo+cnn\\train\\images\\jbhvm_png.rf.e7033593b5551774deac78477900f178.jpg: 224x640 1 b, 1 h, 1 j, 1 m, 1 v, 89.5ms\n",
      "Speed: 1.0ms preprocess, 89.5ms inference, 1.0ms postprocess per image at shape (1, 3, 224, 640)\n",
      "\n",
      "image 1/1 D:\\yolo+cnn\\train\\images\\jbhvm_png.rf.ea7c70c789e56c3ed803d9f1142e13b0.jpg: 224x640 1 b, 1 h, 1 j, 2 ms, 1 v, 168.3ms\n",
      "Speed: 2.0ms preprocess, 168.3ms inference, 2.6ms postprocess per image at shape (1, 3, 224, 640)\n",
      "\n",
      "image 1/1 D:\\yolo+cnn\\train\\images\\jcwvg_png.rf.43faacad856830125635986cc5b14dc5.jpg: 224x640 1 c, 1 g, 1 j, 1 v, 1 w, 136.8ms\n",
      "Speed: 3.0ms preprocess, 136.8ms inference, 1.0ms postprocess per image at shape (1, 3, 224, 640)\n",
      "\n",
      "image 1/1 D:\\yolo+cnn\\train\\images\\jcwvg_png.rf.7b798e6b8686f4d2b4d1c370d9e42434.jpg: 224x640 1 c, 1 g, 1 j, 1 v, 1 w, 178.6ms\n",
      "Speed: 2.0ms preprocess, 178.6ms inference, 3.0ms postprocess per image at shape (1, 3, 224, 640)\n",
      "\n",
      "image 1/1 D:\\yolo+cnn\\train\\images\\jcwvg_png.rf.b428d2f5d84ccd9baae52a2b439c5f6d.jpg: 224x640 1 c, 1 g, 1 j, 1 v, 1 w, 162.4ms\n",
      "Speed: 3.0ms preprocess, 162.4ms inference, 1.5ms postprocess per image at shape (1, 3, 224, 640)\n",
      "\n",
      "image 1/1 D:\\yolo+cnn\\train\\images\\je8jo_png.rf.53d379ce8e03c5c8610bfa0e8faaab68.jpg: 224x640 1 8, 1 e, 2 js, 1 o, 129.2ms\n",
      "Speed: 2.0ms preprocess, 129.2ms inference, 1.2ms postprocess per image at shape (1, 3, 224, 640)\n",
      "\n",
      "image 1/1 D:\\yolo+cnn\\train\\images\\je8jo_png.rf.581d1743806a57231b04acf6bad25d5d.jpg: 224x640 1 8, 1 e, 2 js, 1 o, 109.5ms\n",
      "Speed: 1.0ms preprocess, 109.5ms inference, 1.0ms postprocess per image at shape (1, 3, 224, 640)\n",
      "\n",
      "image 1/1 D:\\yolo+cnn\\train\\images\\je8jo_png.rf.7f08998af3916e322f5381286e494e99.jpg: 224x640 1 8, 1 e, 2 js, 1 o, 113.0ms\n",
      "Speed: 1.0ms preprocess, 113.0ms inference, 0.0ms postprocess per image at shape (1, 3, 224, 640)\n",
      "\n",
      "image 1/1 D:\\yolo+cnn\\train\\images\\jmrju_png.rf.3075f1d46741412146a0448332f0466b.jpg: 224x640 2 js, 1 m, 1 r, 1 u, 114.0ms\n",
      "Speed: 1.0ms preprocess, 114.0ms inference, 1.1ms postprocess per image at shape (1, 3, 224, 640)\n",
      "\n",
      "image 1/1 D:\\yolo+cnn\\train\\images\\jmrju_png.rf.73070d4d080eb28e3800a5fdeabbb755.jpg: 224x640 2 js, 1 m, 1 r, 1 u, 97.1ms\n",
      "Speed: 4.0ms preprocess, 97.1ms inference, 2.0ms postprocess per image at shape (1, 3, 224, 640)\n",
      "\n",
      "image 1/1 D:\\yolo+cnn\\train\\images\\jmrju_png.rf.ca06baa9a7e98bb138b1a4486f837f59.jpg: 224x640 2 js, 1 m, 1 r, 1 u, 104.9ms\n",
      "Speed: 4.0ms preprocess, 104.9ms inference, 1.0ms postprocess per image at shape (1, 3, 224, 640)\n",
      "\n",
      "image 1/1 D:\\yolo+cnn\\train\\images\\jop8q_png.rf.62dce9d13b987edd2e8917fd8bdf63a0.jpg: 224x640 1 8, 1 j, 1 o, 1 p, 1 q, 97.2ms\n",
      "Speed: 2.0ms preprocess, 97.2ms inference, 1.5ms postprocess per image at shape (1, 3, 224, 640)\n",
      "\n",
      "image 1/1 D:\\yolo+cnn\\train\\images\\jop8q_png.rf.8342a3218417d1ff9fe02604d52ed8b6.jpg: 224x640 1 8, 1 j, 1 o, 1 p, 1 q, 84.1ms\n",
      "Speed: 1.0ms preprocess, 84.1ms inference, 1.0ms postprocess per image at shape (1, 3, 224, 640)\n",
      "\n",
      "image 1/1 D:\\yolo+cnn\\train\\images\\jop8q_png.rf.e67add1893919d9d5b81ac163ad24312.jpg: 224x640 1 8, 1 j, 1 o, 1 p, 1 q, 85.4ms\n",
      "Speed: 1.5ms preprocess, 85.4ms inference, 2.0ms postprocess per image at shape (1, 3, 224, 640)\n",
      "\n",
      "image 1/1 D:\\yolo+cnn\\train\\images\\jr55h_png.rf.522bb329aa37591c20ad14dd05bc8b30.jpg: 224x640 2 5s, 1 h, 1 j, 1 r, 99.9ms\n",
      "Speed: 0.0ms preprocess, 99.9ms inference, 3.0ms postprocess per image at shape (1, 3, 224, 640)\n",
      "\n",
      "image 1/1 D:\\yolo+cnn\\train\\images\\jr55h_png.rf.d16541c7f61283ce217cc32acdd29945.jpg: 224x640 2 5s, 1 h, 1 j, 1 r, 85.7ms\n",
      "Speed: 1.0ms preprocess, 85.7ms inference, 2.0ms postprocess per image at shape (1, 3, 224, 640)\n",
      "\n",
      "image 1/1 D:\\yolo+cnn\\train\\images\\jr55h_png.rf.e5d2e7cad860514f5ef3a295feceff1b.jpg: 224x640 2 5s, 1 h, 1 j, 1 r, 79.6ms\n",
      "Speed: 1.0ms preprocess, 79.6ms inference, 0.0ms postprocess per image at shape (1, 3, 224, 640)\n",
      "\n",
      "image 1/1 D:\\yolo+cnn\\train\\images\\jv3qy_png.rf.69b54fa1355a58d31d3fea4fe95b1eac.jpg: 224x640 1 3, 1 j, 1 q, 1 v, 1 y, 82.0ms\n",
      "Speed: 1.0ms preprocess, 82.0ms inference, 1.0ms postprocess per image at shape (1, 3, 224, 640)\n",
      "\n",
      "image 1/1 D:\\yolo+cnn\\train\\images\\jv3qy_png.rf.99ecdeb34efaae0e5d71ae26e8ccaf0b.jpg: 224x640 1 3, 1 j, 1 q, 1 v, 1 y, 75.0ms\n",
      "Speed: 2.0ms preprocess, 75.0ms inference, 1.0ms postprocess per image at shape (1, 3, 224, 640)\n",
      "\n",
      "image 1/1 D:\\yolo+cnn\\train\\images\\jv3qy_png.rf.f0fe83b9fa5574f3fd1fcc4df7149cd2.jpg: 224x640 1 3, 1 j, 1 q, 1 v, 1 y, 71.0ms\n",
      "Speed: 1.5ms preprocess, 71.0ms inference, 1.0ms postprocess per image at shape (1, 3, 224, 640)\n",
      "\n",
      "image 1/1 D:\\yolo+cnn\\train\\images\\k2fxt_png.rf.60d58a400b697c70a0da16d5562fbda2.jpg: 224x640 1 2, 1 f, 1 k, 1 t, 1 x, 69.7ms\n",
      "Speed: 1.9ms preprocess, 69.7ms inference, 1.0ms postprocess per image at shape (1, 3, 224, 640)\n",
      "\n",
      "image 1/1 D:\\yolo+cnn\\train\\images\\k2fxt_png.rf.9561b8f585196b9cab6e0e2527376a63.jpg: 224x640 1 2, 1 f, 1 k, 1 t, 1 x, 71.0ms\n",
      "Speed: 1.0ms preprocess, 71.0ms inference, 1.2ms postprocess per image at shape (1, 3, 224, 640)\n",
      "\n",
      "image 1/1 D:\\yolo+cnn\\train\\images\\k2fxt_png.rf.f4facee353af3190c85e464a4038f29e.jpg: 224x640 1 2, 1 f, 1 k, 1 t, 1 x, 73.2ms\n",
      "Speed: 1.0ms preprocess, 73.2ms inference, 1.0ms postprocess per image at shape (1, 3, 224, 640)\n",
      "\n",
      "image 1/1 D:\\yolo+cnn\\train\\images\\kbd6g_png.rf.165d1130aab9b0598bf7d5bc451297dd.jpg: 224x640 1 6, 1 b, 1 d, 1 g, 1 k, 127.7ms\n",
      "Speed: 1.0ms preprocess, 127.7ms inference, 1.0ms postprocess per image at shape (1, 3, 224, 640)\n",
      "\n",
      "image 1/1 D:\\yolo+cnn\\train\\images\\kbd6g_png.rf.4aed0c94afc3b8036656a2584c1b7a38.jpg: 224x640 1 6, 1 b, 1 d, 1 g, 1 k, 83.4ms\n",
      "Speed: 1.0ms preprocess, 83.4ms inference, 1.0ms postprocess per image at shape (1, 3, 224, 640)\n",
      "\n",
      "image 1/1 D:\\yolo+cnn\\train\\images\\kbd6g_png.rf.c01178f897ae4674644b4331741c4afd.jpg: 224x640 1 6, 1 b, 1 d, 1 g, 1 k, 80.4ms\n",
      "Speed: 1.0ms preprocess, 80.4ms inference, 0.0ms postprocess per image at shape (1, 3, 224, 640)\n",
      "\n",
      "image 1/1 D:\\yolo+cnn\\train\\images\\kdnp7_png.rf.96fb907325928a7ad6778dd2931e8962.jpg: 224x640 1 7, 1 d, 1 k, 2 ns, 1 p, 95.1ms\n",
      "Speed: 1.0ms preprocess, 95.1ms inference, 1.0ms postprocess per image at shape (1, 3, 224, 640)\n",
      "\n",
      "image 1/1 D:\\yolo+cnn\\train\\images\\kdnp7_png.rf.ccc732957209adf1164e911afae5bdca.jpg: 224x640 1 7, 1 d, 1 k, 2 ns, 1 p, 74.6ms\n",
      "Speed: 1.0ms preprocess, 74.6ms inference, 1.0ms postprocess per image at shape (1, 3, 224, 640)\n",
      "\n",
      "image 1/1 D:\\yolo+cnn\\train\\images\\kdnp7_png.rf.eaab87aeda5d65eb2acfd983b1096693.jpg: 224x640 1 7, 1 d, 1 k, 1 n, 1 p, 72.5ms\n",
      "Speed: 1.0ms preprocess, 72.5ms inference, 0.0ms postprocess per image at shape (1, 3, 224, 640)\n",
      "\n",
      "image 1/1 D:\\yolo+cnn\\train\\images\\ktv8s_png.rf.8d52ef1226f66e98b2e849d3798a8999.jpg: 224x640 1 8, 1 k, 1 s, 1 t, 1 v, 79.5ms\n",
      "Speed: 1.0ms preprocess, 79.5ms inference, 1.0ms postprocess per image at shape (1, 3, 224, 640)\n",
      "\n",
      "image 1/1 D:\\yolo+cnn\\train\\images\\ktv8s_png.rf.cba8ec34a1a4ca1dbec372b123348987.jpg: 224x640 1 8, 1 k, 1 s, 1 t, 1 v, 74.6ms\n",
      "Speed: 1.0ms preprocess, 74.6ms inference, 0.0ms postprocess per image at shape (1, 3, 224, 640)\n",
      "\n",
      "image 1/1 D:\\yolo+cnn\\train\\images\\ktv8s_png.rf.d3597c6ab041657156f2f002dded9e99.jpg: 224x640 1 8, 1 k, 1 s, 1 t, 1 v, 80.7ms\n",
      "Speed: 1.0ms preprocess, 80.7ms inference, 1.5ms postprocess per image at shape (1, 3, 224, 640)\n",
      "\n",
      "image 1/1 D:\\yolo+cnn\\train\\images\\m2wxd_png.rf.6f186de3c7f64cc573864fc5aaef21f1.jpg: 224x640 1 2, 1 d, 1 m, 1 w, 1 x, 78.7ms\n",
      "Speed: 1.0ms preprocess, 78.7ms inference, 0.0ms postprocess per image at shape (1, 3, 224, 640)\n",
      "\n",
      "image 1/1 D:\\yolo+cnn\\train\\images\\m2wxd_png.rf.7325535a946656e8494728e2d2587d70.jpg: 224x640 1 2, 1 d, 1 m, 1 w, 1 x, 70.3ms\n",
      "Speed: 2.2ms preprocess, 70.3ms inference, 1.0ms postprocess per image at shape (1, 3, 224, 640)\n",
      "\n",
      "image 1/1 D:\\yolo+cnn\\train\\images\\m2wxd_png.rf.be0d2467057e4f11cbfa0464abac06b0.jpg: 224x640 1 2, 1 d, 2 ms, 1 w, 1 x, 75.0ms\n",
      "Speed: 1.5ms preprocess, 75.0ms inference, 1.0ms postprocess per image at shape (1, 3, 224, 640)\n",
      "\n",
      "image 1/1 D:\\yolo+cnn\\train\\images\\m4np4_png.rf.6db5a19a133184498a568071e9b7da99.jpg: 224x640 3 4s, 2 ms, 1 n, 1 p, 76.4ms\n",
      "Speed: 1.0ms preprocess, 76.4ms inference, 1.0ms postprocess per image at shape (1, 3, 224, 640)\n",
      "\n",
      "image 1/1 D:\\yolo+cnn\\train\\images\\m4np4_png.rf.747ce0b31064aec2df6ebf7899c1e218.jpg: 224x640 2 4s, 2 ms, 1 n, 1 p, 97.8ms\n",
      "Speed: 1.0ms preprocess, 97.8ms inference, 0.0ms postprocess per image at shape (1, 3, 224, 640)\n",
      "\n",
      "image 1/1 D:\\yolo+cnn\\train\\images\\m4np4_png.rf.b6b9339a7d902d36ae7a918a893cdd6c.jpg: 224x640 3 4s, 2 ms, 2 ns, 1 p, 94.8ms\n",
      "Speed: 1.2ms preprocess, 94.8ms inference, 1.0ms postprocess per image at shape (1, 3, 224, 640)\n",
      "\n",
      "image 1/1 D:\\yolo+cnn\\train\\images\\mcgu3_png.rf.068a2b8877e5b838e36dd09b7c819252.jpg: 224x640 1 3, 1 c, 1 g, 1 m, 1 u, 79.0ms\n",
      "Speed: 1.0ms preprocess, 79.0ms inference, 1.0ms postprocess per image at shape (1, 3, 224, 640)\n",
      "\n",
      "image 1/1 D:\\yolo+cnn\\train\\images\\mcgu3_png.rf.9ad8fad0beee8191a0637d4ffa8a36b4.jpg: 224x640 1 3, 1 c, 1 g, 2 ms, 1 u, 73.6ms\n",
      "Speed: 1.0ms preprocess, 73.6ms inference, 1.0ms postprocess per image at shape (1, 3, 224, 640)\n",
      "\n",
      "image 1/1 D:\\yolo+cnn\\train\\images\\mcgu3_png.rf.ee49ecd3864cf9c491e9546f48856e10.jpg: 224x640 1 3, 1 c, 1 g, 2 ms, 1 u, 77.6ms\n",
      "Speed: 1.0ms preprocess, 77.6ms inference, 1.0ms postprocess per image at shape (1, 3, 224, 640)\n",
      "\n",
      "image 1/1 D:\\yolo+cnn\\train\\images\\mgbji_png.rf.1ba8f6c5004f341dd29ea589d7a760e0.jpg: 224x640 1 b, 1 g, 1 i, 1 j, 2 ms, 92.8ms\n",
      "Speed: 1.0ms preprocess, 92.8ms inference, 2.0ms postprocess per image at shape (1, 3, 224, 640)\n",
      "\n",
      "image 1/1 D:\\yolo+cnn\\train\\images\\mgbji_png.rf.723d6ecdfd48ccca2e3d9a364373a07d.jpg: 224x640 1 b, 1 g, 2 is, 1 j, 1 m, 72.7ms\n",
      "Speed: 1.0ms preprocess, 72.7ms inference, 1.0ms postprocess per image at shape (1, 3, 224, 640)\n",
      "\n",
      "image 1/1 D:\\yolo+cnn\\train\\images\\mgbji_png.rf.ee53aa688e2e880090c460f945e7d001.jpg: 224x640 1 b, 1 g, 1 i, 1 j, 2 ms, 74.5ms\n",
      "Speed: 1.0ms preprocess, 74.5ms inference, 1.0ms postprocess per image at shape (1, 3, 224, 640)\n",
      "\n",
      "image 1/1 D:\\yolo+cnn\\train\\images\\mhfmm_png.rf.4f2e51be350efdec33a5fd44f795fbb7.jpg: 224x640 1 f, 1 h, 4 ms, 73.6ms\n",
      "Speed: 1.0ms preprocess, 73.6ms inference, 1.0ms postprocess per image at shape (1, 3, 224, 640)\n",
      "\n",
      "image 1/1 D:\\yolo+cnn\\train\\images\\mhfmm_png.rf.6035681586e81988b7f9e1d5ff84d534.jpg: 224x640 1 f, 1 h, 3 ms, 73.6ms\n",
      "Speed: 1.0ms preprocess, 73.6ms inference, 1.5ms postprocess per image at shape (1, 3, 224, 640)\n",
      "\n",
      "image 1/1 D:\\yolo+cnn\\train\\images\\mhfmm_png.rf.f53fc912910c2f72c02b9f24deba2ba1.jpg: 224x640 1 f, 1 h, 3 ms, 72.6ms\n",
      "Speed: 1.0ms preprocess, 72.6ms inference, 1.0ms postprocess per image at shape (1, 3, 224, 640)\n",
      "\n",
      "image 1/1 D:\\yolo+cnn\\train\\images\\mkq6p_png.rf.65176825ff1626948e8b5e4a8a475604.jpg: 224x640 1 6, 1 k, 1 m, 1 p, 1 q, 75.9ms\n",
      "Speed: 1.0ms preprocess, 75.9ms inference, 1.0ms postprocess per image at shape (1, 3, 224, 640)\n",
      "\n",
      "image 1/1 D:\\yolo+cnn\\train\\images\\mkq6p_png.rf.842b1792e1ac4eac68ba9a59ea5932ca.jpg: 224x640 1 6, 1 k, 1 m, 1 p, 1 q, 74.3ms\n",
      "Speed: 1.0ms preprocess, 74.3ms inference, 1.0ms postprocess per image at shape (1, 3, 224, 640)\n",
      "\n",
      "image 1/1 D:\\yolo+cnn\\train\\images\\mkq6p_png.rf.86093ebbdc1383e3ce3229eff5cae1c6.jpg: 224x640 1 6, 1 k, 1 m, 1 p, 1 q, 72.9ms\n",
      "Speed: 1.0ms preprocess, 72.9ms inference, 1.5ms postprocess per image at shape (1, 3, 224, 640)\n",
      "\n",
      "image 1/1 D:\\yolo+cnn\\train\\images\\mrgbg_png.rf.1449480411148fb277d28ddae647f391.jpg: 224x640 1 b, 2 gs, 2 ms, 1 r, 71.1ms\n",
      "Speed: 1.0ms preprocess, 71.1ms inference, 0.0ms postprocess per image at shape (1, 3, 224, 640)\n",
      "\n",
      "image 1/1 D:\\yolo+cnn\\train\\images\\mrgbg_png.rf.bd84dd8a7789a6b65684123c30349fa7.jpg: 224x640 1 b, 2 gs, 1 m, 1 r, 94.5ms\n",
      "Speed: 1.0ms preprocess, 94.5ms inference, 1.0ms postprocess per image at shape (1, 3, 224, 640)\n",
      "\n",
      "image 1/1 D:\\yolo+cnn\\train\\images\\mrgbg_png.rf.fdbdaf45f1c8aeca61c0839b7dbc72ce.jpg: 224x640 1 b, 2 gs, 2 ms, 1 r, 72.5ms\n",
      "Speed: 1.0ms preprocess, 72.5ms inference, 1.5ms postprocess per image at shape (1, 3, 224, 640)\n",
      "\n",
      "image 1/1 D:\\yolo+cnn\\train\\images\\mrrxr_png.rf.2bc689e9e0365869980d440cf82f3c6d.jpg: 224x640 2 ms, 3 rs, 1 x, 75.7ms\n",
      "Speed: 2.0ms preprocess, 75.7ms inference, 1.0ms postprocess per image at shape (1, 3, 224, 640)\n",
      "\n",
      "image 1/1 D:\\yolo+cnn\\train\\images\\mrrxr_png.rf.2f9177562bbcf09804c7b8ab4770518b.jpg: 224x640 2 ms, 3 rs, 1 x, 79.2ms\n",
      "Speed: 1.0ms preprocess, 79.2ms inference, 1.0ms postprocess per image at shape (1, 3, 224, 640)\n",
      "\n",
      "image 1/1 D:\\yolo+cnn\\train\\images\\mrrxr_png.rf.d5bee1ec6fd39e9f27be5aa19381e936.jpg: 224x640 1 m, 3 rs, 1 x, 75.3ms\n",
      "Speed: 1.0ms preprocess, 75.3ms inference, 1.0ms postprocess per image at shape (1, 3, 224, 640)\n",
      "\n",
      "image 1/1 D:\\yolo+cnn\\train\\images\\n2oey_png.rf.b89fe42c21bd460d853bc9e0f4573a86.jpg: 224x640 1 2, 1 e, 2 ns, 1 o, 1 y, 73.3ms\n",
      "Speed: 1.0ms preprocess, 73.3ms inference, 1.0ms postprocess per image at shape (1, 3, 224, 640)\n",
      "\n",
      "image 1/1 D:\\yolo+cnn\\train\\images\\n2oey_png.rf.f9a5804aa68c4ff2d036824aece92ce8.jpg: 224x640 1 2, 1 e, 2 ns, 1 o, 1 y, 73.6ms\n",
      "Speed: 2.0ms preprocess, 73.6ms inference, 1.0ms postprocess per image at shape (1, 3, 224, 640)\n",
      "\n",
      "image 1/1 D:\\yolo+cnn\\train\\images\\n2oey_png.rf.fc5f41d3807c9a8ceaeb979077100232.jpg: 224x640 1 2, 1 e, 2 ns, 1 o, 1 y, 78.7ms\n",
      "Speed: 1.0ms preprocess, 78.7ms inference, 1.0ms postprocess per image at shape (1, 3, 224, 640)\n",
      "\n",
      "image 1/1 D:\\yolo+cnn\\train\\images\\n48eu_png.rf.67d763ea09c4d21262b2a95bdc0474b8.jpg: 224x640 1 4, 1 8, 1 e, 1 n, 1 u, 75.8ms\n",
      "Speed: 2.0ms preprocess, 75.8ms inference, 0.0ms postprocess per image at shape (1, 3, 224, 640)\n",
      "\n",
      "image 1/1 D:\\yolo+cnn\\train\\images\\n48eu_png.rf.908a59aa556f395d24f1bc54f93fcbf8.jpg: 224x640 1 4, 1 8, 1 e, 1 n, 1 u, 80.1ms\n",
      "Speed: 2.0ms preprocess, 80.1ms inference, 1.0ms postprocess per image at shape (1, 3, 224, 640)\n",
      "\n",
      "image 1/1 D:\\yolo+cnn\\train\\images\\n48eu_png.rf.9b78e666ff9ece2e3b709f71e40ad773.jpg: 224x640 1 4, 1 8, 1 e, 2 ns, 1 u, 72.0ms\n",
      "Speed: 0.9ms preprocess, 72.0ms inference, 1.0ms postprocess per image at shape (1, 3, 224, 640)\n",
      "\n",
      "image 1/1 D:\\yolo+cnn\\train\\images\\n6n3x_png.rf.1633f2760b86b2e6aa4fb622654181b0.jpg: 224x640 1 3, 1 6, 3 ns, 1 x, 80.9ms\n",
      "Speed: 1.0ms preprocess, 80.9ms inference, 1.0ms postprocess per image at shape (1, 3, 224, 640)\n",
      "\n",
      "image 1/1 D:\\yolo+cnn\\train\\images\\n6n3x_png.rf.2555d519766847f7aa71159aa988ffac.jpg: 224x640 1 3, 1 6, 3 ns, 1 x, 96.2ms\n",
      "Speed: 2.0ms preprocess, 96.2ms inference, 1.1ms postprocess per image at shape (1, 3, 224, 640)\n",
      "\n",
      "image 1/1 D:\\yolo+cnn\\train\\images\\n6n3x_png.rf.f3a59295d07b4d39e359392229305c34.jpg: 224x640 1 3, 1 6, 2 ns, 1 x, 79.4ms\n",
      "Speed: 1.0ms preprocess, 79.4ms inference, 1.0ms postprocess per image at shape (1, 3, 224, 640)\n",
      "\n",
      "image 1/1 D:\\yolo+cnn\\train\\images\\n9fbh_png.rf.3a13c95b2ea02bd70d63a00b9918a43f.jpg: 224x640 1 9, 1 b, 1 f, 1 h, 2 ns, 76.9ms\n",
      "Speed: 1.0ms preprocess, 76.9ms inference, 1.0ms postprocess per image at shape (1, 3, 224, 640)\n",
      "\n",
      "image 1/1 D:\\yolo+cnn\\train\\images\\n9fbh_png.rf.8d2014239a4d0d9b5759b3348fcd3ea5.jpg: 224x640 1 9, 1 b, 1 f, 1 h, 2 ns, 73.8ms\n",
      "Speed: 1.0ms preprocess, 73.8ms inference, 1.1ms postprocess per image at shape (1, 3, 224, 640)\n",
      "\n",
      "image 1/1 D:\\yolo+cnn\\train\\images\\n9fbh_png.rf.fe51ecbc16614c81da3a1affa21e0b59.jpg: 224x640 1 9, 1 b, 1 f, 1 h, 1 n, 71.6ms\n",
      "Speed: 1.0ms preprocess, 71.6ms inference, 1.0ms postprocess per image at shape (1, 3, 224, 640)\n",
      "\n",
      "image 1/1 D:\\yolo+cnn\\train\\images\\nd93v_png.rf.101ac3d2f95a1c26395a2d82fd1b9fc0.jpg: 224x640 1 3, 1 9, 1 d, 2 ns, 1 v, 73.5ms\n",
      "Speed: 1.0ms preprocess, 73.5ms inference, 0.0ms postprocess per image at shape (1, 3, 224, 640)\n",
      "\n",
      "image 1/1 D:\\yolo+cnn\\train\\images\\nd93v_png.rf.1b58116678300f7396ca246476a63013.jpg: 224x640 1 3, 1 9, 1 d, 1 n, 1 v, 71.5ms\n",
      "Speed: 1.0ms preprocess, 71.5ms inference, 1.0ms postprocess per image at shape (1, 3, 224, 640)\n",
      "\n",
      "image 1/1 D:\\yolo+cnn\\train\\images\\nd93v_png.rf.977d20394d330723c63f58336e63eabc.jpg: 224x640 1 3, 1 9, 1 d, 2 ns, 1 v, 72.1ms\n",
      "Speed: 1.0ms preprocess, 72.1ms inference, 1.0ms postprocess per image at shape (1, 3, 224, 640)\n",
      "\n",
      "image 1/1 D:\\yolo+cnn\\train\\images\\nhbvz_png.rf.135cb1a94f93ddaeb8f57cd96f63143c.jpg: 224x640 1 b, 1 h, 2 ns, 1 v, 1 z, 75.0ms\n",
      "Speed: 1.0ms preprocess, 75.0ms inference, 1.0ms postprocess per image at shape (1, 3, 224, 640)\n",
      "\n",
      "image 1/1 D:\\yolo+cnn\\train\\images\\nhbvz_png.rf.6c1f82894ec18253123957c9e1dd74c0.jpg: 224x640 1 b, 1 h, 2 ns, 1 v, 1 z, 73.7ms\n",
      "Speed: 1.0ms preprocess, 73.7ms inference, 1.0ms postprocess per image at shape (1, 3, 224, 640)\n",
      "\n",
      "image 1/1 D:\\yolo+cnn\\train\\images\\nhbvz_png.rf.fe3e595063bd03ff2ae0714b1d60f05e.jpg: 224x640 1 b, 1 h, 1 n, 1 v, 1 z, 76.5ms\n",
      "Speed: 1.0ms preprocess, 76.5ms inference, 1.0ms postprocess per image at shape (1, 3, 224, 640)\n",
      "\n",
      "image 1/1 D:\\yolo+cnn\\train\\images\\nriad_png.rf.9f6951d8f8a040297ef35df7d41041de.jpg: 224x640 1 a, 1 d, 1 i, 2 ns, 1 r, 75.7ms\n",
      "Speed: 1.0ms preprocess, 75.7ms inference, 1.0ms postprocess per image at shape (1, 3, 224, 640)\n",
      "\n",
      "image 1/1 D:\\yolo+cnn\\train\\images\\nriad_png.rf.b2b7d92d985c264121d545d65d32c25e.jpg: 224x640 1 a, 1 d, 1 i, 2 ns, 1 r, 123.0ms\n",
      "Speed: 1.0ms preprocess, 123.0ms inference, 1.0ms postprocess per image at shape (1, 3, 224, 640)\n",
      "\n",
      "image 1/1 D:\\yolo+cnn\\train\\images\\nriad_png.rf.db91308ed93f4ff6a6faa231a4eea00e.jpg: 224x640 1 a, 1 d, 1 i, 1 n, 1 r, 89.0ms\n",
      "Speed: 1.0ms preprocess, 89.0ms inference, 1.0ms postprocess per image at shape (1, 3, 224, 640)\n",
      "\n",
      "image 1/1 D:\\yolo+cnn\\train\\images\\nsppt_png.rf.51067ed2a6fe8b9356fd25c77f2041ef.jpg: 224x640 1 n, 2 ps, 1 s, 1 t, 79.5ms\n",
      "Speed: 1.0ms preprocess, 79.5ms inference, 1.0ms postprocess per image at shape (1, 3, 224, 640)\n",
      "\n",
      "image 1/1 D:\\yolo+cnn\\train\\images\\nsppt_png.rf.8f7205af894c63951f0fb5dd34ec4613.jpg: 224x640 2 ns, 2 ps, 1 s, 1 t, 73.6ms\n",
      "Speed: 1.0ms preprocess, 73.6ms inference, 1.0ms postprocess per image at shape (1, 3, 224, 640)\n",
      "\n",
      "image 1/1 D:\\yolo+cnn\\train\\images\\nsppt_png.rf.d99e44b673f57bbdf07026302cc08b8c.jpg: 224x640 1 n, 2 ps, 1 s, 1 t, 75.5ms\n",
      "Speed: 1.0ms preprocess, 75.5ms inference, 1.0ms postprocess per image at shape (1, 3, 224, 640)\n",
      "\n",
      "image 1/1 D:\\yolo+cnn\\train\\images\\nx2v2_png.rf.4a199ca520e9196b0cd64c3bcf4d8cd4.jpg: 224x640 2 2s, 2 ns, 1 v, 1 x, 72.6ms\n",
      "Speed: 1.0ms preprocess, 72.6ms inference, 1.0ms postprocess per image at shape (1, 3, 224, 640)\n",
      "\n",
      "image 1/1 D:\\yolo+cnn\\train\\images\\nx2v2_png.rf.898c18a46d6b0e7dac4055884d08ce0e.jpg: 224x640 2 2s, 2 ns, 1 v, 1 x, 78.6ms\n",
      "Speed: 2.0ms preprocess, 78.6ms inference, 1.0ms postprocess per image at shape (1, 3, 224, 640)\n",
      "\n",
      "image 1/1 D:\\yolo+cnn\\train\\images\\nx2v2_png.rf.f191fccb33d1e7601ba852f0f0565ebf.jpg: 224x640 2 2s, 1 n, 1 v, 1 x, 74.0ms\n",
      "Speed: 1.0ms preprocess, 74.0ms inference, 1.0ms postprocess per image at shape (1, 3, 224, 640)\n",
      "\n",
      "image 1/1 D:\\yolo+cnn\\train\\images\\nzedm_png.rf.a71766a15d1fc70e43c6439d6ca1fc89.jpg: 224x640 1 d, 1 e, 1 m, 1 n, 1 z, 72.1ms\n",
      "Speed: 1.5ms preprocess, 72.1ms inference, 1.0ms postprocess per image at shape (1, 3, 224, 640)\n",
      "\n",
      "image 1/1 D:\\yolo+cnn\\train\\images\\nzedm_png.rf.c2a652b20d0258497df4d685b8461bef.jpg: 224x640 1 d, 1 e, 1 m, 2 ns, 1 z, 98.9ms\n",
      "Speed: 1.0ms preprocess, 98.9ms inference, 2.0ms postprocess per image at shape (1, 3, 224, 640)\n",
      "\n",
      "image 1/1 D:\\yolo+cnn\\train\\images\\nzedm_png.rf.d2022d402d6afa313a125a70ee0adc2e.jpg: 224x640 1 d, 1 e, 1 m, 2 ns, 1 z, 92.1ms\n",
      "Speed: 1.0ms preprocess, 92.1ms inference, 0.0ms postprocess per image at shape (1, 3, 224, 640)\n",
      "\n",
      "image 1/1 D:\\yolo+cnn\\train\\images\\nzkyo_png.rf.0a9a6a70a3b2db4508205c061ecd7ce6.jpg: 224x640 1 k, 2 ns, 1 o, 1 y, 1 z, 71.0ms\n",
      "Speed: 1.0ms preprocess, 71.0ms inference, 1.0ms postprocess per image at shape (1, 3, 224, 640)\n",
      "\n",
      "image 1/1 D:\\yolo+cnn\\train\\images\\nzkyo_png.rf.a4ad09d5b3040e19ed3fcee23f53fa9b.jpg: 224x640 1 k, 2 ns, 1 o, 1 y, 1 z, 74.6ms\n",
      "Speed: 2.0ms preprocess, 74.6ms inference, 1.0ms postprocess per image at shape (1, 3, 224, 640)\n",
      "\n",
      "image 1/1 D:\\yolo+cnn\\train\\images\\nzkyo_png.rf.ba63996f8da04adadb2eb1243214fe64.jpg: 224x640 1 k, 1 n, 1 o, 1 y, 1 z, 80.9ms\n",
      "Speed: 1.0ms preprocess, 80.9ms inference, 1.0ms postprocess per image at shape (1, 3, 224, 640)\n",
      "\n",
      "image 1/1 D:\\yolo+cnn\\train\\images\\o3y5e_png.rf.1994928c8e178a1a50fc9803ddc97789.jpg: 224x640 1 5, 1 e, 1 o, 1 y, 77.8ms\n",
      "Speed: 1.0ms preprocess, 77.8ms inference, 1.0ms postprocess per image at shape (1, 3, 224, 640)\n",
      "\n",
      "image 1/1 D:\\yolo+cnn\\train\\images\\o3y5e_png.rf.bdf8a04a40b4aace45711bf0c5279606.jpg: 224x640 1 5, 1 e, 1 o, 1 y, 72.3ms\n",
      "Speed: 1.0ms preprocess, 72.3ms inference, 1.0ms postprocess per image at shape (1, 3, 224, 640)\n",
      "\n",
      "image 1/1 D:\\yolo+cnn\\train\\images\\o3y5e_png.rf.d3051258988797e58a9b9baea481a300.jpg: 224x640 1 3, 1 5, 1 e, 1 o, 1 y, 73.8ms\n",
      "Speed: 1.0ms preprocess, 73.8ms inference, 1.0ms postprocess per image at shape (1, 3, 224, 640)\n",
      "\n",
      "image 1/1 D:\\yolo+cnn\\train\\images\\o5p7o_png.rf.04fc4a9db247559839cc4ed6ea8cb0ff.jpg: 224x640 1 5, 1 7, 2 os, 1 p, 73.6ms\n",
      "Speed: 1.0ms preprocess, 73.6ms inference, 0.0ms postprocess per image at shape (1, 3, 224, 640)\n",
      "\n",
      "image 1/1 D:\\yolo+cnn\\train\\images\\o5p7o_png.rf.7d1c204d6f832a9422f78edd94b76d3c.jpg: 224x640 1 5, 1 7, 2 os, 1 p, 72.8ms\n",
      "Speed: 1.0ms preprocess, 72.8ms inference, 2.0ms postprocess per image at shape (1, 3, 224, 640)\n",
      "\n",
      "image 1/1 D:\\yolo+cnn\\train\\images\\o5p7o_png.rf.a822cd9e58400b660e83bf093a3d92dd.jpg: 224x640 1 5, 1 7, 2 os, 1 p, 81.8ms\n",
      "Speed: 2.0ms preprocess, 81.8ms inference, 1.0ms postprocess per image at shape (1, 3, 224, 640)\n",
      "\n",
      "image 1/1 D:\\yolo+cnn\\train\\images\\oc27c_png.rf.5a93232017a9b888217b9369b1161e0a.jpg: 224x640 1 2, 1 7, 2 cs, 1 o, 82.4ms\n",
      "Speed: 2.0ms preprocess, 82.4ms inference, 2.0ms postprocess per image at shape (1, 3, 224, 640)\n",
      "\n",
      "image 1/1 D:\\yolo+cnn\\train\\images\\oc27c_png.rf.bf4d0e7228089f3901f143b0af5aa378.jpg: 224x640 1 2, 1 7, 2 cs, 1 o, 78.6ms\n",
      "Speed: 1.0ms preprocess, 78.6ms inference, 1.0ms postprocess per image at shape (1, 3, 224, 640)\n",
      "\n",
      "image 1/1 D:\\yolo+cnn\\train\\images\\oc27c_png.rf.d496b1350c1545c035037a5714a85c5a.jpg: 224x640 1 2, 1 7, 2 cs, 1 o, 81.5ms\n",
      "Speed: 1.0ms preprocess, 81.5ms inference, 1.7ms postprocess per image at shape (1, 3, 224, 640)\n",
      "\n",
      "image 1/1 D:\\yolo+cnn\\train\\images\\oer6s_png.rf.197038473748ff7c7386052fd6714ed1.jpg: 224x640 1 6, 1 e, 1 o, 1 r, 1 s, 125.3ms\n",
      "Speed: 2.0ms preprocess, 125.3ms inference, 1.5ms postprocess per image at shape (1, 3, 224, 640)\n",
      "\n",
      "image 1/1 D:\\yolo+cnn\\train\\images\\oer6s_png.rf.327fea59f1e73a8b7a72c6da325e0b0f.jpg: 224x640 1 6, 1 e, 1 o, 1 r, 1 s, 73.4ms\n",
      "Speed: 1.0ms preprocess, 73.4ms inference, 1.0ms postprocess per image at shape (1, 3, 224, 640)\n",
      "\n",
      "image 1/1 D:\\yolo+cnn\\train\\images\\oer6s_png.rf.9e56f54a76bb9b935ee09fc46a2652b0.jpg: 224x640 1 6, 1 e, 1 o, 1 r, 1 s, 74.5ms\n",
      "Speed: 1.0ms preprocess, 74.5ms inference, 1.0ms postprocess per image at shape (1, 3, 224, 640)\n",
      "\n",
      "image 1/1 D:\\yolo+cnn\\train\\images\\of3mp_png.rf.43cc68d9ba992c29b338f376f001625e.jpg: 224x640 1 3, 1 f, 1 m, 1 o, 1 p, 74.5ms\n",
      "Speed: 1.0ms preprocess, 74.5ms inference, 1.0ms postprocess per image at shape (1, 3, 224, 640)\n",
      "\n",
      "image 1/1 D:\\yolo+cnn\\train\\images\\of3mp_png.rf.a5b6eeffa03c150ae0c41815bf274044.jpg: 224x640 1 3, 1 f, 1 m, 1 o, 1 p, 71.7ms\n",
      "Speed: 2.0ms preprocess, 71.7ms inference, 1.5ms postprocess per image at shape (1, 3, 224, 640)\n",
      "\n",
      "image 1/1 D:\\yolo+cnn\\train\\images\\of3mp_png.rf.e5808611b302436ddcd7ab8f52e35570.jpg: 224x640 1 3, 1 f, 1 m, 1 o, 1 p, 139.3ms\n",
      "Speed: 2.0ms preprocess, 139.3ms inference, 1.0ms postprocess per image at shape (1, 3, 224, 640)\n",
      "\n",
      "image 1/1 D:\\yolo+cnn\\train\\images\\oqxki_png.rf.40f791a4b82d15c3331a0ef05a5af446.jpg: 224x640 1 i, 1 k, 1 o, 1 q, 1 x, 88.0ms\n",
      "Speed: 1.0ms preprocess, 88.0ms inference, 1.0ms postprocess per image at shape (1, 3, 224, 640)\n",
      "\n",
      "image 1/1 D:\\yolo+cnn\\train\\images\\oqxki_png.rf.439c560043c74c2e803ea35f2b29e42f.jpg: 224x640 1 i, 1 k, 1 o, 1 q, 1 x, 74.0ms\n",
      "Speed: 2.0ms preprocess, 74.0ms inference, 1.0ms postprocess per image at shape (1, 3, 224, 640)\n",
      "\n",
      "image 1/1 D:\\yolo+cnn\\train\\images\\oqxki_png.rf.f2197d6396bd26803fc3d54ba5364d52.jpg: 224x640 1 i, 1 k, 1 o, 1 q, 1 x, 72.0ms\n",
      "Speed: 1.0ms preprocess, 72.0ms inference, 0.0ms postprocess per image at shape (1, 3, 224, 640)\n",
      "\n",
      "image 1/1 D:\\yolo+cnn\\train\\images\\osnz2_png.rf.827a662e41d32c6a2777d0dfde9ffecb.jpg: 224x640 1 2, 1 n, 1 o, 1 s, 1 z, 73.2ms\n",
      "Speed: 1.0ms preprocess, 73.2ms inference, 1.0ms postprocess per image at shape (1, 3, 224, 640)\n",
      "\n",
      "image 1/1 D:\\yolo+cnn\\train\\images\\osnz2_png.rf.8d62b51bfe856b113c5df6af918b4fae.jpg: 224x640 1 2, 1 n, 1 o, 1 s, 1 z, 75.1ms\n",
      "Speed: 1.0ms preprocess, 75.1ms inference, 1.0ms postprocess per image at shape (1, 3, 224, 640)\n",
      "\n",
      "image 1/1 D:\\yolo+cnn\\train\\images\\osnz2_png.rf.bc7ccfd25d373537c4b9d53bb0cdd5fc.jpg: 224x640 1 2, 1 n, 1 o, 1 s, 1 z, 78.0ms\n",
      "Speed: 1.0ms preprocess, 78.0ms inference, 1.0ms postprocess per image at shape (1, 3, 224, 640)\n",
      "\n",
      "image 1/1 D:\\yolo+cnn\\train\\images\\ot457_png.rf.110c835b38a695b64367e0f910bde350.jpg: 224x640 2 4s, 1 5, 1 7, 1 o, 1 t, 83.3ms\n",
      "Speed: 2.0ms preprocess, 83.3ms inference, 0.0ms postprocess per image at shape (1, 3, 224, 640)\n",
      "\n",
      "image 1/1 D:\\yolo+cnn\\train\\images\\ot457_png.rf.7f66a619527138a2711a396791190f1b.jpg: 224x640 1 4, 1 5, 1 7, 1 o, 1 t, 75.2ms\n",
      "Speed: 2.1ms preprocess, 75.2ms inference, 1.0ms postprocess per image at shape (1, 3, 224, 640)\n",
      "\n",
      "image 1/1 D:\\yolo+cnn\\train\\images\\ot457_png.rf.ca80bcea1ffb0561af3be451bbb84105.jpg: 224x640 1 4, 1 5, 1 7, 1 o, 1 t, 72.3ms\n",
      "Speed: 0.9ms preprocess, 72.3ms inference, 1.0ms postprocess per image at shape (1, 3, 224, 640)\n",
      "\n",
      "image 1/1 D:\\yolo+cnn\\train\\images\\oxbnn_png.rf.690b98e9b90eb98700849824cf6ec0c2.jpg: 224x640 1 b, 2 ns, 1 o, 1 x, 81.0ms\n",
      "Speed: 1.0ms preprocess, 81.0ms inference, 1.0ms postprocess per image at shape (1, 3, 224, 640)\n",
      "\n",
      "image 1/1 D:\\yolo+cnn\\train\\images\\oxbnn_png.rf.7ec6b556dcb3d8cb34fc65ac1f3be698.jpg: 224x640 1 b, 3 ns, 1 o, 1 x, 78.6ms\n",
      "Speed: 2.0ms preprocess, 78.6ms inference, 1.0ms postprocess per image at shape (1, 3, 224, 640)\n",
      "\n",
      "image 1/1 D:\\yolo+cnn\\train\\images\\oxbnn_png.rf.fcea6cd72982510bc9ac8aed2972e9f6.jpg: 224x640 1 b, 4 ns, 1 o, 1 x, 74.5ms\n",
      "Speed: 1.0ms preprocess, 74.5ms inference, 1.0ms postprocess per image at shape (1, 3, 224, 640)\n",
      "\n",
      "image 1/1 D:\\yolo+cnn\\train\\images\\p6877_png.rf.3d6dc30fbb4494c80aac02758ecca5f8.jpg: 224x640 1 6, 2 7s, 1 8, 1 p, 81.0ms\n",
      "Speed: 1.0ms preprocess, 81.0ms inference, 1.0ms postprocess per image at shape (1, 3, 224, 640)\n",
      "\n",
      "image 1/1 D:\\yolo+cnn\\train\\images\\p6877_png.rf.71ffd474911ac3ea3a7aa835a9882257.jpg: 224x640 1 6, 2 7s, 1 8, 1 p, 91.4ms\n",
      "Speed: 1.3ms preprocess, 91.4ms inference, 1.0ms postprocess per image at shape (1, 3, 224, 640)\n",
      "\n",
      "image 1/1 D:\\yolo+cnn\\train\\images\\p6877_png.rf.e2d3cc7cd08a76fc1a7e07bb4bf181d1.jpg: 224x640 1 6, 2 7s, 1 8, 1 p, 90.9ms\n",
      "Speed: 1.0ms preprocess, 90.9ms inference, 2.0ms postprocess per image at shape (1, 3, 224, 640)\n",
      "\n",
      "image 1/1 D:\\yolo+cnn\\train\\images\\pbziy_png.rf.124ed9180345edb55fcfa39eb0993f06.jpg: 224x640 1 b, 1 i, 1 p, 1 y, 1 z, 95.2ms\n",
      "Speed: 2.0ms preprocess, 95.2ms inference, 1.0ms postprocess per image at shape (1, 3, 224, 640)\n",
      "\n",
      "image 1/1 D:\\yolo+cnn\\train\\images\\pbziy_png.rf.de85d1be3ea84c06152aceb0e53abd2e.jpg: 224x640 1 b, 1 i, 1 p, 1 y, 2 zs, 89.5ms\n",
      "Speed: 1.1ms preprocess, 89.5ms inference, 1.0ms postprocess per image at shape (1, 3, 224, 640)\n",
      "\n",
      "image 1/1 D:\\yolo+cnn\\train\\images\\pbziy_png.rf.febfc43414c5916096afaec1a48d5099.jpg: 224x640 1 b, 1 i, 1 p, 1 y, 1 z, 91.6ms\n",
      "Speed: 2.0ms preprocess, 91.6ms inference, 1.0ms postprocess per image at shape (1, 3, 224, 640)\n",
      "\n",
      "image 1/1 D:\\yolo+cnn\\train\\images\\pfidc_png.rf.4c03e71574517d5674a93dbc77a7f895.jpg: 224x640 1 c, 1 d, 1 f, 1 i, 1 p, 80.8ms\n",
      "Speed: 2.0ms preprocess, 80.8ms inference, 1.0ms postprocess per image at shape (1, 3, 224, 640)\n",
      "\n",
      "image 1/1 D:\\yolo+cnn\\train\\images\\pfidc_png.rf.7a61dc61df0a7eefdc96da99eea7a291.jpg: 224x640 1 c, 1 d, 1 f, 1 i, 1 p, 105.7ms\n",
      "Speed: 2.0ms preprocess, 105.7ms inference, 2.0ms postprocess per image at shape (1, 3, 224, 640)\n",
      "\n",
      "image 1/1 D:\\yolo+cnn\\train\\images\\pfidc_png.rf.9aaabab6c062522cd92fe85844aa6dc7.jpg: 224x640 1 c, 1 d, 1 f, 1 i, 1 p, 84.6ms\n",
      "Speed: 3.0ms preprocess, 84.6ms inference, 1.0ms postprocess per image at shape (1, 3, 224, 640)\n",
      "\n",
      "image 1/1 D:\\yolo+cnn\\train\\images\\pg9p3_png.rf.0772ed15b0292ea6dd53b7db1b300751.jpg: 224x640 1 3, 1 9, 1 g, 2 ps, 98.0ms\n",
      "Speed: 1.0ms preprocess, 98.0ms inference, 1.0ms postprocess per image at shape (1, 3, 224, 640)\n",
      "\n",
      "image 1/1 D:\\yolo+cnn\\train\\images\\pg9p3_png.rf.16f08d0686beb76aca9ace40a223b769.jpg: 224x640 1 3, 1 9, 1 g, 2 ps, 72.1ms\n",
      "Speed: 1.0ms preprocess, 72.1ms inference, 2.0ms postprocess per image at shape (1, 3, 224, 640)\n",
      "\n",
      "image 1/1 D:\\yolo+cnn\\train\\images\\pg9p3_png.rf.59d1d45cfc85ac87108857cd2e6ca414.jpg: 224x640 1 3, 1 9, 1 g, 2 ps, 78.5ms\n",
      "Speed: 1.0ms preprocess, 78.5ms inference, 1.0ms postprocess per image at shape (1, 3, 224, 640)\n",
      "\n",
      "image 1/1 D:\\yolo+cnn\\train\\images\\pjdza_png.rf.10863c44da5361231d530782ef3982d2.jpg: 224x640 1 a, 1 d, 1 j, 1 p, 1 z, 154.7ms\n",
      "Speed: 2.0ms preprocess, 154.7ms inference, 1.0ms postprocess per image at shape (1, 3, 224, 640)\n",
      "\n",
      "image 1/1 D:\\yolo+cnn\\train\\images\\pjdza_png.rf.10ab6e134e50d312dc812a4e4d285f0d.jpg: 224x640 1 a, 1 d, 1 j, 1 p, 1 z, 96.1ms\n",
      "Speed: 2.0ms preprocess, 96.1ms inference, 2.0ms postprocess per image at shape (1, 3, 224, 640)\n",
      "\n",
      "image 1/1 D:\\yolo+cnn\\train\\images\\pjdza_png.rf.1a94d718d49f03af996ff02b2a5e5051.jpg: 224x640 1 a, 1 d, 1 j, 1 p, 1 z, 92.9ms\n",
      "Speed: 1.0ms preprocess, 92.9ms inference, 1.0ms postprocess per image at shape (1, 3, 224, 640)\n",
      "\n",
      "image 1/1 D:\\yolo+cnn\\train\\images\\ptjcc_png.rf.4012fbab91206ad0f52f8917b810df5f.jpg: 224x640 2 cs, 1 j, 1 p, 2 ts, 87.0ms\n",
      "Speed: 1.5ms preprocess, 87.0ms inference, 1.0ms postprocess per image at shape (1, 3, 224, 640)\n",
      "\n",
      "image 1/1 D:\\yolo+cnn\\train\\images\\ptjcc_png.rf.463fc0654eb767b0c6949f3243c97b4e.jpg: 224x640 2 cs, 1 j, 1 p, 2 ts, 82.8ms\n",
      "Speed: 1.0ms preprocess, 82.8ms inference, 1.0ms postprocess per image at shape (1, 3, 224, 640)\n",
      "\n",
      "image 1/1 D:\\yolo+cnn\\train\\images\\ptjcc_png.rf.9fd9e38cb35ed86f54cbbdf97132ea1d.jpg: 224x640 2 cs, 1 j, 1 p, 2 ts, 99.4ms\n",
      "Speed: 1.0ms preprocess, 99.4ms inference, 2.0ms postprocess per image at shape (1, 3, 224, 640)\n",
      "\n",
      "image 1/1 D:\\yolo+cnn\\train\\images\\q88nv_png.rf.6e5f402872bdd8f8924ba67ad268788f.jpg: 224x640 2 8s, 1 n, 1 p, 1 q, 1 v, 131.4ms\n",
      "Speed: 1.2ms preprocess, 131.4ms inference, 1.0ms postprocess per image at shape (1, 3, 224, 640)\n",
      "\n",
      "image 1/1 D:\\yolo+cnn\\train\\images\\q88nv_png.rf.7e29d772f7b6b8cdf00ca9dfc75da0fc.jpg: 224x640 2 8s, 2 ns, 1 q, 1 v, 86.5ms\n",
      "Speed: 1.0ms preprocess, 86.5ms inference, 1.0ms postprocess per image at shape (1, 3, 224, 640)\n",
      "\n",
      "image 1/1 D:\\yolo+cnn\\train\\images\\q88nv_png.rf.81cc0f40b08322634a222bda67b04e0e.jpg: 224x640 2 8s, 2 ns, 1 q, 1 v, 70.8ms\n",
      "Speed: 1.0ms preprocess, 70.8ms inference, 1.0ms postprocess per image at shape (1, 3, 224, 640)\n",
      "\n",
      "image 1/1 D:\\yolo+cnn\\train\\images\\qdmkp_png.rf.0691b1ddea1d980d660e0356701451c4.jpg: 224x640 1 d, 1 k, 1 m, 1 p, 1 q, 80.8ms\n",
      "Speed: 1.0ms preprocess, 80.8ms inference, 1.0ms postprocess per image at shape (1, 3, 224, 640)\n",
      "\n",
      "image 1/1 D:\\yolo+cnn\\train\\images\\qdmkp_png.rf.6ca35e03852eced68e304d98b06cdc0f.jpg: 224x640 1 d, 1 k, 2 ms, 1 p, 1 q, 75.3ms\n",
      "Speed: 1.0ms preprocess, 75.3ms inference, 1.0ms postprocess per image at shape (1, 3, 224, 640)\n",
      "\n",
      "image 1/1 D:\\yolo+cnn\\train\\images\\qdmkp_png.rf.a5c4a1b178d0db3d2c7123c17d75c1e5.jpg: 224x640 1 d, 1 k, 1 m, 1 p, 1 q, 80.6ms\n",
      "Speed: 1.0ms preprocess, 80.6ms inference, 1.0ms postprocess per image at shape (1, 3, 224, 640)\n",
      "\n",
      "image 1/1 D:\\yolo+cnn\\train\\images\\qfvbs_png.rf.0196f2c69e437a332201cd2c49ac62d5.jpg: 224x640 1 b, 1 f, 1 q, 1 s, 1 v, 88.7ms\n",
      "Speed: 1.0ms preprocess, 88.7ms inference, 1.0ms postprocess per image at shape (1, 3, 224, 640)\n",
      "\n",
      "image 1/1 D:\\yolo+cnn\\train\\images\\qfvbs_png.rf.9431c9651dedc53802c0d40da130fae5.jpg: 224x640 1 b, 1 f, 1 q, 1 s, 1 v, 103.7ms\n",
      "Speed: 2.0ms preprocess, 103.7ms inference, 1.0ms postprocess per image at shape (1, 3, 224, 640)\n",
      "\n",
      "image 1/1 D:\\yolo+cnn\\train\\images\\qfvbs_png.rf.ceab48efb8d8568090461dfee2264add.jpg: 224x640 1 b, 1 f, 1 q, 1 s, 1 v, 98.7ms\n",
      "Speed: 2.0ms preprocess, 98.7ms inference, 1.4ms postprocess per image at shape (1, 3, 224, 640)\n",
      "\n",
      "image 1/1 D:\\yolo+cnn\\train\\images\\rbqng_png.rf.2976f931d9f7e0a6e75cdc153ca5a02c.jpg: 224x640 1 b, 1 g, 2 ns, 1 q, 1 r, 82.4ms\n",
      "Speed: 1.1ms preprocess, 82.4ms inference, 1.0ms postprocess per image at shape (1, 3, 224, 640)\n",
      "\n",
      "image 1/1 D:\\yolo+cnn\\train\\images\\rbqng_png.rf.6d9eebe931692c57b7f733304f8f08e5.jpg: 224x640 1 b, 1 g, 1 n, 1 q, 1 r, 150.3ms\n",
      "Speed: 1.0ms preprocess, 150.3ms inference, 1.0ms postprocess per image at shape (1, 3, 224, 640)\n",
      "\n",
      "image 1/1 D:\\yolo+cnn\\train\\images\\rbqng_png.rf.f57f36b1ac58c16aa863e03fdf517ae3.jpg: 224x640 1 b, 1 g, 2 ns, 1 q, 1 r, 85.0ms\n",
      "Speed: 1.1ms preprocess, 85.0ms inference, 1.0ms postprocess per image at shape (1, 3, 224, 640)\n",
      "\n",
      "image 1/1 D:\\yolo+cnn\\train\\images\\renmk_png.rf.038be421bcf2f9844ff78ecdb88f34af.jpg: 224x640 1 e, 1 k, 1 m, 1 n, 1 r, 81.6ms\n",
      "Speed: 2.1ms preprocess, 81.6ms inference, 1.0ms postprocess per image at shape (1, 3, 224, 640)\n",
      "\n",
      "image 1/1 D:\\yolo+cnn\\train\\images\\renmk_png.rf.0dd4c6a955e759dffcc4c3274191d1a5.jpg: 224x640 1 e, 1 k, 1 m, 1 n, 1 r, 142.3ms\n",
      "Speed: 2.0ms preprocess, 142.3ms inference, 2.0ms postprocess per image at shape (1, 3, 224, 640)\n",
      "\n",
      "image 1/1 D:\\yolo+cnn\\train\\images\\renmk_png.rf.60727311a18ce10fbbfdef8d3589b081.jpg: 224x640 1 e, 1 k, 1 m, 1 n, 1 r, 95.7ms\n",
      "Speed: 1.0ms preprocess, 95.7ms inference, 1.0ms postprocess per image at shape (1, 3, 224, 640)\n",
      "\n",
      "image 1/1 D:\\yolo+cnn\\train\\images\\rhfnf_png.rf.82d35f409ca1db0e17026f978a0e595a.jpg: 224x640 2 fs, 1 h, 2 ns, 1 r, 100.1ms\n",
      "Speed: 2.0ms preprocess, 100.1ms inference, 1.0ms postprocess per image at shape (1, 3, 224, 640)\n",
      "\n",
      "image 1/1 D:\\yolo+cnn\\train\\images\\rhfnf_png.rf.8920febf4e66a2f1f45c2c58d2706f38.jpg: 224x640 2 fs, 1 h, 2 ns, 1 r, 88.0ms\n",
      "Speed: 1.0ms preprocess, 88.0ms inference, 1.8ms postprocess per image at shape (1, 3, 224, 640)\n",
      "\n",
      "image 1/1 D:\\yolo+cnn\\train\\images\\rhfnf_png.rf.e87bd1ac0f3191f0b4e4cd73300d3ef7.jpg: 224x640 2 fs, 1 h, 2 ns, 1 r, 88.1ms\n",
      "Speed: 2.0ms preprocess, 88.1ms inference, 2.5ms postprocess per image at shape (1, 3, 224, 640)\n",
      "\n",
      "image 1/1 D:\\yolo+cnn\\train\\images\\rpd7a_png.rf.2a4d5b4985273982e46896ed17f03097.jpg: 224x640 1 7, 1 a, 1 d, 1 p, 1 r, 76.3ms\n",
      "Speed: 2.0ms preprocess, 76.3ms inference, 0.0ms postprocess per image at shape (1, 3, 224, 640)\n",
      "\n",
      "image 1/1 D:\\yolo+cnn\\train\\images\\rpd7a_png.rf.e0646f5f57d1da419d518c75350b805a.jpg: 224x640 1 7, 1 a, 1 d, 1 p, 1 r, 77.8ms\n",
      "Speed: 1.0ms preprocess, 77.8ms inference, 0.0ms postprocess per image at shape (1, 3, 224, 640)\n",
      "\n",
      "image 1/1 D:\\yolo+cnn\\train\\images\\rpd7a_png.rf.f81e767359a929d55f12610b7bda87b8.jpg: 224x640 1 7, 1 a, 1 d, 1 p, 1 r, 82.2ms\n",
      "Speed: 2.1ms preprocess, 82.2ms inference, 1.0ms postprocess per image at shape (1, 3, 224, 640)\n",
      "\n",
      "image 1/1 D:\\yolo+cnn\\train\\images\\rr2hr_png.rf.291e35323443440891623776da6404a6.jpg: 224x640 1 2, 1 h, 3 rs, 82.3ms\n",
      "Speed: 2.0ms preprocess, 82.3ms inference, 0.0ms postprocess per image at shape (1, 3, 224, 640)\n",
      "\n",
      "image 1/1 D:\\yolo+cnn\\train\\images\\rr2hr_png.rf.a54db4a7cf8282fa1b7c2f087ab70312.jpg: 224x640 1 2, 1 h, 3 rs, 76.1ms\n",
      "Speed: 1.0ms preprocess, 76.1ms inference, 1.0ms postprocess per image at shape (1, 3, 224, 640)\n",
      "\n",
      "image 1/1 D:\\yolo+cnn\\train\\images\\rr2hr_png.rf.f9ed9689d0e9fb834726cd39fae4c0b0.jpg: 224x640 1 2, 1 h, 3 rs, 78.4ms\n",
      "Speed: 1.1ms preprocess, 78.4ms inference, 1.0ms postprocess per image at shape (1, 3, 224, 640)\n",
      "\n",
      "image 1/1 D:\\yolo+cnn\\train\\images\\rwsdy_png.rf.07f5da8b03c61a121669b70b879baf0a.jpg: 224x640 1 d, 1 r, 1 s, 1 w, 1 y, 98.5ms\n",
      "Speed: 2.0ms preprocess, 98.5ms inference, 1.0ms postprocess per image at shape (1, 3, 224, 640)\n",
      "\n",
      "image 1/1 D:\\yolo+cnn\\train\\images\\rwsdy_png.rf.95294153fa87a53e26a4705183394674.jpg: 224x640 1 d, 1 r, 1 s, 2 ws, 1 y, 76.8ms\n",
      "Speed: 1.0ms preprocess, 76.8ms inference, 0.0ms postprocess per image at shape (1, 3, 224, 640)\n",
      "\n",
      "image 1/1 D:\\yolo+cnn\\train\\images\\rwsdy_png.rf.c768793d861789b54692d2977f8e123e.jpg: 224x640 1 d, 1 r, 1 s, 1 w, 1 y, 83.3ms\n",
      "Speed: 1.0ms preprocess, 83.3ms inference, 1.0ms postprocess per image at shape (1, 3, 224, 640)\n",
      "\n",
      "image 1/1 D:\\yolo+cnn\\train\\images\\rzhrh_png.rf.443c5658bb01e62d8eb45231ef8a079e.jpg: 224x640 2 hs, 2 rs, 1 z, 76.2ms\n",
      "Speed: 1.0ms preprocess, 76.2ms inference, 1.0ms postprocess per image at shape (1, 3, 224, 640)\n",
      "\n",
      "image 1/1 D:\\yolo+cnn\\train\\images\\rzhrh_png.rf.53be65756ae8fdf5d800dfd68890d38c.jpg: 224x640 2 hs, 2 rs, 1 z, 88.0ms\n",
      "Speed: 1.0ms preprocess, 88.0ms inference, 0.9ms postprocess per image at shape (1, 3, 224, 640)\n",
      "\n",
      "image 1/1 D:\\yolo+cnn\\train\\images\\rzhrh_png.rf.78528c21f75948eefe640d22f5102fea.jpg: 224x640 2 hs, 2 rs, 1 z, 119.0ms\n",
      "Speed: 1.0ms preprocess, 119.0ms inference, 1.0ms postprocess per image at shape (1, 3, 224, 640)\n",
      "\n",
      "image 1/1 D:\\yolo+cnn\\train\\images\\s23fk_png.rf.398b1b30933ca9839e2947abb3c0dc32.jpg: 224x640 1 2, 1 3, 1 f, 1 k, 1 s, 103.1ms\n",
      "Speed: 2.0ms preprocess, 103.1ms inference, 1.0ms postprocess per image at shape (1, 3, 224, 640)\n",
      "\n",
      "image 1/1 D:\\yolo+cnn\\train\\images\\s23fk_png.rf.7fbddcbd0515368a01fe3d359d1785ff.jpg: 224x640 1 2, 1 3, 1 f, 1 k, 1 s, 73.0ms\n",
      "Speed: 1.0ms preprocess, 73.0ms inference, 1.0ms postprocess per image at shape (1, 3, 224, 640)\n",
      "\n",
      "image 1/1 D:\\yolo+cnn\\train\\images\\s23fk_png.rf.90b89a701d12245a97119516d17d7129.jpg: 224x640 1 2, 1 3, 1 f, 1 k, 1 s, 81.3ms\n",
      "Speed: 1.0ms preprocess, 81.3ms inference, 1.0ms postprocess per image at shape (1, 3, 224, 640)\n",
      "\n",
      "image 1/1 D:\\yolo+cnn\\train\\images\\spyzh_png.rf.1782cf2bd624028ace7a1513db329524.jpg: 224x640 1 h, 1 p, 1 s, 1 y, 1 z, 71.9ms\n",
      "Speed: 2.0ms preprocess, 71.9ms inference, 1.0ms postprocess per image at shape (1, 3, 224, 640)\n",
      "\n",
      "image 1/1 D:\\yolo+cnn\\train\\images\\spyzh_png.rf.96e53d41a4fedf2d40882840fa868844.jpg: 224x640 1 h, 1 p, 1 s, 1 y, 1 z, 72.0ms\n",
      "Speed: 1.0ms preprocess, 72.0ms inference, 1.0ms postprocess per image at shape (1, 3, 224, 640)\n",
      "\n",
      "image 1/1 D:\\yolo+cnn\\train\\images\\spyzh_png.rf.e8c71fb9c3b89109b61cd17008930bd3.jpg: 224x640 1 h, 1 p, 1 s, 1 y, 1 z, 76.1ms\n",
      "Speed: 1.0ms preprocess, 76.1ms inference, 2.0ms postprocess per image at shape (1, 3, 224, 640)\n",
      "\n",
      "image 1/1 D:\\yolo+cnn\\train\\images\\svh2p_png.rf.0c9a0c2d3c9e4f29e35e9c6383efa2f5.jpg: 224x640 1 2, 1 h, 1 p, 1 s, 1 v, 72.5ms\n",
      "Speed: 2.0ms preprocess, 72.5ms inference, 1.0ms postprocess per image at shape (1, 3, 224, 640)\n",
      "\n",
      "image 1/1 D:\\yolo+cnn\\train\\images\\svh2p_png.rf.1c4704c020b298cdb0e909115ab23884.jpg: 224x640 1 2, 1 h, 1 p, 1 s, 1 v, 73.3ms\n",
      "Speed: 1.1ms preprocess, 73.3ms inference, 1.0ms postprocess per image at shape (1, 3, 224, 640)\n",
      "\n",
      "image 1/1 D:\\yolo+cnn\\train\\images\\svh2p_png.rf.45dd1f778f01d6fad1dff6a66a7216a8.jpg: 224x640 1 2, 1 h, 1 p, 1 s, 1 v, 132.8ms\n",
      "Speed: 1.0ms preprocess, 132.8ms inference, 1.5ms postprocess per image at shape (1, 3, 224, 640)\n",
      "\n",
      "image 1/1 D:\\yolo+cnn\\train\\images\\sxfe2_png.rf.074311025f8c27282ea29f83dabc47ca.jpg: 224x640 1 2, 1 e, 1 f, 1 s, 1 x, 93.1ms\n",
      "Speed: 2.0ms preprocess, 93.1ms inference, 1.0ms postprocess per image at shape (1, 3, 224, 640)\n",
      "\n",
      "image 1/1 D:\\yolo+cnn\\train\\images\\sxfe2_png.rf.77d0e36fb75605712c8c7691e2f3a453.jpg: 224x640 1 2, 1 e, 1 f, 1 s, 1 x, 86.5ms\n",
      "Speed: 1.5ms preprocess, 86.5ms inference, 2.0ms postprocess per image at shape (1, 3, 224, 640)\n",
      "\n",
      "image 1/1 D:\\yolo+cnn\\train\\images\\sxfe2_png.rf.ff69104144a5cdd26e302bd46e616349.jpg: 224x640 1 2, 1 e, 1 f, 1 s, 1 x, 89.6ms\n",
      "Speed: 1.0ms preprocess, 89.6ms inference, 1.0ms postprocess per image at shape (1, 3, 224, 640)\n",
      "\n",
      "image 1/1 D:\\yolo+cnn\\train\\images\\t5o3k_png.rf.458faf2e73c431dc62e65407d5478cc5.jpg: 224x640 1 3, 1 5, 1 k, 1 o, 1 t, 73.1ms\n",
      "Speed: 1.5ms preprocess, 73.1ms inference, 1.3ms postprocess per image at shape (1, 3, 224, 640)\n",
      "\n",
      "image 1/1 D:\\yolo+cnn\\train\\images\\t5o3k_png.rf.48f25525e8499e92016b0c0c0c18b635.jpg: 224x640 1 3, 1 5, 1 k, 1 o, 1 t, 73.0ms\n",
      "Speed: 1.6ms preprocess, 73.0ms inference, 1.0ms postprocess per image at shape (1, 3, 224, 640)\n",
      "\n",
      "image 1/1 D:\\yolo+cnn\\train\\images\\t5o3k_png.rf.996b1a1803d58849ffefb03165af6b5d.jpg: 224x640 1 3, 1 5, 1 k, 1 o, 1 t, 72.4ms\n",
      "Speed: 2.0ms preprocess, 72.4ms inference, 1.0ms postprocess per image at shape (1, 3, 224, 640)\n",
      "\n",
      "image 1/1 D:\\yolo+cnn\\train\\images\\t63sy_png.rf.2ff6be3581ae2e2225b354240a54e54a.jpg: 224x640 1 3, 1 6, 1 s, 2 ts, 1 y, 80.7ms\n",
      "Speed: 2.0ms preprocess, 80.7ms inference, 1.0ms postprocess per image at shape (1, 3, 224, 640)\n",
      "\n",
      "image 1/1 D:\\yolo+cnn\\train\\images\\t63sy_png.rf.5907ec4e48771f866644ac8d3677cebd.jpg: 224x640 1 3, 1 6, 1 s, 1 t, 1 y, 77.3ms\n",
      "Speed: 1.0ms preprocess, 77.3ms inference, 1.0ms postprocess per image at shape (1, 3, 224, 640)\n",
      "\n",
      "image 1/1 D:\\yolo+cnn\\train\\images\\t63sy_png.rf.d133d8251c8852531ceecb20dd298308.jpg: 224x640 1 3, 1 6, 1 s, 1 t, 1 y, 73.6ms\n",
      "Speed: 1.0ms preprocess, 73.6ms inference, 1.0ms postprocess per image at shape (1, 3, 224, 640)\n",
      "\n",
      "image 1/1 D:\\yolo+cnn\\train\\images\\tgh92_png.rf.9881a890e4737ede39aa27bea4cbed9e.jpg: 224x640 1 2, 1 9, 1 g, 1 h, 1 t, 71.0ms\n",
      "Speed: 1.0ms preprocess, 71.0ms inference, 1.0ms postprocess per image at shape (1, 3, 224, 640)\n",
      "\n",
      "image 1/1 D:\\yolo+cnn\\train\\images\\tgh92_png.rf.a1d3afaf3b0288580f2156dc765ec43b.jpg: 224x640 1 2, 1 9, 1 g, 1 h, 1 t, 72.3ms\n",
      "Speed: 1.0ms preprocess, 72.3ms inference, 1.0ms postprocess per image at shape (1, 3, 224, 640)\n",
      "\n",
      "image 1/1 D:\\yolo+cnn\\train\\images\\tgh92_png.rf.a2f7087be98be2bc0602f784b4820759.jpg: 224x640 1 2, 1 9, 1 g, 1 h, 1 t, 76.1ms\n",
      "Speed: 1.0ms preprocess, 76.1ms inference, 1.0ms postprocess per image at shape (1, 3, 224, 640)\n",
      "\n",
      "image 1/1 D:\\yolo+cnn\\train\\images\\tgrin_png.rf.0bb2fbd040a4a31dcdc13430721be74b.jpg: 224x640 1 g, 1 i, 2 ns, 1 r, 1 t, 91.3ms\n",
      "Speed: 2.0ms preprocess, 91.3ms inference, 1.0ms postprocess per image at shape (1, 3, 224, 640)\n",
      "\n",
      "image 1/1 D:\\yolo+cnn\\train\\images\\tgrin_png.rf.126794e33dbcf180e0b319b265678d69.jpg: 224x640 1 g, 1 i, 1 n, 1 r, 2 ts, 102.0ms\n",
      "Speed: 1.0ms preprocess, 102.0ms inference, 1.3ms postprocess per image at shape (1, 3, 224, 640)\n",
      "\n",
      "image 1/1 D:\\yolo+cnn\\train\\images\\tgrin_png.rf.b0cfb4adfa08a955587f5a0b793fe90c.jpg: 224x640 1 g, 1 i, 2 ns, 1 r, 1 t, 86.0ms\n",
      "Speed: 2.0ms preprocess, 86.0ms inference, 1.0ms postprocess per image at shape (1, 3, 224, 640)\n",
      "\n",
      "image 1/1 D:\\yolo+cnn\\train\\images\\tjjor_png.rf.2bf8bff6ba800018de460cfc36ea57e0.jpg: 224x640 2 js, 1 o, 1 r, 1 t, 74.1ms\n",
      "Speed: 1.0ms preprocess, 74.1ms inference, 0.0ms postprocess per image at shape (1, 3, 224, 640)\n",
      "\n",
      "image 1/1 D:\\yolo+cnn\\train\\images\\tjjor_png.rf.8e6381be71acf09d33389629504e9f2f.jpg: 224x640 2 js, 1 o, 1 r, 1 t, 73.1ms\n",
      "Speed: 1.0ms preprocess, 73.1ms inference, 2.0ms postprocess per image at shape (1, 3, 224, 640)\n",
      "\n",
      "image 1/1 D:\\yolo+cnn\\train\\images\\tjjor_png.rf.a2308f1aa1d9a6ab822eeb095b94f95a.jpg: 224x640 2 js, 1 o, 1 r, 1 t, 86.2ms\n",
      "Speed: 1.0ms preprocess, 86.2ms inference, 1.0ms postprocess per image at shape (1, 3, 224, 640)\n",
      "\n",
      "image 1/1 D:\\yolo+cnn\\train\\images\\tjzrn_png.rf.3dd6eb5c5f54935c6d6d676ea41a583c.jpg: 224x640 1 j, 2 ns, 1 r, 2 ts, 1 z, 88.5ms\n",
      "Speed: 1.0ms preprocess, 88.5ms inference, 1.0ms postprocess per image at shape (1, 3, 224, 640)\n",
      "\n",
      "image 1/1 D:\\yolo+cnn\\train\\images\\tjzrn_png.rf.7172df7f680c3f1c2cf425fc31321636.jpg: 224x640 1 j, 2 ns, 1 r, 1 t, 1 z, 78.3ms\n",
      "Speed: 1.0ms preprocess, 78.3ms inference, 1.0ms postprocess per image at shape (1, 3, 224, 640)\n",
      "\n",
      "image 1/1 D:\\yolo+cnn\\train\\images\\tjzrn_png.rf.99bdf89338966ed50b73135c86192a4f.jpg: 224x640 1 j, 2 ns, 1 r, 2 ts, 1 z, 72.6ms\n",
      "Speed: 2.0ms preprocess, 72.6ms inference, 1.0ms postprocess per image at shape (1, 3, 224, 640)\n",
      "\n",
      "image 1/1 D:\\yolo+cnn\\train\\images\\tp346_png.rf.47f9e9328de275718e501b3aeb118e25.jpg: 224x640 1 3, 1 4, 1 6, 1 p, 1 t, 74.2ms\n",
      "Speed: 2.0ms preprocess, 74.2ms inference, 1.0ms postprocess per image at shape (1, 3, 224, 640)\n",
      "\n",
      "image 1/1 D:\\yolo+cnn\\train\\images\\tp346_png.rf.a225dd72a27bcb7c7d563bd07da5d880.jpg: 224x640 1 3, 1 4, 1 6, 1 p, 1 t, 122.0ms\n",
      "Speed: 1.0ms preprocess, 122.0ms inference, 1.2ms postprocess per image at shape (1, 3, 224, 640)\n",
      "\n",
      "image 1/1 D:\\yolo+cnn\\train\\images\\tp346_png.rf.d45fec7b9d55f05cccf429805ec158eb.jpg: 224x640 1 3, 1 4, 1 6, 1 p, 2 ts, 112.8ms\n",
      "Speed: 1.0ms preprocess, 112.8ms inference, 2.0ms postprocess per image at shape (1, 3, 224, 640)\n",
      "\n",
      "image 1/1 D:\\yolo+cnn\\train\\images\\u9nmj_png.rf.2a6aeaa0a94e4b12140266cb4a08eee7.jpg: 224x640 1 9, 1 j, 1 m, 1 n, 1 u, 108.6ms\n",
      "Speed: 2.0ms preprocess, 108.6ms inference, 1.0ms postprocess per image at shape (1, 3, 224, 640)\n",
      "\n",
      "image 1/1 D:\\yolo+cnn\\train\\images\\u9nmj_png.rf.471bafa76928feb374a889bb430c2102.jpg: 224x640 1 9, 1 j, 1 m, 1 n, 1 u, 75.1ms\n",
      "Speed: 1.0ms preprocess, 75.1ms inference, 1.0ms postprocess per image at shape (1, 3, 224, 640)\n",
      "\n",
      "image 1/1 D:\\yolo+cnn\\train\\images\\u9nmj_png.rf.91894924ccdda7f217ebdd519357da97.jpg: 224x640 1 9, 1 j, 1 m, 2 ns, 1 u, 83.1ms\n",
      "Speed: 1.0ms preprocess, 83.1ms inference, 1.0ms postprocess per image at shape (1, 3, 224, 640)\n",
      "\n",
      "image 1/1 D:\\yolo+cnn\\train\\images\\uc8tj_png.rf.2f5bbedb7b6c9c92e4a9dd2c6f00c085.jpg: 224x640 1 8, 1 c, 1 j, 1 t, 1 u, 71.4ms\n",
      "Speed: 1.0ms preprocess, 71.4ms inference, 1.0ms postprocess per image at shape (1, 3, 224, 640)\n",
      "\n",
      "image 1/1 D:\\yolo+cnn\\train\\images\\uc8tj_png.rf.37b486524a9cd8b4ef42c9b347f30967.jpg: 224x640 1 8, 1 c, 1 j, 1 t, 1 u, 72.0ms\n",
      "Speed: 1.0ms preprocess, 72.0ms inference, 1.0ms postprocess per image at shape (1, 3, 224, 640)\n",
      "\n",
      "image 1/1 D:\\yolo+cnn\\train\\images\\uc8tj_png.rf.9d63049aaa6acd6b95befb10ba5365b4.jpg: 224x640 1 8, 1 c, 1 j, 2 ts, 1 u, 93.3ms\n",
      "Speed: 1.0ms preprocess, 93.3ms inference, 1.0ms postprocess per image at shape (1, 3, 224, 640)\n",
      "\n",
      "image 1/1 D:\\yolo+cnn\\train\\images\\uejhy_png.rf.5fe849b6719c017770c778025503d1c3.jpg: 224x640 1 e, 1 h, 1 j, 1 u, 1 y, 74.3ms\n",
      "Speed: 1.1ms preprocess, 74.3ms inference, 1.0ms postprocess per image at shape (1, 3, 224, 640)\n",
      "\n",
      "image 1/1 D:\\yolo+cnn\\train\\images\\uejhy_png.rf.64a816ff508c6c92ce535169571db4b2.jpg: 224x640 1 e, 1 h, 1 j, 1 u, 1 y, 76.0ms\n",
      "Speed: 1.0ms preprocess, 76.0ms inference, 1.1ms postprocess per image at shape (1, 3, 224, 640)\n",
      "\n",
      "image 1/1 D:\\yolo+cnn\\train\\images\\uejhy_png.rf.adc458be3da712856ac7d1510c4d2ceb.jpg: 224x640 1 e, 1 h, 1 j, 1 u, 1 y, 75.4ms\n",
      "Speed: 1.5ms preprocess, 75.4ms inference, 1.0ms postprocess per image at shape (1, 3, 224, 640)\n",
      "\n",
      "image 1/1 D:\\yolo+cnn\\train\\images\\uiobe_png.rf.13a2a9b364707dacbd6ffcb90fb3c34a.jpg: 224x640 1 b, 1 e, 1 i, 1 o, 1 u, 99.9ms\n",
      "Speed: 1.0ms preprocess, 99.9ms inference, 1.1ms postprocess per image at shape (1, 3, 224, 640)\n",
      "\n",
      "image 1/1 D:\\yolo+cnn\\train\\images\\uiobe_png.rf.20f0b6ab2f73172e4cf0b4410e2cc582.jpg: 224x640 1 b, 1 e, 1 i, 1 o, 1 u, 139.1ms\n",
      "Speed: 1.6ms preprocess, 139.1ms inference, 1.0ms postprocess per image at shape (1, 3, 224, 640)\n",
      "\n",
      "image 1/1 D:\\yolo+cnn\\train\\images\\uiobe_png.rf.8fc460606d29a43f81895756e5400c8f.jpg: 224x640 1 b, 1 e, 1 i, 1 o, 1 u, 106.2ms\n",
      "Speed: 1.0ms preprocess, 106.2ms inference, 1.0ms postprocess per image at shape (1, 3, 224, 640)\n",
      "\n",
      "image 1/1 D:\\yolo+cnn\\train\\images\\ujbzn_png.rf.2fe14a2bbf4353a42927199e71e6b125.jpg: 224x640 1 b, 1 j, 1 n, 1 u, 1 z, 82.2ms\n",
      "Speed: 1.0ms preprocess, 82.2ms inference, 1.0ms postprocess per image at shape (1, 3, 224, 640)\n",
      "\n",
      "image 1/1 D:\\yolo+cnn\\train\\images\\ujbzn_png.rf.39744faddd701c4c2f0b70a64dab0354.jpg: 224x640 1 b, 1 j, 2 ns, 1 u, 1 z, 71.0ms\n",
      "Speed: 1.0ms preprocess, 71.0ms inference, 1.0ms postprocess per image at shape (1, 3, 224, 640)\n",
      "\n",
      "image 1/1 D:\\yolo+cnn\\train\\images\\ujbzn_png.rf.b1c7edaf616b970f7ca8c32b8ecb17a9.jpg: 224x640 1 b, 1 j, 2 ns, 1 u, 1 z, 75.3ms\n",
      "Speed: 2.0ms preprocess, 75.3ms inference, 1.0ms postprocess per image at shape (1, 3, 224, 640)\n",
      "\n",
      "image 1/1 D:\\yolo+cnn\\train\\images\\ukjeb_png.rf.389b97c2cdee66b2ee3b58a4aa8e3266.jpg: 224x640 1 b, 1 e, 1 j, 1 k, 1 u, 83.6ms\n",
      "Speed: 2.1ms preprocess, 83.6ms inference, 1.0ms postprocess per image at shape (1, 3, 224, 640)\n",
      "\n",
      "image 1/1 D:\\yolo+cnn\\train\\images\\ukjeb_png.rf.b1cc60c5ef9dfe046a7a6995b8b553d2.jpg: 224x640 1 b, 1 e, 1 j, 1 k, 1 u, 83.9ms\n",
      "Speed: 2.0ms preprocess, 83.9ms inference, 0.0ms postprocess per image at shape (1, 3, 224, 640)\n",
      "\n",
      "image 1/1 D:\\yolo+cnn\\train\\images\\ukjeb_png.rf.f995d73b990a22ff439a8c8ff681219e.jpg: 224x640 1 b, 1 e, 1 j, 1 k, 1 u, 74.8ms\n",
      "Speed: 2.5ms preprocess, 74.8ms inference, 1.0ms postprocess per image at shape (1, 3, 224, 640)\n",
      "\n",
      "image 1/1 D:\\yolo+cnn\\train\\images\\um33u_png.rf.630a1cc6597c03a10925492e6b32811f.jpg: 224x640 2 3s, 1 m, 2 us, 74.0ms\n",
      "Speed: 0.5ms preprocess, 74.0ms inference, 1.0ms postprocess per image at shape (1, 3, 224, 640)\n",
      "\n",
      "image 1/1 D:\\yolo+cnn\\train\\images\\um33u_png.rf.9aff5bc01b5d4648b86a9d72d0f1f0c2.jpg: 224x640 2 3s, 1 m, 2 us, 138.0ms\n",
      "Speed: 1.0ms preprocess, 138.0ms inference, 1.0ms postprocess per image at shape (1, 3, 224, 640)\n",
      "\n",
      "image 1/1 D:\\yolo+cnn\\train\\images\\um33u_png.rf.ed1a7fa2e775e9f07c5b39b9e58622f2.jpg: 224x640 2 3s, 1 m, 2 us, 90.5ms\n",
      "Speed: 1.0ms preprocess, 90.5ms inference, 1.1ms postprocess per image at shape (1, 3, 224, 640)\n",
      "\n",
      "image 1/1 D:\\yolo+cnn\\train\\images\\umigd_png.rf.03391a441519be8fece8a385cf734970.jpg: 224x640 1 d, 1 g, 1 i, 1 m, 1 u, 74.3ms\n",
      "Speed: 1.0ms preprocess, 74.3ms inference, 1.0ms postprocess per image at shape (1, 3, 224, 640)\n",
      "\n",
      "image 1/1 D:\\yolo+cnn\\train\\images\\umigd_png.rf.0b1cf61dbcad3b07029ea0acd255f8ab.jpg: 224x640 1 d, 1 g, 1 i, 1 m, 1 u, 72.0ms\n",
      "Speed: 2.0ms preprocess, 72.0ms inference, 1.0ms postprocess per image at shape (1, 3, 224, 640)\n",
      "\n",
      "image 1/1 D:\\yolo+cnn\\train\\images\\umigd_png.rf.29dcc31d8fa63058640cb181ddc19e2c.jpg: 224x640 1 d, 1 g, 1 i, 1 m, 1 u, 77.7ms\n",
      "Speed: 1.0ms preprocess, 77.7ms inference, 1.0ms postprocess per image at shape (1, 3, 224, 640)\n",
      "\n",
      "image 1/1 D:\\yolo+cnn\\train\\images\\urrbx_png.rf.11855706f17b98007ea5f97cdb41be4a.jpg: 224x640 1 b, 2 rs, 1 u, 1 x, 88.0ms\n",
      "Speed: 1.0ms preprocess, 88.0ms inference, 1.0ms postprocess per image at shape (1, 3, 224, 640)\n",
      "\n",
      "image 1/1 D:\\yolo+cnn\\train\\images\\urrbx_png.rf.8d6411a99f9f6c5aee7be7efbc2876f4.jpg: 224x640 1 b, 2 rs, 1 u, 1 x, 79.3ms\n",
      "Speed: 1.0ms preprocess, 79.3ms inference, 1.5ms postprocess per image at shape (1, 3, 224, 640)\n",
      "\n",
      "image 1/1 D:\\yolo+cnn\\train\\images\\urrbx_png.rf.c8d02d8375124ee0c11e4e864c23b149.jpg: 224x640 1 b, 2 rs, 1 u, 1 x, 76.0ms\n",
      "Speed: 1.0ms preprocess, 76.0ms inference, 1.0ms postprocess per image at shape (1, 3, 224, 640)\n",
      "\n",
      "image 1/1 D:\\yolo+cnn\\train\\images\\utgzq_png.rf.5911ecea949fb9ec0db3c67c2aa5fbfc.jpg: 224x640 1 g, 1 q, 1 t, 1 u, 1 z, 81.9ms\n",
      "Speed: 1.0ms preprocess, 81.9ms inference, 1.0ms postprocess per image at shape (1, 3, 224, 640)\n",
      "\n",
      "image 1/1 D:\\yolo+cnn\\train\\images\\utgzq_png.rf.8ce77460ea5a6233ec9b2ddefa3a7c93.jpg: 224x640 1 g, 1 q, 1 t, 1 u, 1 z, 79.2ms\n",
      "Speed: 1.7ms preprocess, 79.2ms inference, 1.0ms postprocess per image at shape (1, 3, 224, 640)\n",
      "\n",
      "image 1/1 D:\\yolo+cnn\\train\\images\\utgzq_png.rf.d0d9ae251f8fda17bafe2e74a9761987.jpg: 224x640 1 g, 1 q, 1 t, 1 u, 1 z, 75.1ms\n",
      "Speed: 1.0ms preprocess, 75.1ms inference, 1.0ms postprocess per image at shape (1, 3, 224, 640)\n",
      "\n",
      "image 1/1 D:\\yolo+cnn\\train\\images\\uu4gu_png.rf.06b467e1b476b5905b42745f24c78ad1.jpg: 224x640 1 4, 1 g, 3 us, 79.6ms\n",
      "Speed: 1.5ms preprocess, 79.6ms inference, 1.5ms postprocess per image at shape (1, 3, 224, 640)\n",
      "\n",
      "image 1/1 D:\\yolo+cnn\\train\\images\\uu4gu_png.rf.43c96fac6e28ec727fdb3eeb610c489e.jpg: 224x640 1 g, 3 us, 78.9ms\n",
      "Speed: 1.0ms preprocess, 78.9ms inference, 0.0ms postprocess per image at shape (1, 3, 224, 640)\n",
      "\n",
      "image 1/1 D:\\yolo+cnn\\train\\images\\uu4gu_png.rf.4e6d25bb6120a9d118a086d8c06bc5cf.jpg: 224x640 1 g, 2 us, 77.9ms\n",
      "Speed: 1.9ms preprocess, 77.9ms inference, 0.0ms postprocess per image at shape (1, 3, 224, 640)\n",
      "\n",
      "image 1/1 D:\\yolo+cnn\\train\\images\\v34dv_png.rf.31707dfd4d2022bbe1e6f9aad0a4b2ec.jpg: 224x640 1 3, 2 4s, 1 d, 2 vs, 75.4ms\n",
      "Speed: 1.0ms preprocess, 75.4ms inference, 0.0ms postprocess per image at shape (1, 3, 224, 640)\n",
      "\n",
      "image 1/1 D:\\yolo+cnn\\train\\images\\v34dv_png.rf.6e758a78ea11163836b93a52aa422479.jpg: 224x640 1 3, 1 4, 1 d, 2 vs, 72.9ms\n",
      "Speed: 2.0ms preprocess, 72.9ms inference, 1.0ms postprocess per image at shape (1, 3, 224, 640)\n",
      "\n",
      "image 1/1 D:\\yolo+cnn\\train\\images\\v34dv_png.rf.a2b76ab8dddd2eea47f44f3f9a5f3e47.jpg: 224x640 1 3, 1 4, 1 d, 2 vs, 72.9ms\n",
      "Speed: 1.0ms preprocess, 72.9ms inference, 1.0ms postprocess per image at shape (1, 3, 224, 640)\n",
      "\n",
      "image 1/1 D:\\yolo+cnn\\train\\images\\vsrmd_png.rf.017fc3efb6bcf72ddaa2edb4e374fd00.jpg: 224x640 1 d, 2 ms, 1 r, 1 s, 1 v, 74.7ms\n",
      "Speed: 1.0ms preprocess, 74.7ms inference, 1.0ms postprocess per image at shape (1, 3, 224, 640)\n",
      "\n",
      "image 1/1 D:\\yolo+cnn\\train\\images\\vsrmd_png.rf.34bb2ad21bdb5e00a4ea1cf2383ed4c2.jpg: 224x640 1 d, 2 ms, 1 r, 1 s, 1 v, 76.2ms\n",
      "Speed: 1.0ms preprocess, 76.2ms inference, 1.0ms postprocess per image at shape (1, 3, 224, 640)\n",
      "\n",
      "image 1/1 D:\\yolo+cnn\\train\\images\\vsrmd_png.rf.91eb7bad4f530fe9f4b4ac7e8b2e1ad8.jpg: 224x640 1 d, 1 m, 1 r, 1 s, 1 v, 77.7ms\n",
      "Speed: 1.0ms preprocess, 77.7ms inference, 1.5ms postprocess per image at shape (1, 3, 224, 640)\n",
      "\n",
      "image 1/1 D:\\yolo+cnn\\train\\images\\vxj7j_png.rf.32ff52adcf9065bd6863b6d5a598f139.jpg: 224x640 1 7, 2 js, 1 v, 1 x, 93.5ms\n",
      "Speed: 1.0ms preprocess, 93.5ms inference, 1.0ms postprocess per image at shape (1, 3, 224, 640)\n",
      "\n",
      "image 1/1 D:\\yolo+cnn\\train\\images\\vxj7j_png.rf.cc5fa6a29fdc4b5654c26c4905ecd8d2.jpg: 224x640 1 7, 2 js, 1 v, 1 x, 131.8ms\n",
      "Speed: 1.0ms preprocess, 131.8ms inference, 1.0ms postprocess per image at shape (1, 3, 224, 640)\n",
      "\n",
      "image 1/1 D:\\yolo+cnn\\train\\images\\vxj7j_png.rf.eadf899e8e237bbf22a7624b049bce57.jpg: 224x640 1 7, 2 js, 1 v, 1 x, 82.9ms\n",
      "Speed: 1.0ms preprocess, 82.9ms inference, 0.8ms postprocess per image at shape (1, 3, 224, 640)\n",
      "\n",
      "image 1/1 D:\\yolo+cnn\\train\\images\\w3qy6_png.rf.36ff36026f50d6102a511494d7bac625.jpg: 224x640 1 3, 1 6, 1 q, 1 w, 1 y, 81.6ms\n",
      "Speed: 2.0ms preprocess, 81.6ms inference, 0.9ms postprocess per image at shape (1, 3, 224, 640)\n",
      "\n",
      "image 1/1 D:\\yolo+cnn\\train\\images\\w3qy6_png.rf.e689bc7f41da23a5298757d8c23ada30.jpg: 224x640 1 3, 1 6, 1 q, 1 w, 1 y, 75.2ms\n",
      "Speed: 1.0ms preprocess, 75.2ms inference, 1.0ms postprocess per image at shape (1, 3, 224, 640)\n",
      "\n",
      "image 1/1 D:\\yolo+cnn\\train\\images\\w3qy6_png.rf.f108125980f6993faba3715bf25b3fc1.jpg: 224x640 1 3, 1 6, 1 q, 1 w, 1 y, 73.2ms\n",
      "Speed: 1.0ms preprocess, 73.2ms inference, 1.0ms postprocess per image at shape (1, 3, 224, 640)\n",
      "\n",
      "image 1/1 D:\\yolo+cnn\\train\\images\\wbdxo_png.rf.46aaf5a6d0741472cb5e9826d36ef77f.jpg: 224x640 1 b, 1 d, 1 o, 1 w, 1 x, 76.6ms\n",
      "Speed: 1.0ms preprocess, 76.6ms inference, 1.0ms postprocess per image at shape (1, 3, 224, 640)\n",
      "\n",
      "image 1/1 D:\\yolo+cnn\\train\\images\\wbdxo_png.rf.50f2131da2dcf4c099f4d1b7a98d040d.jpg: 224x640 1 b, 1 d, 1 o, 1 w, 1 x, 74.6ms\n",
      "Speed: 1.0ms preprocess, 74.6ms inference, 1.0ms postprocess per image at shape (1, 3, 224, 640)\n",
      "\n",
      "image 1/1 D:\\yolo+cnn\\train\\images\\wbdxo_png.rf.7bc8513d45817e6fc7a6298339b332c0.jpg: 224x640 1 b, 1 d, 1 o, 1 w, 1 x, 72.0ms\n",
      "Speed: 1.0ms preprocess, 72.0ms inference, 1.0ms postprocess per image at shape (1, 3, 224, 640)\n",
      "\n",
      "image 1/1 D:\\yolo+cnn\\train\\images\\wrim9_png.rf.2ad147d529795cb40a5b24a2d89a9db5.jpg: 224x640 1 9, 1 i, 1 m, 1 r, 1 w, 72.9ms\n",
      "Speed: 1.0ms preprocess, 72.9ms inference, 1.5ms postprocess per image at shape (1, 3, 224, 640)\n",
      "\n",
      "image 1/1 D:\\yolo+cnn\\train\\images\\wrim9_png.rf.a62540f187c96eafdeb00a67621c6532.jpg: 224x640 1 9, 1 i, 2 ms, 1 r, 1 w, 77.4ms\n",
      "Speed: 1.0ms preprocess, 77.4ms inference, 1.0ms postprocess per image at shape (1, 3, 224, 640)\n",
      "\n",
      "image 1/1 D:\\yolo+cnn\\train\\images\\wrim9_png.rf.d037ebf5eb36fb2cf2d334f54e7c5ccb.jpg: 224x640 1 9, 1 i, 1 m, 1 r, 1 w, 72.9ms\n",
      "Speed: 1.0ms preprocess, 72.9ms inference, 1.0ms postprocess per image at shape (1, 3, 224, 640)\n",
      "\n",
      "image 1/1 D:\\yolo+cnn\\train\\images\\wyu6e_png.rf.440ead52790cd75d69310d3ce6021447.jpg: 224x640 1 6, 1 e, 1 u, 1 w, 1 y, 81.2ms\n",
      "Speed: 1.0ms preprocess, 81.2ms inference, 1.0ms postprocess per image at shape (1, 3, 224, 640)\n",
      "\n",
      "image 1/1 D:\\yolo+cnn\\train\\images\\wyu6e_png.rf.5834d7e19449ae5357f42fceaa6c39a4.jpg: 224x640 1 6, 1 e, 1 u, 1 w, 1 y, 128.6ms\n",
      "Speed: 17.4ms preprocess, 128.6ms inference, 2.5ms postprocess per image at shape (1, 3, 224, 640)\n",
      "\n",
      "image 1/1 D:\\yolo+cnn\\train\\images\\wyu6e_png.rf.ca89e3b545e5d9f613dc547cf8fac675.jpg: 224x640 1 e, 1 u, 1 w, 1 y, 85.9ms\n",
      "Speed: 3.0ms preprocess, 85.9ms inference, 1.1ms postprocess per image at shape (1, 3, 224, 640)\n",
      "\n",
      "image 1/1 D:\\yolo+cnn\\train\\images\\wyx7b_png.rf.219d9e311a6481be0fa008f8a9edd66c.jpg: 224x640 1 7, 1 b, 1 w, 1 x, 1 y, 101.7ms\n",
      "Speed: 1.5ms preprocess, 101.7ms inference, 1.0ms postprocess per image at shape (1, 3, 224, 640)\n",
      "\n",
      "image 1/1 D:\\yolo+cnn\\train\\images\\wyx7b_png.rf.9e5c1c63e4fcde09a40db2ca7c81fb2a.jpg: 224x640 1 7, 1 b, 1 w, 1 x, 1 y, 70.5ms\n",
      "Speed: 2.0ms preprocess, 70.5ms inference, 1.0ms postprocess per image at shape (1, 3, 224, 640)\n",
      "\n",
      "image 1/1 D:\\yolo+cnn\\train\\images\\wyx7b_png.rf.dd77918d64f864151ec72af7f5d435ce.jpg: 224x640 1 7, 1 b, 1 w, 1 x, 1 y, 70.6ms\n",
      "Speed: 1.0ms preprocess, 70.6ms inference, 1.0ms postprocess per image at shape (1, 3, 224, 640)\n",
      "\n",
      "image 1/1 D:\\yolo+cnn\\train\\images\\x8tio_png.rf.37c616276ab1f3a2a62d6ac75af63fbe.jpg: 224x640 1 8, 1 i, 1 o, 1 t, 1 x, 90.5ms\n",
      "Speed: 1.0ms preprocess, 90.5ms inference, 0.0ms postprocess per image at shape (1, 3, 224, 640)\n",
      "\n",
      "image 1/1 D:\\yolo+cnn\\train\\images\\x8tio_png.rf.4396d832ab3114848a942a2f6453086e.jpg: 224x640 1 8, 1 i, 1 o, 1 t, 1 x, 73.3ms\n",
      "Speed: 1.0ms preprocess, 73.3ms inference, 1.0ms postprocess per image at shape (1, 3, 224, 640)\n",
      "\n",
      "image 1/1 D:\\yolo+cnn\\train\\images\\x8tio_png.rf.858e80b1ee7f3181ea2b36d010f199e8.jpg: 224x640 1 8, 1 i, 1 o, 1 t, 1 x, 73.7ms\n",
      "Speed: 1.0ms preprocess, 73.7ms inference, 1.0ms postprocess per image at shape (1, 3, 224, 640)\n",
      "\n",
      "image 1/1 D:\\yolo+cnn\\train\\images\\xfg87_png.rf.4620ceba03f391da7ad7554a941ba583.jpg: 224x640 1 7, 1 8, 1 f, 1 g, 1 x, 73.5ms\n",
      "Speed: 2.0ms preprocess, 73.5ms inference, 1.0ms postprocess per image at shape (1, 3, 224, 640)\n",
      "\n",
      "image 1/1 D:\\yolo+cnn\\train\\images\\xfg87_png.rf.7697638c6eeb8dc440d66549833c7629.jpg: 224x640 1 7, 1 8, 1 f, 1 g, 1 x, 91.3ms\n",
      "Speed: 2.0ms preprocess, 91.3ms inference, 1.0ms postprocess per image at shape (1, 3, 224, 640)\n",
      "\n",
      "image 1/1 D:\\yolo+cnn\\train\\images\\xfg87_png.rf.a66183ec71303dc52755317c27edb3ba.jpg: 224x640 1 7, 1 8, 1 f, 1 g, 1 x, 87.3ms\n",
      "Speed: 1.0ms preprocess, 87.3ms inference, 2.0ms postprocess per image at shape (1, 3, 224, 640)\n",
      "\n",
      "image 1/1 D:\\yolo+cnn\\train\\images\\xfrzn_png.rf.295d1c471407c5c6debc882d91e3cb0b.jpg: 224x640 1 f, 2 ns, 1 r, 1 x, 1 z, 74.2ms\n",
      "Speed: 1.0ms preprocess, 74.2ms inference, 1.0ms postprocess per image at shape (1, 3, 224, 640)\n",
      "\n",
      "image 1/1 D:\\yolo+cnn\\train\\images\\xfrzn_png.rf.3ff93346c466745df7776caf7d927a7b.jpg: 224x640 1 f, 2 ns, 1 r, 1 x, 1 z, 76.8ms\n",
      "Speed: 1.1ms preprocess, 76.8ms inference, 1.0ms postprocess per image at shape (1, 3, 224, 640)\n",
      "\n",
      "image 1/1 D:\\yolo+cnn\\train\\images\\xfrzn_png.rf.fc51536825043227500b9b5868bc8122.jpg: 224x640 1 f, 2 ns, 1 r, 1 x, 1 z, 75.3ms\n",
      "Speed: 1.0ms preprocess, 75.3ms inference, 1.0ms postprocess per image at shape (1, 3, 224, 640)\n",
      "\n",
      "image 1/1 D:\\yolo+cnn\\train\\images\\xtgnq_png.rf.344c9832fe93e58671a75f735b37b522.jpg: 224x640 1 g, 2 ns, 1 q, 1 t, 1 x, 78.3ms\n",
      "Speed: 1.0ms preprocess, 78.3ms inference, 1.0ms postprocess per image at shape (1, 3, 224, 640)\n",
      "\n",
      "image 1/1 D:\\yolo+cnn\\train\\images\\xtgnq_png.rf.a19e6df2d3b2f2be98f706db84ce1e50.jpg: 224x640 1 g, 2 ns, 1 q, 1 t, 1 x, 88.9ms\n",
      "Speed: 1.0ms preprocess, 88.9ms inference, 1.0ms postprocess per image at shape (1, 3, 224, 640)\n",
      "\n",
      "image 1/1 D:\\yolo+cnn\\train\\images\\xtgnq_png.rf.d446d39b0318135322cd77612f4c188f.jpg: 224x640 1 g, 2 ns, 1 p, 1 q, 1 t, 1 x, 73.4ms\n",
      "Speed: 1.0ms preprocess, 73.4ms inference, 1.0ms postprocess per image at shape (1, 3, 224, 640)\n",
      "\n",
      "image 1/1 D:\\yolo+cnn\\train\\images\\y7vwv_png.rf.1ce3519b7ba677954218a0fc536b7014.jpg: 224x640 1 7, 2 vs, 1 w, 1 y, 82.4ms\n",
      "Speed: 1.0ms preprocess, 82.4ms inference, 1.0ms postprocess per image at shape (1, 3, 224, 640)\n",
      "\n",
      "image 1/1 D:\\yolo+cnn\\train\\images\\y7vwv_png.rf.4d44969db9d32c9540ce4fba07fa0b72.jpg: 224x640 1 7, 2 vs, 1 w, 1 y, 89.0ms\n",
      "Speed: 2.0ms preprocess, 89.0ms inference, 1.0ms postprocess per image at shape (1, 3, 224, 640)\n",
      "\n",
      "image 1/1 D:\\yolo+cnn\\train\\images\\y7vwv_png.rf.c6f602a1d55663b5e27b6db04aaa562c.jpg: 224x640 1 7, 2 vs, 1 w, 1 y, 119.4ms\n",
      "Speed: 1.0ms preprocess, 119.4ms inference, 1.0ms postprocess per image at shape (1, 3, 224, 640)\n",
      "\n",
      "image 1/1 D:\\yolo+cnn\\train\\images\\ygtbt_png.rf.062404cf00c047267ce7d0287831ba33.jpg: 224x640 1 b, 1 g, 3 ts, 1 y, 82.2ms\n",
      "Speed: 1.7ms preprocess, 82.2ms inference, 1.0ms postprocess per image at shape (1, 3, 224, 640)\n",
      "\n",
      "image 1/1 D:\\yolo+cnn\\train\\images\\ygtbt_png.rf.11dddcd0375dc42c1a97508d43f1e050.jpg: 224x640 1 b, 1 g, 3 ts, 1 y, 76.4ms\n",
      "Speed: 1.0ms preprocess, 76.4ms inference, 1.0ms postprocess per image at shape (1, 3, 224, 640)\n",
      "\n",
      "image 1/1 D:\\yolo+cnn\\train\\images\\ygtbt_png.rf.59176bc700875dde8ebdaa380d18097b.jpg: 224x640 1 b, 1 g, 2 ts, 1 y, 84.7ms\n",
      "Speed: 1.0ms preprocess, 84.7ms inference, 1.0ms postprocess per image at shape (1, 3, 224, 640)\n",
      "\n",
      "image 1/1 D:\\yolo+cnn\\train\\images\\yh4ib_png.rf.4ecf2bf7906475777d0a0f2d2fbfc142.jpg: 224x640 1 4, 1 b, 1 h, 1 i, 1 y, 75.4ms\n",
      "Speed: 1.0ms preprocess, 75.4ms inference, 1.0ms postprocess per image at shape (1, 3, 224, 640)\n",
      "\n",
      "image 1/1 D:\\yolo+cnn\\train\\images\\yh4ib_png.rf.7274615f11e2a6635302eac3f57541be.jpg: 224x640 1 4, 1 b, 1 h, 1 i, 1 y, 77.7ms\n",
      "Speed: 1.0ms preprocess, 77.7ms inference, 0.1ms postprocess per image at shape (1, 3, 224, 640)\n",
      "\n",
      "image 1/1 D:\\yolo+cnn\\train\\images\\yh4ib_png.rf.ffa45497cb2e3bfd2e7140ca18307be1.jpg: 224x640 1 4, 1 b, 1 h, 1 i, 1 y, 73.8ms\n",
      "Speed: 1.5ms preprocess, 73.8ms inference, 0.0ms postprocess per image at shape (1, 3, 224, 640)\n",
      "\n",
      "image 1/1 D:\\yolo+cnn\\train\\images\\yihas_png.rf.0656336ce5f1b52bb79840604c0ffc46.jpg: 224x640 1 a, 1 h, 1 i, 1 s, 1 y, 75.0ms\n",
      "Speed: 2.0ms preprocess, 75.0ms inference, 1.0ms postprocess per image at shape (1, 3, 224, 640)\n",
      "\n",
      "image 1/1 D:\\yolo+cnn\\train\\images\\yihas_png.rf.760d5290933fdd86f02560c4de1980fd.jpg: 224x640 1 a, 1 h, 1 i, 1 s, 1 y, 76.5ms\n",
      "Speed: 1.0ms preprocess, 76.5ms inference, 0.0ms postprocess per image at shape (1, 3, 224, 640)\n",
      "\n",
      "image 1/1 D:\\yolo+cnn\\train\\images\\yihas_png.rf.7f71b2b424de20a5685a0793da008511.jpg: 224x640 1 a, 1 h, 1 i, 1 s, 1 y, 73.5ms\n",
      "Speed: 1.0ms preprocess, 73.5ms inference, 1.0ms postprocess per image at shape (1, 3, 224, 640)\n",
      "\n",
      "image 1/1 D:\\yolo+cnn\\train\\images\\yraby_png.rf.1cb7148188418f1ac71036fa2b2b12ad.jpg: 224x640 1 a, 1 b, 1 r, 2 ys, 90.7ms\n",
      "Speed: 2.0ms preprocess, 90.7ms inference, 1.0ms postprocess per image at shape (1, 3, 224, 640)\n",
      "\n",
      "image 1/1 D:\\yolo+cnn\\train\\images\\yraby_png.rf.8a45010af0fdf68facf5c98e4f2613d0.jpg: 224x640 1 a, 1 b, 1 r, 2 ys, 73.4ms\n",
      "Speed: 1.0ms preprocess, 73.4ms inference, 1.0ms postprocess per image at shape (1, 3, 224, 640)\n",
      "\n",
      "image 1/1 D:\\yolo+cnn\\train\\images\\yraby_png.rf.a0ce69a0d04bbff9f03b2ae81c0a9588.jpg: 224x640 1 a, 1 b, 1 r, 2 ys, 80.7ms\n",
      "Speed: 1.0ms preprocess, 80.7ms inference, 1.0ms postprocess per image at shape (1, 3, 224, 640)\n",
      "\n",
      "image 1/1 D:\\yolo+cnn\\train\\images\\yyb54_png.rf.0edcf41202e3acb86c16633fea37706e.jpg: 224x640 1 4, 1 5, 1 b, 2 ys, 76.9ms\n",
      "Speed: 2.0ms preprocess, 76.9ms inference, 1.0ms postprocess per image at shape (1, 3, 224, 640)\n",
      "\n",
      "image 1/1 D:\\yolo+cnn\\train\\images\\yyb54_png.rf.21306a93a6dd23d06b9f95fa00c1fbc6.jpg: 224x640 1 4, 1 5, 1 b, 2 ys, 73.0ms\n",
      "Speed: 1.0ms preprocess, 73.0ms inference, 1.0ms postprocess per image at shape (1, 3, 224, 640)\n",
      "\n",
      "image 1/1 D:\\yolo+cnn\\train\\images\\yyb54_png.rf.442751f3c0b922d1bbb42932b0af6984.jpg: 224x640 1 4, 1 5, 1 b, 2 ys, 75.6ms\n",
      "Speed: 1.0ms preprocess, 75.6ms inference, 1.0ms postprocess per image at shape (1, 3, 224, 640)\n",
      "\n",
      "image 1/1 D:\\yolo+cnn\\train\\images\\yzdg2_png.rf.6998b8657107f53364d0d51309d83293.jpg: 224x640 1 2, 1 d, 1 g, 1 y, 1 z, 73.2ms\n",
      "Speed: 0.9ms preprocess, 73.2ms inference, 1.0ms postprocess per image at shape (1, 3, 224, 640)\n",
      "\n",
      "image 1/1 D:\\yolo+cnn\\train\\images\\yzdg2_png.rf.9424faa97a0b927709e6cbcadf4413e5.jpg: 224x640 1 2, 1 d, 1 g, 1 y, 1 z, 78.3ms\n",
      "Speed: 2.0ms preprocess, 78.3ms inference, 1.0ms postprocess per image at shape (1, 3, 224, 640)\n",
      "\n",
      "image 1/1 D:\\yolo+cnn\\train\\images\\yzdg2_png.rf.ada08d674a475d5822638ec9c555e1b5.jpg: 224x640 1 2, 1 d, 1 g, 1 y, 1 z, 75.5ms\n",
      "Speed: 1.0ms preprocess, 75.5ms inference, 1.0ms postprocess per image at shape (1, 3, 224, 640)\n",
      "\n",
      "image 1/1 D:\\yolo+cnn\\train\\images\\z4asu_png.rf.6acf986a23f35141fe54ef6953e6b125.jpg: 224x640 1 4, 1 a, 1 s, 1 u, 1 z, 79.6ms\n",
      "Speed: 1.0ms preprocess, 79.6ms inference, 1.0ms postprocess per image at shape (1, 3, 224, 640)\n",
      "\n",
      "image 1/1 D:\\yolo+cnn\\train\\images\\z4asu_png.rf.8dfa9cfeb999c97195b25543784d03b2.jpg: 224x640 1 4, 1 a, 1 s, 1 u, 1 z, 75.2ms\n",
      "Speed: 1.0ms preprocess, 75.2ms inference, 1.0ms postprocess per image at shape (1, 3, 224, 640)\n",
      "\n",
      "image 1/1 D:\\yolo+cnn\\train\\images\\z4asu_png.rf.d212451c0106283431f2abc61cfd664f.jpg: 224x640 1 4, 1 a, 1 s, 1 u, 1 z, 76.7ms\n",
      "Speed: 1.0ms preprocess, 76.7ms inference, 1.0ms postprocess per image at shape (1, 3, 224, 640)\n",
      "\n",
      "image 1/1 D:\\yolo+cnn\\train\\images\\z5q34_png.rf.236dfa48384f6bbf91ee5fba7f9b8b1b.jpg: 224x640 1 3, 1 4, 1 5, 1 q, 1 z, 76.7ms\n",
      "Speed: 1.6ms preprocess, 76.7ms inference, 1.0ms postprocess per image at shape (1, 3, 224, 640)\n",
      "\n",
      "image 1/1 D:\\yolo+cnn\\train\\images\\z5q34_png.rf.6468db8be31e33e4ddacd7d59d5ff487.jpg: 224x640 1 3, 1 4, 1 5, 1 q, 1 z, 104.2ms\n",
      "Speed: 1.1ms preprocess, 104.2ms inference, 1.0ms postprocess per image at shape (1, 3, 224, 640)\n",
      "\n",
      "image 1/1 D:\\yolo+cnn\\train\\images\\z5q34_png.rf.efd9b93d91ab8e0d90c3f1e105762e62.jpg: 224x640 1 3, 1 4, 1 5, 1 q, 1 z, 80.5ms\n",
      "Speed: 2.0ms preprocess, 80.5ms inference, 1.0ms postprocess per image at shape (1, 3, 224, 640)\n",
      "\n",
      "image 1/1 D:\\yolo+cnn\\train\\images\\z786o_png.rf.a8d3eb5be067b214d142a376268462a0.jpg: 224x640 1 6, 1 7, 1 8, 1 o, 1 z, 74.2ms\n",
      "Speed: 1.0ms preprocess, 74.2ms inference, 0.0ms postprocess per image at shape (1, 3, 224, 640)\n",
      "\n",
      "image 1/1 D:\\yolo+cnn\\train\\images\\z786o_png.rf.b66fb7f1e5a4d88caf1e1ced48ca1082.jpg: 224x640 1 6, 1 7, 1 8, 1 o, 1 z, 76.6ms\n",
      "Speed: 2.0ms preprocess, 76.6ms inference, 1.0ms postprocess per image at shape (1, 3, 224, 640)\n",
      "\n",
      "image 1/1 D:\\yolo+cnn\\train\\images\\z786o_png.rf.d3964b83dba582129afa7f671448e65c.jpg: 224x640 1 6, 1 7, 1 8, 1 o, 1 z, 74.2ms\n",
      "Speed: 1.3ms preprocess, 74.2ms inference, 1.0ms postprocess per image at shape (1, 3, 224, 640)\n",
      "\n",
      "image 1/1 D:\\yolo+cnn\\train\\images\\zbnx8_png.rf.6e02feceadac78f47360fef0f20a0cf0.jpg: 224x640 1 8, 1 b, 2 ns, 1 x, 1 z, 72.1ms\n",
      "Speed: 1.0ms preprocess, 72.1ms inference, 1.0ms postprocess per image at shape (1, 3, 224, 640)\n",
      "\n",
      "image 1/1 D:\\yolo+cnn\\train\\images\\zbnx8_png.rf.a3a8c99fa0de52567dc969a5f0189ee6.jpg: 224x640 1 8, 1 b, 1 n, 1 x, 1 z, 75.3ms\n",
      "Speed: 1.0ms preprocess, 75.3ms inference, 1.0ms postprocess per image at shape (1, 3, 224, 640)\n",
      "\n",
      "image 1/1 D:\\yolo+cnn\\train\\images\\zbnx8_png.rf.e12b4b95680ddfe62bb3b0a6bfb29ee5.jpg: 224x640 1 8, 1 b, 1 n, 1 x, 1 z, 87.1ms\n",
      "Speed: 37.0ms preprocess, 87.1ms inference, 1.0ms postprocess per image at shape (1, 3, 224, 640)\n",
      "\n",
      "image 1/1 D:\\yolo+cnn\\train\\images\\zepsu_png.rf.45225f5e12fc1c3a22641cf68edb53dd.jpg: 224x640 1 e, 1 p, 1 s, 1 u, 1 z, 74.0ms\n",
      "Speed: 1.2ms preprocess, 74.0ms inference, 1.0ms postprocess per image at shape (1, 3, 224, 640)\n",
      "\n",
      "image 1/1 D:\\yolo+cnn\\train\\images\\zepsu_png.rf.4ac562c7b066b462ad4cb1b0d0570995.jpg: 224x640 1 e, 1 p, 1 s, 1 u, 1 z, 78.5ms\n",
      "Speed: 1.0ms preprocess, 78.5ms inference, 1.0ms postprocess per image at shape (1, 3, 224, 640)\n",
      "\n",
      "image 1/1 D:\\yolo+cnn\\train\\images\\zepsu_png.rf.61d69652368db3016c3179ed330f93b0.jpg: 224x640 1 e, 1 p, 1 s, 1 u, 1 z, 79.6ms\n",
      "Speed: 1.0ms preprocess, 79.6ms inference, 1.0ms postprocess per image at shape (1, 3, 224, 640)\n",
      "\n",
      "image 1/1 D:\\yolo+cnn\\train\\images\\zi8mt_png.rf.0e5763b48e6ed4ce885a9a85247525f6.jpg: 224x640 1 8, 1 i, 1 m, 1 t, 1 z, 82.2ms\n",
      "Speed: 1.0ms preprocess, 82.2ms inference, 1.0ms postprocess per image at shape (1, 3, 224, 640)\n",
      "\n",
      "image 1/1 D:\\yolo+cnn\\train\\images\\zi8mt_png.rf.2ac11bf47279b850594d3f40b6da41f5.jpg: 224x640 1 8, 1 i, 1 m, 1 t, 1 z, 74.7ms\n",
      "Speed: 2.0ms preprocess, 74.7ms inference, 1.0ms postprocess per image at shape (1, 3, 224, 640)\n",
      "\n",
      "image 1/1 D:\\yolo+cnn\\train\\images\\zi8mt_png.rf.366524c1b84236809c15961490c7bd99.jpg: 224x640 1 8, 1 i, 1 m, 1 t, 1 z, 107.0ms\n",
      "Speed: 1.0ms preprocess, 107.0ms inference, 1.0ms postprocess per image at shape (1, 3, 224, 640)\n",
      "Character dataset generation completed!\n"
     ]
    }
   ],
   "source": [
    "import os\n",
    "import cv2\n",
    "from ultralytics import YOLO\n",
    "\n",
    "# Load your trained YOLO model\n",
    "model = YOLO(r\"D:\\yolo+cnn\\runs\\detect\\train\\weights\\best.pt\")\n",
    "\n",
    "# Paths\n",
    "input_images_folder = r\"D:\\yolo+cnn\\train\\images\"  # Folder with CAPTCHA images\n",
    "output_folder = r\"D:\\captcha_dataset_yolo\"  # Folder to save extracted characters\n",
    "\n",
    "# Create class-specific folders\n",
    "classes = \"23456789abcdefghijkmnopqrstuvwxyz\"  # Adjust if your dataset has special symbols\n",
    "for cls in classes:\n",
    "    os.makedirs(os.path.join(output_folder, cls), exist_ok=True)\n",
    "\n",
    "# Loop over CAPTCHA images\n",
    "for image_name in os.listdir(input_images_folder):\n",
    "    image_path = os.path.join(input_images_folder, image_name)\n",
    "    \n",
    "    # Perform inference\n",
    "    results = model(image_path)\n",
    "\n",
    "    # Load the original image\n",
    "    image = cv2.imread(image_path)\n",
    "    \n",
    "    # Process each detected object\n",
    "    for i, box in enumerate(results[0].boxes.xyxy):  # Iterate over bounding boxes\n",
    "        x1, y1, x2, y2 = map(int, box)  # Get coordinates\n",
    "        class_id = int(results[0].boxes.cls[i])  # Get predicted class ID\n",
    "        class_label = classes[class_id]  # Convert ID to label\n",
    "\n",
    "        # Crop the character region\n",
    "        cropped_char = image[y1:y2, x1:x2]\n",
    "\n",
    "        # Resize to a uniform size (e.g., 32x32)\n",
    "        resized_char = cv2.resize(cropped_char, (32, 32))\n",
    "\n",
    "        # Save the cropped character to the respective class folder\n",
    "        save_path = os.path.join(output_folder, class_label, f\"{image_name}_char{i}.jpg\")\n",
    "        cv2.imwrite(save_path, resized_char)\n",
    "\n",
    "print(\"Character dataset generation completed!\")\n"
   ]
  },
  {
   "cell_type": "code",
   "execution_count": 12,
   "metadata": {},
   "outputs": [],
   "source": [
    "import os\n",
    "import torch\n",
    "import torch.nn as nn\n",
    "import torch.optim as optim\n",
    "from torchvision import datasets, transforms, models\n",
    "from torch.utils.data import DataLoader"
   ]
  },
  {
   "cell_type": "code",
   "execution_count": 16,
   "metadata": {},
   "outputs": [],
   "source": [
    "# Define dataset directory\n",
    "dataset_dir = r\"D:\\captcha_dataset_yolo\"  # Path to your dataset folder"
   ]
  },
  {
   "cell_type": "code",
   "execution_count": 17,
   "metadata": {},
   "outputs": [],
   "source": [
    "# Define image transformations for training and validation\n",
    "transform = transforms.Compose([\n",
    "    transforms.Resize((32, 32)),  # Resize to 32x32 (or a suitable size for ResNet)\n",
    "    transforms.ToTensor(),\n",
    "    transforms.Normalize(mean=[0.485, 0.456, 0.406], std=[0.229, 0.224, 0.225]),  # Standard normalization\n",
    "])"
   ]
  },
  {
   "cell_type": "code",
   "execution_count": 18,
   "metadata": {},
   "outputs": [],
   "source": [
    "# Load the dataset with ImageFolder\n",
    "dataset = datasets.ImageFolder(root=dataset_dir, transform=transform)\n",
    "\n",
    "# Split dataset into training and validation sets (80-20 split)\n",
    "train_size = int(0.8 * len(dataset))\n",
    "val_size = len(dataset) - train_size\n",
    "train_dataset, val_dataset = torch.utils.data.random_split(dataset, [train_size, val_size])"
   ]
  },
  {
   "cell_type": "code",
   "execution_count": 19,
   "metadata": {},
   "outputs": [],
   "source": [
    "# Create data loaders for training and validation\n",
    "train_loader = DataLoader(train_dataset, batch_size=32, shuffle=True)\n",
    "val_loader = DataLoader(val_dataset, batch_size=32, shuffle=False)"
   ]
  },
  {
   "cell_type": "code",
   "execution_count": 24,
   "metadata": {},
   "outputs": [
    {
     "data": {
      "text/plain": [
       "ResNet(\n",
       "  (conv1): Conv2d(3, 64, kernel_size=(7, 7), stride=(2, 2), padding=(3, 3), bias=False)\n",
       "  (bn1): BatchNorm2d(64, eps=1e-05, momentum=0.1, affine=True, track_running_stats=True)\n",
       "  (relu): ReLU(inplace=True)\n",
       "  (maxpool): MaxPool2d(kernel_size=3, stride=2, padding=1, dilation=1, ceil_mode=False)\n",
       "  (layer1): Sequential(\n",
       "    (0): BasicBlock(\n",
       "      (conv1): Conv2d(64, 64, kernel_size=(3, 3), stride=(1, 1), padding=(1, 1), bias=False)\n",
       "      (bn1): BatchNorm2d(64, eps=1e-05, momentum=0.1, affine=True, track_running_stats=True)\n",
       "      (relu): ReLU(inplace=True)\n",
       "      (conv2): Conv2d(64, 64, kernel_size=(3, 3), stride=(1, 1), padding=(1, 1), bias=False)\n",
       "      (bn2): BatchNorm2d(64, eps=1e-05, momentum=0.1, affine=True, track_running_stats=True)\n",
       "    )\n",
       "    (1): BasicBlock(\n",
       "      (conv1): Conv2d(64, 64, kernel_size=(3, 3), stride=(1, 1), padding=(1, 1), bias=False)\n",
       "      (bn1): BatchNorm2d(64, eps=1e-05, momentum=0.1, affine=True, track_running_stats=True)\n",
       "      (relu): ReLU(inplace=True)\n",
       "      (conv2): Conv2d(64, 64, kernel_size=(3, 3), stride=(1, 1), padding=(1, 1), bias=False)\n",
       "      (bn2): BatchNorm2d(64, eps=1e-05, momentum=0.1, affine=True, track_running_stats=True)\n",
       "    )\n",
       "  )\n",
       "  (layer2): Sequential(\n",
       "    (0): BasicBlock(\n",
       "      (conv1): Conv2d(64, 128, kernel_size=(3, 3), stride=(2, 2), padding=(1, 1), bias=False)\n",
       "      (bn1): BatchNorm2d(128, eps=1e-05, momentum=0.1, affine=True, track_running_stats=True)\n",
       "      (relu): ReLU(inplace=True)\n",
       "      (conv2): Conv2d(128, 128, kernel_size=(3, 3), stride=(1, 1), padding=(1, 1), bias=False)\n",
       "      (bn2): BatchNorm2d(128, eps=1e-05, momentum=0.1, affine=True, track_running_stats=True)\n",
       "      (downsample): Sequential(\n",
       "        (0): Conv2d(64, 128, kernel_size=(1, 1), stride=(2, 2), bias=False)\n",
       "        (1): BatchNorm2d(128, eps=1e-05, momentum=0.1, affine=True, track_running_stats=True)\n",
       "      )\n",
       "    )\n",
       "    (1): BasicBlock(\n",
       "      (conv1): Conv2d(128, 128, kernel_size=(3, 3), stride=(1, 1), padding=(1, 1), bias=False)\n",
       "      (bn1): BatchNorm2d(128, eps=1e-05, momentum=0.1, affine=True, track_running_stats=True)\n",
       "      (relu): ReLU(inplace=True)\n",
       "      (conv2): Conv2d(128, 128, kernel_size=(3, 3), stride=(1, 1), padding=(1, 1), bias=False)\n",
       "      (bn2): BatchNorm2d(128, eps=1e-05, momentum=0.1, affine=True, track_running_stats=True)\n",
       "    )\n",
       "  )\n",
       "  (layer3): Sequential(\n",
       "    (0): BasicBlock(\n",
       "      (conv1): Conv2d(128, 256, kernel_size=(3, 3), stride=(2, 2), padding=(1, 1), bias=False)\n",
       "      (bn1): BatchNorm2d(256, eps=1e-05, momentum=0.1, affine=True, track_running_stats=True)\n",
       "      (relu): ReLU(inplace=True)\n",
       "      (conv2): Conv2d(256, 256, kernel_size=(3, 3), stride=(1, 1), padding=(1, 1), bias=False)\n",
       "      (bn2): BatchNorm2d(256, eps=1e-05, momentum=0.1, affine=True, track_running_stats=True)\n",
       "      (downsample): Sequential(\n",
       "        (0): Conv2d(128, 256, kernel_size=(1, 1), stride=(2, 2), bias=False)\n",
       "        (1): BatchNorm2d(256, eps=1e-05, momentum=0.1, affine=True, track_running_stats=True)\n",
       "      )\n",
       "    )\n",
       "    (1): BasicBlock(\n",
       "      (conv1): Conv2d(256, 256, kernel_size=(3, 3), stride=(1, 1), padding=(1, 1), bias=False)\n",
       "      (bn1): BatchNorm2d(256, eps=1e-05, momentum=0.1, affine=True, track_running_stats=True)\n",
       "      (relu): ReLU(inplace=True)\n",
       "      (conv2): Conv2d(256, 256, kernel_size=(3, 3), stride=(1, 1), padding=(1, 1), bias=False)\n",
       "      (bn2): BatchNorm2d(256, eps=1e-05, momentum=0.1, affine=True, track_running_stats=True)\n",
       "    )\n",
       "  )\n",
       "  (layer4): Sequential(\n",
       "    (0): BasicBlock(\n",
       "      (conv1): Conv2d(256, 512, kernel_size=(3, 3), stride=(2, 2), padding=(1, 1), bias=False)\n",
       "      (bn1): BatchNorm2d(512, eps=1e-05, momentum=0.1, affine=True, track_running_stats=True)\n",
       "      (relu): ReLU(inplace=True)\n",
       "      (conv2): Conv2d(512, 512, kernel_size=(3, 3), stride=(1, 1), padding=(1, 1), bias=False)\n",
       "      (bn2): BatchNorm2d(512, eps=1e-05, momentum=0.1, affine=True, track_running_stats=True)\n",
       "      (downsample): Sequential(\n",
       "        (0): Conv2d(256, 512, kernel_size=(1, 1), stride=(2, 2), bias=False)\n",
       "        (1): BatchNorm2d(512, eps=1e-05, momentum=0.1, affine=True, track_running_stats=True)\n",
       "      )\n",
       "    )\n",
       "    (1): BasicBlock(\n",
       "      (conv1): Conv2d(512, 512, kernel_size=(3, 3), stride=(1, 1), padding=(1, 1), bias=False)\n",
       "      (bn1): BatchNorm2d(512, eps=1e-05, momentum=0.1, affine=True, track_running_stats=True)\n",
       "      (relu): ReLU(inplace=True)\n",
       "      (conv2): Conv2d(512, 512, kernel_size=(3, 3), stride=(1, 1), padding=(1, 1), bias=False)\n",
       "      (bn2): BatchNorm2d(512, eps=1e-05, momentum=0.1, affine=True, track_running_stats=True)\n",
       "    )\n",
       "  )\n",
       "  (avgpool): AdaptiveAvgPool2d(output_size=(1, 1))\n",
       "  (fc): Linear(in_features=512, out_features=33, bias=True)\n",
       ")"
      ]
     },
     "execution_count": 24,
     "metadata": {},
     "output_type": "execute_result"
    }
   ],
   "source": [
    "# Move model to GPU if available\n",
    "device = torch.device(\"cuda\" if torch.cuda.is_available() else \"cpu\")\n",
    "model.to(device)"
   ]
  },
  {
   "cell_type": "code",
   "execution_count": 20,
   "metadata": {},
   "outputs": [
    {
     "name": "stderr",
     "output_type": "stream",
     "text": [
      "c:\\Users\\chnis\\AppData\\Local\\Programs\\Python\\Python312\\Lib\\site-packages\\torchvision\\models\\_utils.py:208: UserWarning: The parameter 'pretrained' is deprecated since 0.13 and may be removed in the future, please use 'weights' instead.\n",
      "  warnings.warn(\n",
      "c:\\Users\\chnis\\AppData\\Local\\Programs\\Python\\Python312\\Lib\\site-packages\\torchvision\\models\\_utils.py:223: UserWarning: Arguments other than a weight enum or `None` for 'weights' are deprecated since 0.13 and may be removed in the future. The current behavior is equivalent to passing `weights=ResNet18_Weights.IMAGENET1K_V1`. You can also use `weights=ResNet18_Weights.DEFAULT` to get the most up-to-date weights.\n",
      "  warnings.warn(msg)\n",
      "Downloading: \"https://download.pytorch.org/models/resnet18-f37072fd.pth\" to C:\\Users\\chnis/.cache\\torch\\hub\\checkpoints\\resnet18-f37072fd.pth\n",
      "100%|██████████| 44.7M/44.7M [00:14<00:00, 3.18MB/s]\n"
     ]
    }
   ],
   "source": [
    "# Load pre-trained ResNet18 model\n",
    "model = models.resnet18(pretrained=True)\n",
    "\n",
    "# Modify the final fully connected layer to match the number of classes\n",
    "num_classes = len(os.listdir(dataset_dir))  # Number of character classes\n",
    "model.fc = nn.Linear(model.fc.in_features, num_classes)"
   ]
  },
  {
   "cell_type": "code",
   "execution_count": 21,
   "metadata": {},
   "outputs": [],
   "source": [
    "# Define loss function and optimizer\n",
    "criterion = nn.CrossEntropyLoss()\n",
    "optimizer = optim.Adam(model.parameters(), lr=0.001)"
   ]
  },
  {
   "cell_type": "code",
   "execution_count": 25,
   "metadata": {},
   "outputs": [],
   "source": [
    "# Training function\n",
    "def train(model, train_loader, val_loader, criterion, optimizer, num_epochs=10):\n",
    "    for epoch in range(num_epochs):\n",
    "        model.train()  # Set the model to training mode\n",
    "        running_loss = 0.0\n",
    "        correct = 0\n",
    "        total = 0\n",
    "        \n",
    "        for inputs, labels in train_loader:\n",
    "            inputs, labels = inputs.to(device), labels.to(device)\n",
    "\n",
    "            # Zero the gradients\n",
    "            optimizer.zero_grad()\n",
    "\n",
    "            # Forward pass\n",
    "            outputs = model(inputs)\n",
    "\n",
    "            # Compute loss\n",
    "            loss = criterion(outputs, labels)\n",
    "\n",
    "            # Backward pass and optimization\n",
    "            loss.backward()\n",
    "            optimizer.step()\n",
    "\n",
    "            # Track the loss and accuracy\n",
    "            running_loss += loss.item()\n",
    "            _, predicted = torch.max(outputs, 1)\n",
    "            total += labels.size(0)\n",
    "            correct += (predicted == labels).sum().item()\n",
    "\n",
    "        # Compute and print average loss and accuracy for the epoch\n",
    "        epoch_loss = running_loss / len(train_loader)\n",
    "        epoch_accuracy = 100 * correct / total\n",
    "        print(f\"Epoch {epoch+1}/{num_epochs}, Loss: {epoch_loss:.4f}, Accuracy: {epoch_accuracy:.2f}%\")\n",
    "\n",
    "        # Validation step after each epoch\n",
    "        model.eval()  # Set the model to evaluation mode\n",
    "        val_loss = 0.0\n",
    "        val_correct = 0\n",
    "        val_total = 0\n",
    "        \n",
    "        with torch.no_grad():\n",
    "            for inputs, labels in val_loader:\n",
    "                inputs, labels = inputs.to(device), labels.to(device)\n",
    "                outputs = model(inputs)\n",
    "                loss = criterion(outputs, labels)\n",
    "                val_loss += loss.item()\n",
    "\n",
    "                _, predicted = torch.max(outputs, 1)\n",
    "                val_total += labels.size(0)\n",
    "                val_correct += (predicted == labels).sum().item()\n",
    "\n",
    "        val_accuracy = 100 * val_correct / val_total\n",
    "        val_loss = val_loss / len(val_loader)\n",
    "        print(f\"Validation Loss: {val_loss:.4f}, Validation Accuracy: {val_accuracy:.2f}%\")\n",
    "\n"
   ]
  },
  {
   "cell_type": "code",
   "execution_count": 26,
   "metadata": {},
   "outputs": [
    {
     "name": "stdout",
     "output_type": "stream",
     "text": [
      "Epoch 1/20, Loss: 0.6823, Accuracy: 82.94%\n",
      "Validation Loss: 0.1591, Validation Accuracy: 96.01%\n",
      "Epoch 2/20, Loss: 0.2018, Accuracy: 95.29%\n",
      "Validation Loss: 0.0798, Validation Accuracy: 98.08%\n",
      "Epoch 3/20, Loss: 0.1342, Accuracy: 97.04%\n",
      "Validation Loss: 0.1737, Validation Accuracy: 96.49%\n",
      "Epoch 4/20, Loss: 0.1104, Accuracy: 97.68%\n",
      "Validation Loss: 0.9141, Validation Accuracy: 94.25%\n",
      "Epoch 5/20, Loss: 0.1910, Accuracy: 96.28%\n",
      "Validation Loss: 0.0849, Validation Accuracy: 97.60%\n",
      "Epoch 6/20, Loss: 0.0960, Accuracy: 97.92%\n",
      "Validation Loss: 0.0179, Validation Accuracy: 99.68%\n",
      "Epoch 7/20, Loss: 0.0530, Accuracy: 98.96%\n",
      "Validation Loss: 0.0315, Validation Accuracy: 99.36%\n",
      "Epoch 8/20, Loss: 0.1363, Accuracy: 97.48%\n",
      "Validation Loss: 0.0411, Validation Accuracy: 99.52%\n",
      "Epoch 9/20, Loss: 0.1584, Accuracy: 96.96%\n",
      "Validation Loss: 0.0443, Validation Accuracy: 99.52%\n",
      "Epoch 10/20, Loss: 0.1152, Accuracy: 97.68%\n",
      "Validation Loss: 0.0387, Validation Accuracy: 99.04%\n",
      "Epoch 11/20, Loss: 0.0661, Accuracy: 98.80%\n",
      "Validation Loss: 0.0666, Validation Accuracy: 98.72%\n",
      "Epoch 12/20, Loss: 0.0699, Accuracy: 98.36%\n",
      "Validation Loss: 0.0475, Validation Accuracy: 99.52%\n",
      "Epoch 13/20, Loss: 0.0499, Accuracy: 98.84%\n",
      "Validation Loss: 0.0408, Validation Accuracy: 99.36%\n",
      "Epoch 14/20, Loss: 0.0330, Accuracy: 99.36%\n",
      "Validation Loss: 0.0406, Validation Accuracy: 99.36%\n",
      "Epoch 15/20, Loss: 0.0421, Accuracy: 99.00%\n",
      "Validation Loss: 0.0427, Validation Accuracy: 99.36%\n",
      "Epoch 16/20, Loss: 0.0506, Accuracy: 98.96%\n",
      "Validation Loss: 0.0551, Validation Accuracy: 99.04%\n",
      "Epoch 17/20, Loss: 0.0451, Accuracy: 99.20%\n",
      "Validation Loss: 0.0400, Validation Accuracy: 99.52%\n",
      "Epoch 18/20, Loss: 0.0265, Accuracy: 99.60%\n",
      "Validation Loss: 0.0405, Validation Accuracy: 99.52%\n",
      "Epoch 19/20, Loss: 0.0362, Accuracy: 99.52%\n",
      "Validation Loss: 0.0464, Validation Accuracy: 99.04%\n",
      "Epoch 20/20, Loss: 0.0691, Accuracy: 98.60%\n",
      "Validation Loss: 0.0433, Validation Accuracy: 99.52%\n"
     ]
    }
   ],
   "source": [
    "# Start training\n",
    "train(model, train_loader, val_loader, criterion, optimizer, num_epochs=20)"
   ]
  },
  {
   "cell_type": "code",
   "execution_count": 27,
   "metadata": {},
   "outputs": [],
   "source": [
    "torch.save(model.state_dict(), 'resnet_trained_model.pth')\n"
   ]
  },
  {
   "cell_type": "code",
   "execution_count": null,
   "metadata": {},
   "outputs": [],
   "source": []
  }
 ],
 "metadata": {
  "kernelspec": {
   "display_name": "Python 3",
   "language": "python",
   "name": "python3"
  },
  "language_info": {
   "codemirror_mode": {
    "name": "ipython",
    "version": 3
   },
   "file_extension": ".py",
   "mimetype": "text/x-python",
   "name": "python",
   "nbconvert_exporter": "python",
   "pygments_lexer": "ipython3",
   "version": "3.12.3"
  }
 },
 "nbformat": 4,
 "nbformat_minor": 2
}
